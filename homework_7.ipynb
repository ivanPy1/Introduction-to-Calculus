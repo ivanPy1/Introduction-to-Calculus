{
 "cells": [
  {
   "cell_type": "markdown",
   "id": "253a4955",
   "metadata": {},
   "source": [
    "# Практическое задание"
   ]
  },
  {
   "cell_type": "markdown",
   "id": "5c834068",
   "metadata": {},
   "source": [
    "## Урок 7. Производная функции одной переменной. Часть 2"
   ]
  },
  {
   "cell_type": "markdown",
   "id": "6cd2f2fe",
   "metadata": {},
   "source": [
    "$$ $$"
   ]
  },
  {
   "cell_type": "markdown",
   "id": "b7a0b4e3",
   "metadata": {},
   "source": [
    "### 1) Найти интервалы возрастания и убывания функций:"
   ]
  },
  {
   "cell_type": "markdown",
   "id": "69bed12b",
   "metadata": {},
   "source": [
    "$$1)\\quad f(x) = {x+e^{-x}} $$"
   ]
  },
  {
   "cell_type": "markdown",
   "id": "7592d361",
   "metadata": {},
   "source": [
    "$$ Первая \\quad производная: f′(x)=1-e^{-x} $$"
   ]
  },
  {
   "cell_type": "markdown",
   "id": "c5c6e4a9",
   "metadata": {},
   "source": [
    "$$ приравниваем \\quadпроизводную\\quad к\\quad нулю\\quad для\\quad нахождения\\quad нулей\\quad функции $$\n",
    "$$ \\quad $$\n",
    "$$ e^{x}-1=0 $$"
   ]
  },
  {
   "cell_type": "markdown",
   "id": "c271fd6a",
   "metadata": {},
   "source": [
    "$$ (-∞ ;0),\\quad f'(x) < 0,\\quad функция\\quad убывает $$\n",
    "\n",
    "$$(0; +∞),\\quad f'(x) > 0,\\quad функция\\quad возрастает $$"
   ]
  },
  {
   "cell_type": "markdown",
   "id": "62378c6e",
   "metadata": {},
   "source": [
    "$$ В\\quad окрестности\\quad точки\\quad x = 0\\quad производная\\quad функции\\quad меняет\\quad знак\\quad с\\quad (-) на\\quad (+).\\quad\n",
    "Следовательно,\\quad точка\\quad x = 0\\quad -\\quad точка\\quad минимума.$$"
   ]
  },
  {
   "cell_type": "markdown",
   "id": "01d960ea",
   "metadata": {},
   "source": [
    "$$ $$"
   ]
  },
  {
   "cell_type": "markdown",
   "id": "6b32b890",
   "metadata": {},
   "source": [
    "$$2) f(x) = {x\\,\\ln\\left(x\\right)}$$"
   ]
  },
  {
   "cell_type": "markdown",
   "id": "6aca5c69",
   "metadata": {},
   "source": [
    "$$ Первая \\quad производная: f′(x)=ln(x)+1 $$"
   ]
  },
  {
   "cell_type": "markdown",
   "id": "051587b3",
   "metadata": {},
   "source": [
    "$$ приравниваем \\quadпроизводную\\quad к\\quad нулю\\quad для\\quad нахождения\\quad нулей\\quad функции $$\n",
    "$$ \\quad $$\n",
    "$$ ln(x)+1=0 $$"
   ]
  },
  {
   "cell_type": "markdown",
   "id": "9cb99097",
   "metadata": {},
   "source": [
    "$$ x1=0.36788$$"
   ]
  },
  {
   "cell_type": "markdown",
   "id": "b86f5a50",
   "metadata": {},
   "source": [
    "$$ (-∞ ;0.36788),\\quad f'(x) < 0,\\quad функция\\quad убывает$$\n",
    "\n",
    "$$(0.36788; +∞),\\quad f'(x) > 0,\\quad функция\\quad возрастает$$"
   ]
  },
  {
   "cell_type": "markdown",
   "id": "65a60cc0",
   "metadata": {},
   "source": [
    "$$ В\\quad окрестности\\quad точки\\quad x = 0.36788\\quad производная\\quad функции\\quad меняет\\quad знак\\quad с\\quad (-) на\\quad (+).\\quad Следовательно,\\quad точка\\quad x = 0.36788\\quad - точка\\quad минимума. $$"
   ]
  },
  {
   "cell_type": "markdown",
   "id": "e3d79c3c",
   "metadata": {},
   "source": [
    "$$ 3)\\quad y = {\\frac{1}{1-x^{2}}} $$"
   ]
  },
  {
   "cell_type": "markdown",
   "id": "366a2d24",
   "metadata": {},
   "source": [
    "$$ для\\quad начала\\quad найдем\\quad точки\\quad разрыва\\quad функции $$ "
   ]
  },
  {
   "cell_type": "markdown",
   "id": "e0ed3dcd",
   "metadata": {},
   "source": [
    "$$ \\quad x1 = -1, \\quad x2 = 1 $$"
   ]
  },
  {
   "cell_type": "markdown",
   "id": "636189af",
   "metadata": {},
   "source": [
    "$$ \\quad так\\quad как\\quad f(-x)\\quad = \\quad f(x)\\quad - \\quadфункция \\quadчетная $$"
   ]
  },
  {
   "cell_type": "markdown",
   "id": "3c436d20",
   "metadata": {},
   "source": [
    "$$ далее\\quad находим\\quad нули\\quad функции\\quad путем\\quad приравнивания\\quad производной\\quad к\\quad нулю\\quad - x = 0 $$"
   ]
  },
  {
   "cell_type": "markdown",
   "id": "ac6ab28e",
   "metadata": {},
   "source": [
    "$$(-∞; -1),\\quad f'(x) < 0 - функция\\quad  убывает $$\n",
    "$$(-1;0),\\quad  f'(x) < 0 - функция\\quad  убывает $$\n",
    "$$(0;1),\\quad  f'(x) > 0 - функция\\quad  возрастает $$\n",
    "$$(1; +∞),\\quad  f'(x) > 0 - функция\\quad  возрастает $$"
   ]
  },
  {
   "cell_type": "markdown",
   "id": "20adab4b",
   "metadata": {},
   "source": [
    "$$ Так\\quad как\\quadв\\quad окрестности\\quad точки\\quad x = 0\\quad производная\\quad функции\\quad меняет\\quad знак\\quad \\quadс\\quad (-)\\quad на\\quad (+).\\quad Следовательно,\\quad точка\\quad x = 0\\quad - точка\\quad минимума. $$"
   ]
  },
  {
   "cell_type": "markdown",
   "id": "fec209c3",
   "metadata": {},
   "source": [
    "### 2) Найти экстремумы функций"
   ]
  },
  {
   "cell_type": "markdown",
   "id": "67238dfc",
   "metadata": {},
   "source": [
    "$$1)\\quad f(x) = x^{3}-3\\,x+1 $$"
   ]
  },
  {
   "cell_type": "markdown",
   "id": "64057ce4",
   "metadata": {},
   "source": [
    "$$ {3\\,x^{2}-3} = 0 $$ "
   ]
  },
  {
   "cell_type": "markdown",
   "id": "3612de4b",
   "metadata": {},
   "source": [
    "$$ {3\\,\\left(x^{2}-1\\right)} = 0 $$"
   ]
  },
  {
   "cell_type": "markdown",
   "id": "1d764e5d",
   "metadata": {},
   "source": [
    "$$ {3\\,\\left(x-1\\right)\\,\\left(x+1\\right)} = 0$$"
   ]
  },
  {
   "cell_type": "markdown",
   "id": "6e8b2353",
   "metadata": {},
   "source": [
    "$$ \\begin{gathered}x_{1}=1\\\\x_{2}=-1\\end{gathered}$$"
   ]
  },
  {
   "cell_type": "markdown",
   "id": "5cd85c63",
   "metadata": {},
   "source": [
    "#### графическая реализация"
   ]
  },
  {
   "cell_type": "code",
   "execution_count": 1,
   "id": "8ba66602",
   "metadata": {},
   "outputs": [
    {
     "data": {
      "image/png": "[encoded data removed]",
      "text/plain": [
       "<Figure size 432x288 with 1 Axes>"
      ]
     },
     "metadata": {
      "needs_background": "light"
     },
     "output_type": "display_data"
    }
   ],
   "source": [
    "import matplotlib.pyplot as plt\n",
    "import numpy as np\n",
    "\n",
    "import warnings\n",
    "warnings.filterwarnings(\"ignore\")\n",
    "\n",
    "x = np.arange(-2, 2, 0.05)\n",
    "y = 3 * (x - 1) * (x + 1)\n",
    "\n",
    "fig, ax = plt.subplots()\n",
    "ax.plot(x, y)\n",
    "ax.scatter(-1, 0, c ='r')\n",
    "ax.scatter(1, 0, c ='r')\n",
    "plt.show()"
   ]
  },
  {
   "cell_type": "markdown",
   "id": "f81c97c5",
   "metadata": {},
   "source": [
    "$$ $$"
   ]
  },
  {
   "cell_type": "markdown",
   "id": "4fe69f82",
   "metadata": {},
   "source": [
    "$$2) \\quad y = e^{x^{2}-4\\,x+5} $$"
   ]
  },
  {
   "cell_type": "markdown",
   "id": "0aa6abc4",
   "metadata": {},
   "source": [
    "$$ e^{x^{2}-4\\,x+5}(2x-4)$$"
   ]
  },
  {
   "cell_type": "markdown",
   "id": "d914e7fa",
   "metadata": {},
   "source": [
    "$$ {2\\,e^{\\left(x-4\\right)\\,x+5}\\,\\left(x-2\\right)} = 0$$ "
   ]
  },
  {
   "cell_type": "markdown",
   "id": "926a53a5",
   "metadata": {},
   "source": [
    "$$ {2\\,e^{x^{2}-4\\,x+5}\\,\\left(x-2\\right)} = 0 $$"
   ]
  },
  {
   "cell_type": "markdown",
   "id": "f141d04a",
   "metadata": {},
   "source": [
    "$$ {2\\,e^{x^{2}-4\\,x+5}\\,x-4\\,e^{x^{2}-4\\,x+5}} = 0 $$"
   ]
  },
  {
   "cell_type": "markdown",
   "id": "6113a2bd",
   "metadata": {},
   "source": [
    "$$ x = 2 $$"
   ]
  },
  {
   "cell_type": "markdown",
   "id": "10fcb2a3",
   "metadata": {},
   "source": [
    "#### графическая реализация"
   ]
  },
  {
   "cell_type": "code",
   "execution_count": 2,
   "id": "af533186",
   "metadata": {},
   "outputs": [
    {
     "data": {
      "image/png": "[encoded data removed]",
      "text/plain": [
       "<Figure size 432x288 with 1 Axes>"
      ]
     },
     "metadata": {
      "needs_background": "light"
     },
     "output_type": "display_data"
    }
   ],
   "source": [
    "import matplotlib.pyplot as plt\n",
    "import numpy as np\n",
    "from math import e \n",
    "\n",
    "x = np.arange(0, 3, 0.05)\n",
    "part_1 = x ** 2 - 4 * x + 5\n",
    "part_2 = e ** part_1\n",
    "\n",
    "y = 2 * part_2 * x - 4 * part_2\n",
    "\n",
    "fig, ax = plt.subplots()\n",
    "ax.plot(x, y)\n",
    "ax.scatter(2, 0, c ='r')\n",
    "plt.show()"
   ]
  },
  {
   "cell_type": "markdown",
   "id": "9d60bad7",
   "metadata": {},
   "source": [
    "$$ $$"
   ]
  },
  {
   "cell_type": "markdown",
   "id": "27ef62d3",
   "metadata": {},
   "source": [
    "$$ 3)\\quad  y = x − arctg x $$"
   ]
  },
  {
   "cell_type": "markdown",
   "id": "7eb6a797",
   "metadata": {},
   "source": [
    "$$ {1-\\frac{1}{x^{2}+1}} = 0$$"
   ]
  },
  {
   "cell_type": "markdown",
   "id": "99c58ed5",
   "metadata": {},
   "source": [
    "$$ {\\frac{x^{2}}{x^{2}+1}} = 0 $$"
   ]
  },
  {
   "cell_type": "markdown",
   "id": "3bdd2880",
   "metadata": {},
   "source": [
    "$$ x = 0 $$"
   ]
  },
  {
   "cell_type": "markdown",
   "id": "c14b08fe",
   "metadata": {},
   "source": [
    "#### графическая реализация "
   ]
  },
  {
   "cell_type": "code",
   "execution_count": 3,
   "id": "7df0a3ec",
   "metadata": {},
   "outputs": [
    {
     "data": {
      "image/png": "[encoded data removed]",
      "text/plain": [
       "<Figure size 432x288 with 1 Axes>"
      ]
     },
     "metadata": {
      "needs_background": "light"
     },
     "output_type": "display_data"
    }
   ],
   "source": [
    "import matplotlib.pyplot as plt\n",
    "import numpy as np\n",
    "\n",
    "\n",
    "x = np.arange(-1, 1, 0.01)\n",
    "\n",
    "y = x ** 2 / (x ** 2 + 1)\n",
    "\n",
    "fig, ax = plt.subplots()\n",
    "ax.plot(x, y)\n",
    "ax.scatter(0, 0, c ='r')\n",
    "plt.show()"
   ]
  },
  {
   "cell_type": "markdown",
   "id": "7d3198d1",
   "metadata": {},
   "source": [
    "$$ $$"
   ]
  },
  {
   "cell_type": "markdown",
   "id": "bd939573",
   "metadata": {},
   "source": [
    "### 3) Найти интервалы выпуклости и точки перегиба функций:"
   ]
  },
  {
   "cell_type": "markdown",
   "id": "f67da3c4",
   "metadata": {},
   "source": [
    "$$ 1) \\quad y = {e^{\\left(-x\\right)^{2}}}$$"
   ]
  },
  {
   "cell_type": "markdown",
   "id": "31357f51",
   "metadata": {},
   "source": [
    "$$ Вторая \\quadпроизводная: f″(x)=4\\,e^{-2\\,x}$$"
   ]
  },
  {
   "cell_type": "markdown",
   "id": "50c41d6c",
   "metadata": {},
   "source": [
    "$$ полученную \\quad функцию \\quadприравниваем\\quad к\\quad 0\\quad для\\quad получения\\quad корней\\quad уравнения: \\frac{4}{e^{2\\,x}}=0 $$\n"
   ]
  },
  {
   "cell_type": "markdown",
   "id": "b58577f5",
   "metadata": {},
   "source": [
    "$$Для\\quad данного \\quad уравнения \\quad корней \\quad нет.$$"
   ]
  },
  {
   "cell_type": "markdown",
   "id": "8e3fc2f3",
   "metadata": {},
   "source": [
    "$$ $$"
   ]
  },
  {
   "cell_type": "markdown",
   "id": "b9571581",
   "metadata": {},
   "source": [
    "$$2)\\quad y = {\\cos\\left(x\\right)} $$"
   ]
  },
  {
   "cell_type": "markdown",
   "id": "4f14f36d",
   "metadata": {},
   "source": [
    "$$ так\\quad как\\quad f(-x)=f(x),\\quad то\\quad функция\\quad является\\quad четной.$$"
   ]
  },
  {
   "cell_type": "markdown",
   "id": "cccfecdc",
   "metadata": {},
   "source": [
    "$$ Вторая\\quad производная:\\quad f″(x)=-cos(x)$$"
   ]
  },
  {
   "cell_type": "markdown",
   "id": "9ac83c50",
   "metadata": {},
   "source": [
    "$$ полученную \\quad функцию \\quadприравниваем\\quad к\\quad 0\\quad для\\quad получения\\quad корней\\quad уравнения: (-cos(x))=0 $$\n"
   ]
  },
  {
   "cell_type": "markdown",
   "id": "373a47e8",
   "metadata": {},
   "source": [
    "$$точки \\quadперегиба:$$\n",
    "$$x1=7.8539816$$\n",
    "$$x2=10.995574$$"
   ]
  },
  {
   "cell_type": "markdown",
   "id": "068b14d6",
   "metadata": {},
   "source": [
    "$$(-∞ ;7.8539816),\\quad  f''(x) < 0,\\quad  функция\\quad выпукла$$\n",
    "\n",
    "$$(7.8539816; 10.995574),\\quad  f''(x) > 0,\\quad  функция\\quad  вогнута$$\n",
    "\n",
    "$$(10.995574; +∞),\\quad  f''(x) < 0,\\quad  функция\\quad  выпукла$$"
   ]
  },
  {
   "cell_type": "markdown",
   "id": "86473702",
   "metadata": {},
   "source": [
    "$$ $$ "
   ]
  },
  {
   "cell_type": "markdown",
   "id": "bab55849",
   "metadata": {},
   "source": [
    "$$ 3) \\quad y = {x^{5}-10\\,x^{2}+7\\,x} $$"
   ]
  },
  {
   "cell_type": "markdown",
   "id": "6b248e8d",
   "metadata": {},
   "source": [
    "$$ Вторая\\quad производная:\\quad f″(x)=20·x^{3}-20$$"
   ]
  },
  {
   "cell_type": "markdown",
   "id": "655481cc",
   "metadata": {},
   "source": [
    "$$ полученную \\quad функцию \\quadприравниваем\\quad к\\quad 0\\quad для\\quad получения\\quad корней\\quad уравнения: (20·x^{3}-20)=0 $$\n"
   ]
  },
  {
   "cell_type": "markdown",
   "id": "1bbde9dd",
   "metadata": {},
   "source": [
    "$$точки \\quadперегиба:$$\n",
    "$$x1=1$$"
   ]
  },
  {
   "cell_type": "markdown",
   "id": "8d93a56e",
   "metadata": {},
   "source": [
    "$$ (-∞ ;1), \\quad f''(x) < 0,\\quad функция \\quadвыпукла $$\n",
    "\n",
    "\n",
    "$$(1; +∞), \\quad f''(x) > 0,\\quad функция\\quad вогнута $$"
   ]
  },
  {
   "cell_type": "markdown",
   "id": "9628933d",
   "metadata": {},
   "source": [
    "### 4) Найти асимптоты графиков функций"
   ]
  },
  {
   "cell_type": "markdown",
   "id": "230e5184",
   "metadata": {},
   "source": [
    "решим задание с помощью программной реализации (библиотека SymPy)"
   ]
  },
  {
   "cell_type": "markdown",
   "id": "4d8bf7fc",
   "metadata": {},
   "source": [
    "$$ 1)\\quad y = {\\frac{3\\,x}{x+2}} $$"
   ]
  },
  {
   "cell_type": "markdown",
   "id": "795dd45f",
   "metadata": {},
   "source": [
    "$$1.\\quad для\\quad начала\\quad найдем\\quad наклонные\\quad асимптоты\\quad y = kx + b.$$"
   ]
  },
  {
   "cell_type": "code",
   "execution_count": 4,
   "id": "f3c6e6db",
   "metadata": {},
   "outputs": [],
   "source": [
    "from sympy import *\n",
    "\n",
    "x = Symbol('x')"
   ]
  },
  {
   "cell_type": "code",
   "execution_count": 5,
   "id": "9503e47b",
   "metadata": {},
   "outputs": [
    {
     "name": "stdout",
     "output_type": "stream",
     "text": [
      "k = 0\n"
     ]
    }
   ],
   "source": [
    "k = limit((3*x) / (x + 2)/x, x, oo)\n",
    "\n",
    "print(f'k = {k}')"
   ]
  },
  {
   "cell_type": "code",
   "execution_count": 6,
   "id": "ac77c716",
   "metadata": {},
   "outputs": [
    {
     "name": "stdout",
     "output_type": "stream",
     "text": [
      "b = 3\n"
     ]
    }
   ],
   "source": [
    "b = limit((3*x) / (x + 2) - k * x, x, oo)\n",
    "\n",
    "print(f'b = {b}')"
   ]
  },
  {
   "cell_type": "markdown",
   "id": "2df246f4",
   "metadata": {},
   "source": [
    "$$2. \\quad теперь\\quad найдем\\quad -\\quad вертикальные \\quad $$"
   ]
  },
  {
   "cell_type": "markdown",
   "id": "db7b67d2",
   "metadata": {},
   "source": [
    "$$ для\\quad этого\\quad решим\\quad уравнение,\\quad когда\\quad знаменатель\\quad дроби\\quad равен\\quad нулю\\quad x + 2 = 0\\quad и\\quad левосторонний\\quad и\\quad правосторонний\\quad пределы\\quad функции,\\quad при\\quad переменной\\quad стремящейся\\quad к\\quad нулю\\quad знаменателя $$"
   ]
  },
  {
   "cell_type": "code",
   "execution_count": 7,
   "id": "14103da7",
   "metadata": {},
   "outputs": [
    {
     "data": {
      "text/plain": [
       "[-2]"
      ]
     },
     "execution_count": 7,
     "metadata": {},
     "output_type": "execute_result"
    }
   ],
   "source": [
    "solve(x + 2)"
   ]
  },
  {
   "cell_type": "code",
   "execution_count": 8,
   "id": "0463fbb8",
   "metadata": {},
   "outputs": [
    {
     "data": {
      "text/latex": [
       "$\\displaystyle \\infty$"
      ],
      "text/plain": [
       "oo"
      ]
     },
     "execution_count": 8,
     "metadata": {},
     "output_type": "execute_result"
    }
   ],
   "source": [
    "limit((3*x) / (x + 2), x, -2, '-')"
   ]
  },
  {
   "cell_type": "code",
   "execution_count": 9,
   "id": "e166fcc4",
   "metadata": {},
   "outputs": [
    {
     "data": {
      "text/latex": [
       "$\\displaystyle -\\infty$"
      ],
      "text/plain": [
       "-oo"
      ]
     },
     "execution_count": 9,
     "metadata": {},
     "output_type": "execute_result"
    }
   ],
   "source": [
    "limit((3*x) / (x + 2), x, -2, '+')"
   ]
  },
  {
   "cell_type": "markdown",
   "id": "8ba1372f",
   "metadata": {},
   "source": [
    "#### Вывод: Таким образом, y = 3 - горизонтальная асимптота, x = -2 - вертикальная асимптота"
   ]
  },
  {
   "cell_type": "markdown",
   "id": "d05951a9",
   "metadata": {},
   "source": [
    "$$ $$"
   ]
  },
  {
   "cell_type": "markdown",
   "id": "bef7e043",
   "metadata": {},
   "source": [
    "$$2) \\quad y = {e^{-\\frac{1}{x}}} $$"
   ]
  },
  {
   "cell_type": "markdown",
   "id": "4ee97781",
   "metadata": {},
   "source": [
    "$$\\lim_{x\\to{\\infty}}{k\\,x+b-f\\,x} $$"
   ]
  },
  {
   "cell_type": "markdown",
   "id": "706bf53d",
   "metadata": {},
   "source": [
    "$$ найдем \\quad k$$"
   ]
  },
  {
   "cell_type": "markdown",
   "id": "08a3bd36",
   "metadata": {},
   "source": [
    "$$ k = \\lim_{x\\to{\\infty}}{\\frac{f\\,x}{x}}$$"
   ]
  },
  {
   "cell_type": "markdown",
   "id": "ecf71f47",
   "metadata": {},
   "source": [
    "$$ k = \\lim_{x\\to{\\infty}}{\\frac{e^{-\\frac{1}{x}}}{x}} = \\lim_{x\\to{\\infty}}{\\frac{1}{x\\,\\sqrt[{x}]{e}}} = 0 $$"
   ]
  },
  {
   "cell_type": "markdown",
   "id": "fc4066fc",
   "metadata": {},
   "source": [
    "$$ найдем \\quad b$$"
   ]
  },
  {
   "cell_type": "markdown",
   "id": "e99a78b1",
   "metadata": {},
   "source": [
    "$$ b = \\lim_{x\\to{\\infty}}{f\\,x-k\\,x}$$"
   ]
  },
  {
   "cell_type": "markdown",
   "id": "fb25cd07",
   "metadata": {},
   "source": [
    "$$ b = \\lim_{x\\to{\\infty}}{e^{-1\\,\\frac{1}{x}}} = \\lim_{x\\to{\\infty}}{\\frac{1}{\\sqrt[{x}]{e}}} = 1$$"
   ]
  },
  {
   "cell_type": "markdown",
   "id": "a292ab3e",
   "metadata": {},
   "source": [
    "$$ уравнение\\quad горизонтальной\\quad асимптоты $$\n",
    "$$ y = 1 $$"
   ]
  },
  {
   "cell_type": "markdown",
   "id": "532d54f4",
   "metadata": {},
   "source": [
    "$$ найдем \\quad наклонную\\quad асимптоту\\quad при \\quad x → -∞:$$"
   ]
  },
  {
   "cell_type": "markdown",
   "id": "8cc54113",
   "metadata": {},
   "source": [
    "$$\\lim_{x\\to{-\\infty}}{k\\,x+b-f\\,x} $$"
   ]
  },
  {
   "cell_type": "markdown",
   "id": "edfd8f19",
   "metadata": {},
   "source": [
    "$$ k = \\lim_{x\\to{-\\infty}}{\\frac{f\\,x}{x}}$$"
   ]
  },
  {
   "cell_type": "markdown",
   "id": "fd286af9",
   "metadata": {},
   "source": [
    "$$ k = \\lim_{x\\to{-\\infty}}{\\frac{e^{-\\frac{1}{x}}}{x}} = \\lim_{x\\to{-\\infty}}{\\frac{1}{x\\,\\sqrt[{x}]{e}}} = 0 $$"
   ]
  },
  {
   "cell_type": "markdown",
   "id": "0d1736df",
   "metadata": {},
   "source": [
    "$$ b = \\lim_{x\\to{-\\infty}}{f\\,x-k\\,x}$$"
   ]
  },
  {
   "cell_type": "markdown",
   "id": "7b7e4895",
   "metadata": {},
   "source": [
    "$$ b = \\lim_{x\\to{-\\infty}}{e^{-1\\,\\frac{1}{x}}} = \\lim_{x\\to{-\\infty}}{\\frac{1}{\\sqrt[{x}]{e}}} = 1$$"
   ]
  },
  {
   "cell_type": "markdown",
   "id": "a88c9300",
   "metadata": {},
   "source": [
    "#### Вывод: Таким образом, y = 1 - горизонтальная асимптота"
   ]
  },
  {
   "cell_type": "markdown",
   "id": "f4ecb0c4",
   "metadata": {},
   "source": [
    "$$ $$"
   ]
  },
  {
   "cell_type": "markdown",
   "id": "0f3ce42c",
   "metadata": {},
   "source": [
    "### 5) Провести полное исследование и построить графики функций:"
   ]
  },
  {
   "cell_type": "markdown",
   "id": "69710bc0",
   "metadata": {},
   "source": [
    "$$ 1) \\quad y = \\ln\\left(1-x^{2}\\right) $$"
   ]
  },
  {
   "cell_type": "markdown",
   "id": "a9d7e9de",
   "metadata": {},
   "source": [
    "$$Область\\quad определения\\quad функции.Точки\\quad  разрыва\\quad  функции.$$\n",
    "$$ \\quad $$\n",
    "$$f(x)=ln(x),\\quad  x>0$$\n",
    "\n",
    "$$1-x^2>0 $$\n",
    "$$ \\quad $$\n",
    "$$x=-1$$\n",
    "$$x=1$$"
   ]
  },
  {
   "cell_type": "markdown",
   "id": "8b81ddcb",
   "metadata": {},
   "source": [
    "$$ ************************* $$"
   ]
  },
  {
   "cell_type": "markdown",
   "id": "358bd1d4",
   "metadata": {},
   "source": [
    "$$Четность\\quad  или\\quad  нечетность\\quad  функции$$\n",
    "$$\\quad $$\n",
    "$$y(-x) = ln(1-x2)$$\n",
    "$$\\quad $$\n",
    "$$y(-x) = y(x), \\quad четная\\quad  функция$$"
   ]
  },
  {
   "cell_type": "markdown",
   "id": "12ba52a5",
   "metadata": {},
   "source": [
    "$$ ************************* $$"
   ]
  },
  {
   "cell_type": "markdown",
   "id": "ef842419",
   "metadata": {},
   "source": [
    "$$Точк\\quad пересечения\\quad кривой\\quad с\\quad осями\\quad координат$$\n",
    "$$\\quad$$\n",
    "$$Пересечение\\quad с\\quad осью\\quad 0Y$$\n",
    "$$\\quad$$\n",
    "$$x=0,\\quad y=0$$\n",
    "$$\\quad$$\n",
    "$$Пересечение\\quad с\\quad осью\\quad 0X$$\n",
    "$$\\quad$$\n",
    "$$y=0$$\n",
    "$$\\quad$$\n",
    "$$n(1-x^2)=0$$\n",
    "$$\\quad$$\n",
    "$$x1=0$$"
   ]
  },
  {
   "cell_type": "markdown",
   "id": "294e2884",
   "metadata": {},
   "source": [
    "$$ ************************* $$"
   ]
  },
  {
   "cell_type": "markdown",
   "id": "62fae721",
   "metadata": {},
   "source": [
    "$$ Исследовани\\quad на\\quad экстремум $$"
   ]
  },
  {
   "cell_type": "markdown",
   "id": "aca0b2e2",
   "metadata": {},
   "source": [
    "$$ f'(x) = {-2\\,\\frac{x}{1-x^{2}}}$$"
   ]
  },
  {
   "cell_type": "markdown",
   "id": "421f98ea",
   "metadata": {},
   "source": [
    "$$f'(x) = {\\frac{-2\\,x}{1-x^{2}}}$$"
   ]
  },
  {
   "cell_type": "markdown",
   "id": "69382286",
   "metadata": {},
   "source": [
    "$$приравниваем \\quad производную\\quad к\\quad нулю\\quad для\\quad нахождуния\\quad нулей\\quad функции$$\n",
    "$$\\quad $$\n",
    "$$x = 0$$\n",
    "$$ \\quad$$\n",
    "$$x1 = 0$$"
   ]
  },
  {
   "cell_type": "markdown",
   "id": "e2119e3e",
   "metadata": {},
   "source": [
    "$$ ************************* $$"
   ]
  },
  {
   "cell_type": "markdown",
   "id": "a27a3808",
   "metadata": {},
   "source": [
    "$$интервалы\\quad выпуклости\\quad и\\quad вогнутости$$"
   ]
  },
  {
   "cell_type": "markdown",
   "id": "2fe29c93",
   "metadata": {},
   "source": [
    "$$f''(x) = 2 $$"
   ]
  },
  {
   "cell_type": "markdown",
   "id": "e5da854b",
   "metadata": {},
   "source": [
    "$$ f''(x)  = {\\frac{1}{-2\\,x^{2}-2}}$$"
   ]
  },
  {
   "cell_type": "markdown",
   "id": "6264bc1a",
   "metadata": {},
   "source": [
    "$$ {\\frac{1}{-2\\,x^{2}-2}} = 0$$"
   ]
  },
  {
   "cell_type": "markdown",
   "id": "d9c63617",
   "metadata": {},
   "source": [
    "$$корней \\quadнет $$"
   ]
  },
  {
   "cell_type": "markdown",
   "id": "08df3aa4",
   "metadata": {},
   "source": [
    "$$ ************************* $$"
   ]
  },
  {
   "cell_type": "markdown",
   "id": "1351a470",
   "metadata": {},
   "source": [
    "$$асимптоты$$"
   ]
  },
  {
   "cell_type": "markdown",
   "id": "4ef213ca",
   "metadata": {},
   "source": [
    "$$ k = \\lim_{x\\to{\\infty}}{\\frac{\\ln\\left(1-x^{2}\\right)}{x}} = 0$$"
   ]
  },
  {
   "cell_type": "markdown",
   "id": "2c05046e",
   "metadata": {},
   "source": [
    "$$b = \\lim_{x\\to{\\infty}}{\\ln\\left(1-x^{2}\\right)} = 0 $$"
   ]
  },
  {
   "cell_type": "markdown",
   "id": "1287c9ed",
   "metadata": {},
   "source": [
    "$$ при\\quad x \\quad->\\quad -∞$$\n",
    "$$\\quad$$\n",
    "$$k = 0$$\n",
    "$$b = ∞$$"
   ]
  },
  {
   "cell_type": "markdown",
   "id": "0ac7a66e",
   "metadata": {},
   "source": [
    "$$Предел\\quad равен\\quad ∞,\\quad следовательно\\quad, наклонные\\quad асимптоты\\quad функции\\quad отсутствуют.$$"
   ]
  },
  {
   "cell_type": "markdown",
   "id": "8245dfa6",
   "metadata": {},
   "source": [
    "#### графическая реализация"
   ]
  },
  {
   "cell_type": "code",
   "execution_count": 10,
   "id": "f6107984",
   "metadata": {},
   "outputs": [
    {
     "data": {
      "image/png": "[encoded data removed]",
      "text/plain": [
       "<Figure size 432x288 with 1 Axes>"
      ]
     },
     "metadata": {
      "needs_background": "light"
     },
     "output_type": "display_data"
    }
   ],
   "source": [
    "import numpy as np\n",
    "import matplotlib.pyplot as plt\n",
    "\n",
    "\n",
    "y = lambda x: np.log(1 - x ** 2)\n",
    "\n",
    "fig = plt.subplots()\n",
    "\n",
    "x = np.linspace(-3, 3, 70)\n",
    "\n",
    "plt.scatter(0, 0, c ='r', label = 'экстремум')\n",
    "\n",
    "plt.legend()\n",
    "\n",
    "plt.plot(x, y(x))\n",
    "\n",
    "plt.show()"
   ]
  },
  {
   "cell_type": "markdown",
   "id": "786afd1d",
   "metadata": {},
   "source": [
    "$$ $$"
   ]
  },
  {
   "cell_type": "markdown",
   "id": "c910aa9e",
   "metadata": {},
   "source": [
    "$$2) \\quad y = \\frac{x^{2}}{1-x^{2}}$$"
   ]
  },
  {
   "cell_type": "markdown",
   "id": "092e6605",
   "metadata": {},
   "source": [
    "$$y(-x) = y(x), \\quadчетная\\quad функция $$"
   ]
  },
  {
   "cell_type": "markdown",
   "id": "675b57b7",
   "metadata": {},
   "source": [
    "$$ ***************** $$"
   ]
  },
  {
   "cell_type": "markdown",
   "id": "4871dcf6",
   "metadata": {},
   "source": [
    "$$ Точки\\quad пересечения\\quad кривой\\quad с\\quad осями\\quad координат.$$\n",
    "$$\\quad$$ \n",
    "$$Пересечение\\quad с\\quad осью\\quad 0Y$$\n",
    "$$\\quad$$\n",
    "$$x=0,\\quad y=0$$\n",
    "$$\\quad $$\n",
    "$$Пересечение\\quad с\\quad осью\\quad 0X$$\n",
    "$$y=0$$\n",
    "$$\\quad $$\n",
    "$$x1=0$$"
   ]
  },
  {
   "cell_type": "markdown",
   "id": "690734bf",
   "metadata": {},
   "source": [
    "$$ **************** $$"
   ]
  },
  {
   "cell_type": "markdown",
   "id": "a48f7f06",
   "metadata": {},
   "source": [
    "$$ эстремум $$"
   ]
  },
  {
   "cell_type": "markdown",
   "id": "31da3a0a",
   "metadata": {},
   "source": [
    "$$ x1 = - 1$$\n",
    "$$ \\quad$$\n",
    "$$x2 =  1 $$"
   ]
  },
  {
   "cell_type": "markdown",
   "id": "86476873",
   "metadata": {},
   "source": [
    "$$**************** $$"
   ]
  },
  {
   "cell_type": "markdown",
   "id": "bf7ee79e",
   "metadata": {},
   "source": [
    "$$ интервалы\\quad возрастания\\quad и\\quad убывания$$"
   ]
  },
  {
   "cell_type": "markdown",
   "id": "11817349",
   "metadata": {},
   "source": [
    "$$  f'(x) = \\lim_{x\\to{\\infty}}{2\\,\\frac{x}{\\left(1-x^{2}\\right)^{2}}}$$"
   ]
  },
  {
   "cell_type": "markdown",
   "id": "c1ed6476",
   "metadata": {},
   "source": [
    "$$ (-∞ ;-1),\\quad f'(x) < 0,\\quad  функция\\quad  убывает$$\n",
    "$$(-1; 0), \\quad f'(x) < 0, \\quad функция\\quad  убывает$$\n",
    "$$(0; 1),\\quad f'(x) > 0,\\quad  функция \\quad возрастает$$\n",
    "$$(1; +∞),\\quad f'(x) > 0, \\quad функция \\quad возрастает$$"
   ]
  },
  {
   "cell_type": "markdown",
   "id": "553389f3",
   "metadata": {},
   "source": [
    "$$ В \\quad окрестности\\quad точки\\quad x = 0\\quad производная\\quad функции\\quad меняет\\quad знак\\quad \\quadс (-) \\quadна\\quad (+). \\quadСледовательно,\\quad точка\\quad x = 0\\quad - точка\\quad минимума.$$"
   ]
  },
  {
   "cell_type": "markdown",
   "id": "0f877030",
   "metadata": {},
   "source": [
    "$$ ***************** $$"
   ]
  },
  {
   "cell_type": "markdown",
   "id": "61f45bfc",
   "metadata": {},
   "source": [
    "$$ интервалы \\quadвыпуклости\\quad и\\quad вогнутости$$"
   ]
  },
  {
   "cell_type": "markdown",
   "id": "c89fa904",
   "metadata": {},
   "source": [
    "$$ f '' (x) = {\\frac{6\\,x^{2}+2}{\\left(1-x^{2}\\right)^{3}}}$$"
   ]
  },
  {
   "cell_type": "markdown",
   "id": "22531846",
   "metadata": {},
   "source": [
    "$$ {\\frac{6\\,x^{2}+2}{\\left(1-x^{2}\\right)^{3}}} = 0 $$"
   ]
  },
  {
   "cell_type": "markdown",
   "id": "f6cd1b99",
   "metadata": {},
   "source": [
    "$$(-∞ ;-1), \\quad f''(x) < 0,\\quad функция\\quad выпукла$$\n",
    "$$\\quad$$\n",
    "$$(-1; 1),\\quad f''(x) > 0,\\quad функция \\quadвогнута$$\n",
    "$$\\quad$$\n",
    "$$(1; +∞),\\quad f''(x) < 0,\\quadфункция\\quad выпукла$$"
   ]
  },
  {
   "cell_type": "markdown",
   "id": "8a4cab09",
   "metadata": {},
   "source": [
    "$$ ******************$$"
   ]
  },
  {
   "cell_type": "markdown",
   "id": "292fb183",
   "metadata": {},
   "source": [
    "$$ асипмтоты $$"
   ]
  },
  {
   "cell_type": "markdown",
   "id": "c3cd43ee",
   "metadata": {},
   "source": [
    "$$ k = 0 $$\n",
    "$$ b = -1 $$\n",
    "$$\\quad$$\n",
    "$$пределы\\quad в\\quad точке$$\n",
    "$$ x1 = -1 $$"
   ]
  },
  {
   "cell_type": "markdown",
   "id": "e096e6c4",
   "metadata": {},
   "source": [
    "$$\\lim_{x\\to{-1-0}}{\\frac{x^{2}}{1-x^{2}}} = - ∞$$"
   ]
  },
  {
   "cell_type": "markdown",
   "id": "f6ee312a",
   "metadata": {},
   "source": [
    "$$\\lim_{x\\to{-1}}{\\frac{x^{2}}{1-x^{2}}} = ∞$$"
   ]
  },
  {
   "cell_type": "markdown",
   "id": "9884ab18",
   "metadata": {},
   "source": [
    "$$x1=-1\\quadточка\\quad разрыва\\quad II\\quad рода\\quad и\\quad является \\quadвертикальной\\quad асимптотой.$$"
   ]
  },
  {
   "cell_type": "markdown",
   "id": "42689ffd",
   "metadata": {},
   "source": [
    "$$ пределы\\quad в \\quadточке $$\n",
    "$$ x2 = 1 $$"
   ]
  },
  {
   "cell_type": "markdown",
   "id": "a12a875d",
   "metadata": {},
   "source": [
    "$$\\lim_{x\\to{1-0}}{\\frac{x^{2}}{1-x^{2}}} = ∞$$"
   ]
  },
  {
   "cell_type": "markdown",
   "id": "f71d046c",
   "metadata": {},
   "source": [
    "$$\\lim_{x\\to{1}}{\\frac{x^{2}}{1-x^{2}}} = - ∞$$"
   ]
  },
  {
   "cell_type": "markdown",
   "id": "404450fc",
   "metadata": {},
   "source": [
    "$$ x2=1\\quadточка \\quadразрыва\\quad II\\quad рода\\quad и \\quadявляется \\quadвертикальной\\quadасимптотой. $$"
   ]
  },
  {
   "cell_type": "markdown",
   "id": "b1f72ed6",
   "metadata": {},
   "source": [
    "$$при\\quad x - > -∞ $$\n",
    "$$\\quad$$\n",
    "$$k = 0 $$\n",
    "$$b = -1$$"
   ]
  },
  {
   "cell_type": "markdown",
   "id": "342e9c3d",
   "metadata": {},
   "source": [
    "$$горизонтальная\\quad асимптота \\quad y = - 1  $$"
   ]
  },
  {
   "cell_type": "markdown",
   "id": "50f65671",
   "metadata": {},
   "source": [
    "#### графическая реализация"
   ]
  },
  {
   "cell_type": "code",
   "execution_count": 11,
   "id": "06c73757",
   "metadata": {},
   "outputs": [
    {
     "data": {
      "image/png": "[encoded data removed]",
      "text/plain": [
       "<Figure size 432x288 with 1 Axes>"
      ]
     },
     "metadata": {
      "needs_background": "light"
     },
     "output_type": "display_data"
    }
   ],
   "source": [
    "import numpy as np\n",
    "import matplotlib.pyplot as plt\n",
    "\n",
    "y = lambda x: x ** 2 / (1 - x ** 2)\n",
    "\n",
    "fig = plt.subplots()\n",
    "\n",
    "x = np.linspace(-3, 3, 70)\n",
    "\n",
    "# plt.scatter(-1, -2, c ='r', label = 'экстремум')\n",
    "# plt.scatter(1, 4, c ='r', label = 'экстремум')\n",
    "plt.scatter(0, 0, c ='b', label = 'минимум')\n",
    "plt.legend()\n",
    "\n",
    "plt.plot(x, y(x))\n",
    "\n",
    "plt.show()"
   ]
  },
  {
   "cell_type": "markdown",
   "id": "9ae5817f",
   "metadata": {},
   "source": [
    " "
   ]
  },
  {
   "cell_type": "markdown",
   "id": "04bf9975",
   "metadata": {},
   "source": [
    "$$3)\\quad y = x^{2}\\,·e^{-x}$$"
   ]
  },
  {
   "cell_type": "markdown",
   "id": "d999466c",
   "metadata": {},
   "source": [
    "$$Точки\\quad пересечения\\quad кривой\\quad с\\quad осями\\quad координат$$"
   ]
  },
  {
   "cell_type": "markdown",
   "id": "a08efe65",
   "metadata": {},
   "source": [
    "$$Пересечение\\quad с\\quad осью\\quad 0Y$$\n",
    "$$ \\quad$$\n",
    "$$x=0,\\quad y=0$$\n",
    "$$ \\quad$$\n",
    "$$Пересечение\\quad с\\quad осью\\quad 0X$$\n",
    "$$y=0$$\n",
    "$$ \\quad$$\n",
    "$$нет\\quad пересечений $$"
   ]
  },
  {
   "cell_type": "markdown",
   "id": "a655536d",
   "metadata": {},
   "source": [
    "$$ ****************$$"
   ]
  },
  {
   "cell_type": "markdown",
   "id": "2416bde2",
   "metadata": {},
   "source": [
    "$$ экстремум $$\n",
    "$$\\quad$$\n",
    "$$f′(x)=x·(x+2)·e^x$$\n",
    "\n",
    "$$x·(x+2)·e^x=0 $$\n",
    "\n",
    "$$x_1=0$$\n",
    "$$x_2=-2$$\n",
    "\n",
    "$$(-∞ ;-2),\\quad f'(x) > 0, \\quad функция \\quad возрастает $$\n",
    "$$(-2; 0), \\quad f'(x) < 0, \\quad функция \\quad убывает $$\n",
    "$$(0; +∞),\\quad  f'(x) > 0, \\quad функция \\quad возрастает $$"
   ]
  },
  {
   "cell_type": "markdown",
   "id": "0ca8c9b7",
   "metadata": {},
   "source": [
    "$$ В\\quad окрестности\\quad точки\\quad x = -2\\quad производная\\quad функции\\quad меняет\\quad знак\\quad с\\quad (+)\\quad на\\quad (-).\\quad Следовательно,\\quad точка\\quad x = -2\\quad - точка\\quad максимума.\\quad В\\quad окрестности\\quad точки \\quad x = 0 \\quad производная\\quad функции\\quad меняет\\quad знак\\quad с \\quad(-)\\quad на\\quad (+).\\quad Следовательно,\\quad точка\\quad x = 0\\quad - точка\\quad минимума.$$"
   ]
  },
  {
   "cell_type": "markdown",
   "id": "29faab4e",
   "metadata": {},
   "source": [
    "$$ ****************$$"
   ]
  },
  {
   "cell_type": "markdown",
   "id": "2852b392",
   "metadata": {},
   "source": [
    "$$интервалы \\quadвыпуклости\\quad и\\quad вогнутости$$"
   ]
  },
  {
   "cell_type": "markdown",
   "id": "849e2b3e",
   "metadata": {},
   "source": [
    "$$ f''(x) = {\\left(x^{2}+4\\,x+2\\right)\\,e^{x}}$$"
   ]
  },
  {
   "cell_type": "markdown",
   "id": "2dc77f70",
   "metadata": {},
   "source": [
    "$${\\left(x^{2}+4\\,x+2\\right)\\,e^{x}} = 0 $$"
   ]
  },
  {
   "cell_type": "markdown",
   "id": "af7790af",
   "metadata": {},
   "source": [
    "$$x1=-3.4142$$\n",
    "$$x2=-0.58579$$"
   ]
  },
  {
   "cell_type": "markdown",
   "id": "38f7c9bb",
   "metadata": {},
   "source": [
    "$$(-∞ ;-3.4142),\\quad f''(x) > 0,\\quad функция \\quad вогнута$$\n",
    "$$(-3.4142; -0.58579),\\quad f''(x) < 0,\\quad функция \\quad выпукла$$\n",
    "$$(-0.58579; +∞),\\quad f''(x) > 0,\\quad функция \\quad вогнута$$"
   ]
  },
  {
   "cell_type": "markdown",
   "id": "b6d2b60c",
   "metadata": {},
   "source": [
    "$$ *****************$$"
   ]
  },
  {
   "cell_type": "markdown",
   "id": "cc6ce211",
   "metadata": {},
   "source": [
    "$$ асимптоты $$"
   ]
  },
  {
   "cell_type": "markdown",
   "id": "bffc21d5",
   "metadata": {},
   "source": [
    "$$k = ∞$$\n",
    "$$ \\quad$$\n",
    "$$наклонных\\quad асимптот\\quad не \\quadсуществует $$"
   ]
  },
  {
   "cell_type": "markdown",
   "id": "c6ae571f",
   "metadata": {},
   "source": [
    "$$при \\quad x\\quad - > - ∞$$\n",
    "$$ \\quad$$\n",
    "$$k = 0$$\n",
    "$$b = 0$$\n",
    "$$ \\quad$$\n",
    "$$y = 0 - горизонтальная\\quad асимптота$$"
   ]
  },
  {
   "cell_type": "markdown",
   "id": "22f269ea",
   "metadata": {},
   "source": [
    "#### графическая реализация"
   ]
  },
  {
   "cell_type": "code",
   "execution_count": 12,
   "id": "feebd8a7",
   "metadata": {},
   "outputs": [
    {
     "data": {
      "image/png": "[encoded data removed]",
      "text/plain": [
       "<Figure size 432x288 with 1 Axes>"
      ]
     },
     "metadata": {
      "needs_background": "light"
     },
     "output_type": "display_data"
    }
   ],
   "source": [
    "import numpy as np\n",
    "import matplotlib.pyplot as plt\n",
    "from math import e \n",
    "\n",
    "y = lambda x: (x ** 2) * (e ** (-x))\n",
    "\n",
    "fig = plt.subplots()\n",
    "\n",
    "x = np.linspace(-3, 3, 70)\n",
    "\n",
    "plt.scatter(0, 0, c ='r', label = 'экстремум')\n",
    "# plt.scatter(-2, 0, c ='r', label = 'экстремум')\n",
    "\n",
    "plt.legend()\n",
    "\n",
    "plt.plot(x, y(x))\n",
    "\n",
    "plt.show()"
   ]
  },
  {
   "cell_type": "markdown",
   "id": "4691d9e7",
   "metadata": {},
   "source": [
    "$$4)\\quad y = x-\\ln x$$"
   ]
  },
  {
   "cell_type": "markdown",
   "id": "bbeca346",
   "metadata": {},
   "source": [
    "$$ Точки \\quadпересечения\\quad кривой\\quad с\\quad осями\\quad координат$$"
   ]
  },
  {
   "cell_type": "markdown",
   "id": "98d11b2b",
   "metadata": {},
   "source": [
    "\n",
    "$$Пересечение\\quad с\\quad осью\\quad 0Y$$\n",
    "$$Нет\\quad пересечений.$$\n",
    "$$\\quad $$\n",
    "$$Пересечение\\quad с\\quad осью \\quad0X$$\n",
    "$$y=0$$\n",
    "$$\\quad $$\n",
    "$$x-ln(x)=0$$\n",
    "$$Нет \\quad пересечений$$"
   ]
  },
  {
   "cell_type": "markdown",
   "id": "4aa2ff4e",
   "metadata": {},
   "source": [
    "$$ **************** $$"
   ]
  },
  {
   "cell_type": "markdown",
   "id": "b8d1fee2",
   "metadata": {},
   "source": [
    "$$ экстремум $$"
   ]
  },
  {
   "cell_type": "markdown",
   "id": "7337b27b",
   "metadata": {},
   "source": [
    "$$ y'(x) = {\\frac{x-1}{x}} $$"
   ]
  },
  {
   "cell_type": "markdown",
   "id": "aee21429",
   "metadata": {},
   "source": [
    "$${x-1} = 0$$\n",
    "$$x1 = 1 $$"
   ]
  },
  {
   "cell_type": "markdown",
   "id": "1de50ac9",
   "metadata": {},
   "source": [
    "$$ (-∞ ;1),\\quad f'(x) < 0,\\quad функция убывает\t$$\n",
    "$$ (1; +∞),\\quad f'(x) > 0,\\quad функция возрастает $$\n",
    "\n",
    "$$ В\\quad окрестности\\quad точки\\quad x = 1\\quad производная\\quad функции\\quad меняет\\quad знак\\quad с\\quad (-)\\quad на\\quad (+).\\quad Следовательно,\\quad точка\\quad x = 1\\quad -\\quad точка\\quad минимума.$$"
   ]
  },
  {
   "cell_type": "markdown",
   "id": "fa637c8f",
   "metadata": {},
   "source": [
    "$$ ****************$$"
   ]
  },
  {
   "cell_type": "markdown",
   "id": "d3eaca1c",
   "metadata": {},
   "source": [
    "$$ интервалы \\quad выпуклости\\quad и\\quad вогнутости $$"
   ]
  },
  {
   "cell_type": "markdown",
   "id": "e74bf82d",
   "metadata": {},
   "source": [
    "$$ f''(x) = {\\frac{1}{x^{2}}} $$"
   ]
  },
  {
   "cell_type": "markdown",
   "id": "6bc8239b",
   "metadata": {},
   "source": [
    "$${\\frac{1}{x^{2}}} = 0 $$"
   ]
  },
  {
   "cell_type": "markdown",
   "id": "1ca2a07d",
   "metadata": {},
   "source": [
    "$$(-∞ ;0), f''(x) > 0, функция вогнута$$\n",
    "$$\\quad$$\n",
    "$$(0; +∞), f''(x) > 0, функция вогнута$$"
   ]
  },
  {
   "cell_type": "markdown",
   "id": "0a7f34f6",
   "metadata": {},
   "source": [
    "$$ ***************$$"
   ]
  },
  {
   "cell_type": "markdown",
   "id": "166996d5",
   "metadata": {},
   "source": [
    "$$ асимптоты $$ "
   ]
  },
  {
   "cell_type": "markdown",
   "id": "982e6fe0",
   "metadata": {},
   "source": [
    "$$k =  1$$\n",
    "$$\\quad$$\n",
    "$$b = - ∞$$\n",
    "\n",
    "$$Предел\\quad равен\\quad -∞, \\quadследовательно,\\quad наклонные\\quad асимптоты \\quadфункции\\quad отсутствуют.$$"
   ]
  },
  {
   "cell_type": "markdown",
   "id": "fee8f4b7",
   "metadata": {},
   "source": [
    "$$при\\quad x -> \\quad -∞$$"
   ]
  },
  {
   "cell_type": "markdown",
   "id": "474ca77c",
   "metadata": {},
   "source": [
    "$$k = 1 $$\n",
    "$$\\quad$$\n",
    "$$b = -∞$$"
   ]
  },
  {
   "cell_type": "markdown",
   "id": "f08682ef",
   "metadata": {},
   "source": [
    "$$Предел\\quad равен\\quad -∞,\\quad следовательно,\\quad наклонные\\quad асимптоты \\quadфункции\\quad отсутствуют.$$"
   ]
  },
  {
   "cell_type": "markdown",
   "id": "5f2ae506",
   "metadata": {},
   "source": [
    "#### графическая реализация "
   ]
  },
  {
   "cell_type": "code",
   "execution_count": 13,
   "id": "ac4c3537",
   "metadata": {},
   "outputs": [
    {
     "data": {
      "image/png": "[encoded data removed]",
      "text/plain": [
       "<Figure size 432x288 with 1 Axes>"
      ]
     },
     "metadata": {
      "needs_background": "light"
     },
     "output_type": "display_data"
    }
   ],
   "source": [
    "import matplotlib.pyplot as plt\n",
    "import numpy as np\n",
    "\n",
    "\n",
    "x = np.arange(-1000, 50, 1)\n",
    "\n",
    "y = lambda x: x - np.log(x)\n",
    "\n",
    "fig, ax = plt.subplots()\n",
    "ax.plot(x, y(x))\n",
    "\n",
    "ax.scatter(1, 0, c ='r', label = 'экстремум')\n",
    "# ax.scatter(-2, 0, c ='r', label = 'экстремум')\n",
    "\n",
    "# ax.scatter(0, 0, c ='b', label = 'горизонтальная асимптота')\n",
    "\n",
    "ax.legend()\n",
    "\n",
    "plt.show()"
   ]
  },
  {
   "cell_type": "code",
   "execution_count": null,
   "id": "9dd6a52d",
   "metadata": {},
   "outputs": [],
   "source": []
  }
 ],
 "metadata": {
  "kernelspec": {
   "display_name": "Python 3 (ipykernel)",
   "language": "python",
   "name": "python3"
  },
  "language_info": {
   "codemirror_mode": {
    "name": "ipython",
    "version": 3
   },
   "file_extension": ".py",
   "mimetype": "text/x-python",
   "name": "python",
   "nbconvert_exporter": "python",
   "pygments_lexer": "ipython3",
   "version": "3.9.12"
  }
 },
 "nbformat": 4,
 "nbformat_minor": 5
}
