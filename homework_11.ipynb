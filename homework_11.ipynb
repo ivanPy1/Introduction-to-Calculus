{
 "cells": [
  {
   "cell_type": "markdown",
   "id": "aaa1cdaf",
   "metadata": {},
   "source": [
    "# Практическое задание"
   ]
  },
  {
   "cell_type": "markdown",
   "id": "d06780ea",
   "metadata": {},
   "source": [
    "### Урок 11. Интеграл. Ряды. Часть 2"
   ]
  },
  {
   "cell_type": "markdown",
   "id": "3f40354b",
   "metadata": {},
   "source": [
    "#### 1. Решить уравнения:"
   ]
  },
  {
   "cell_type": "markdown",
   "id": "c37f599b",
   "metadata": {},
   "source": [
    "1. $$y'-y=2\\,x-3 $$"
   ]
  },
  {
   "cell_type": "markdown",
   "id": "019b1922",
   "metadata": {},
   "source": [
    "$$y'=y+2\\,x-3$$"
   ]
  },
  {
   "cell_type": "markdown",
   "id": "64e47c8c",
   "metadata": {},
   "source": [
    "$$u'-2=u$$"
   ]
  },
  {
   "cell_type": "markdown",
   "id": "cc7aa4a5",
   "metadata": {},
   "source": [
    "$$u'=u+2$$"
   ]
  },
  {
   "cell_type": "markdown",
   "id": "28b42f98",
   "metadata": {},
   "source": [
    "$$\\dfrac{\\mathrm{d}u}{\\mathrm{d}x}=u+2$$"
   ]
  },
  {
   "cell_type": "markdown",
   "id": "fb0165eb",
   "metadata": {},
   "source": [
    "$$\\mathrm{d}u=\\left(u+2\\right)\\,\\mathrm{d}x$$"
   ]
  },
  {
   "cell_type": "markdown",
   "id": "875ebf0a",
   "metadata": {},
   "source": [
    "$$u+2\\rightarrow u+2=0\\rightarrow y+2\\,x-1=0\\rightarrow{x=-\\dfrac{y-1}{2}}\\; \\;при \\;С \\;= \\;\\;0$$"
   ]
  },
  {
   "cell_type": "markdown",
   "id": "0dbcd028",
   "metadata": {},
   "source": [
    "$$\\int{\\dfrac{1}{u+2}}{\\;\\mathrm{d}u}=\\int{1}{\\;\\mathrm{d}x}$$"
   ]
  },
  {
   "cell_type": "markdown",
   "id": "0a1cf0c6",
   "metadata": {},
   "source": [
    "$$\\ln\\left(u+2\\right)=x+C$$"
   ]
  },
  {
   "cell_type": "markdown",
   "id": "81286c81",
   "metadata": {},
   "source": [
    "$$u+2={e}^{x+C}$$"
   ]
  },
  {
   "cell_type": "markdown",
   "id": "7d30ef36",
   "metadata": {},
   "source": [
    "$$y+2\\,x-1=C\\,{e}^{x}$$"
   ]
  },
  {
   "cell_type": "markdown",
   "id": "2b24e256",
   "metadata": {},
   "source": [
    "$$y=C\\,{e}^{x}-2\\,x+1$$"
   ]
  },
  {
   "cell_type": "markdown",
   "id": "fed2506c",
   "metadata": {},
   "source": [
    "$$ **************** $$"
   ]
  },
  {
   "cell_type": "markdown",
   "id": "46941cc1",
   "metadata": {},
   "source": [
    "2. $${x}^{2}\\,y'+x\\,y+1=0$$"
   ]
  },
  {
   "cell_type": "markdown",
   "id": "66cf22f2",
   "metadata": {},
   "source": [
    "$$\\dfrac{{x}^{2}\\,\\mathrm{d}y}{\\mathrm{d}x}+x\\,y+1=0$$"
   ]
  },
  {
   "cell_type": "markdown",
   "id": "5b82d6e0",
   "metadata": {},
   "source": [
    "$$-\\dfrac{{x}^{2}\\,\\mathrm{d}z}{{z}^{2}\\,\\mathrm{d}x}+\\dfrac{x}{z}+1=0$$"
   ]
  },
  {
   "cell_type": "markdown",
   "id": "458861ee",
   "metadata": {},
   "source": [
    "$$\\left(\\dfrac{x}{z}+1\\right)\\,\\mathrm{d}x-\\dfrac{{x}^{2}\\,\\mathrm{d}z}{{z}^{2}}=0$$"
   ]
  },
  {
   "cell_type": "markdown",
   "id": "65e3c225",
   "metadata": {},
   "source": [
    "$$\\left(\\dfrac{1}{u}+1\\right)\\,\\mathrm{d}x-\\dfrac{u\\,\\mathrm{d}x+x\\,\\mathrm{d}u}{{u}^{2}}=0$$"
   ]
  },
  {
   "cell_type": "markdown",
   "id": "7baac028",
   "metadata": {},
   "source": [
    "$$-\\dfrac{x\\,\\mathrm{d}u}{{u}^{2}}=-\\mathrm{d}x$$"
   ]
  },
  {
   "cell_type": "markdown",
   "id": "08ec84b4",
   "metadata": {},
   "source": [
    "$$\\dfrac{\\mathrm{d}u}{{u}^{2}}=\\dfrac{\\mathrm{d}x}{x}$$"
   ]
  },
  {
   "cell_type": "markdown",
   "id": "f8137332",
   "metadata": {},
   "source": [
    "$$\\int{\\dfrac{1}{{u}^{2}}}{\\;\\mathrm{d}u}=\\int{\\dfrac{1}{x}}{\\;\\mathrm{d}x}$$"
   ]
  },
  {
   "cell_type": "markdown",
   "id": "ec693269",
   "metadata": {},
   "source": [
    "$$\\dfrac{1}{u}=C-\\ln\\left(x\\right)$$"
   ]
  },
  {
   "cell_type": "markdown",
   "id": "3f00e47f",
   "metadata": {},
   "source": [
    "$$\\dfrac{x}{z}=C-\\ln\\left(x\\right)$$"
   ]
  },
  {
   "cell_type": "markdown",
   "id": "c663e33d",
   "metadata": {},
   "source": [
    "$$x\\,y=C-\\ln\\left(x\\right)$$"
   ]
  },
  {
   "cell_type": "markdown",
   "id": "d8b18ca4",
   "metadata": {},
   "source": [
    "$$y=\\dfrac{-\\ln\\left(x\\right)-C}{x}$$"
   ]
  },
  {
   "cell_type": "markdown",
   "id": "76f8d547",
   "metadata": {},
   "source": [
    "$$ *************** $$"
   ]
  },
  {
   "cell_type": "markdown",
   "id": "039bffe2",
   "metadata": {},
   "source": [
    "#### 2. Исследовать ряд на сходимость:"
   ]
  },
  {
   "cell_type": "markdown",
   "id": "3447b4aa",
   "metadata": {},
   "source": [
    "1. $$ \\sum_1^∞ = \\frac{n + 2}{n^2 + n + 1}$$"
   ]
  },
  {
   "cell_type": "markdown",
   "id": "5bd3c765",
   "metadata": {},
   "source": [
    "Признак Даламбера"
   ]
  },
  {
   "cell_type": "markdown",
   "id": "5a64e7a4",
   "metadata": {},
   "source": [
    "$$\\lim_{n \\rightarrow ∞} \\frac {u_{n+1}}{u_{n}} = q$$"
   ]
  },
  {
   "cell_type": "markdown",
   "id": "41d437e5",
   "metadata": {},
   "source": [
    "$$ \\lim_{n \\rightarrow ∞} \\frac{\\frac{n+1+2}{(n+1)^2 +n+1+1}}{\\frac{n+2}{n^2+n+1}} = $$"
   ]
  },
  {
   "cell_type": "markdown",
   "id": "e282d323",
   "metadata": {},
   "source": [
    "$$\\lim_{n \\rightarrow ∞} \\frac{n+3}{n+2} · \\frac{n^2+n+1}{n+(n+1)^2+2} = $$"
   ]
  },
  {
   "cell_type": "markdown",
   "id": "4d902220",
   "metadata": {},
   "source": [
    "$$\\lim_{n \\rightarrow ∞} (n+3)·\\frac{n^2+n+1}{(n+2)·(n+(n+1)^2+2)} = $$"
   ]
  },
  {
   "cell_type": "markdown",
   "id": "86130479",
   "metadata": {},
   "source": [
    "$$\\lim_{n \\rightarrow ∞} (n+3)·\\frac{n^2+n+1}{(n+2)·(n^2+3·n+3)} = 1 $$"
   ]
  },
  {
   "cell_type": "markdown",
   "id": "36ce2c2a",
   "metadata": {},
   "source": [
    "Так как q = 1, то получаем неопределнность, следовательно ряд расходится"
   ]
  },
  {
   "cell_type": "markdown",
   "id": "81b6f302",
   "metadata": {},
   "source": [
    "$$***************$$"
   ]
  },
  {
   "cell_type": "markdown",
   "id": "aef76696",
   "metadata": {},
   "source": [
    "2. $$\\sum_1^∞ = \\frac{n^n}{n!}$$"
   ]
  },
  {
   "cell_type": "markdown",
   "id": "c0ed2f06",
   "metadata": {},
   "source": [
    "Проверим необходимое условие сходимости ряда - равенства предела 0"
   ]
  },
  {
   "cell_type": "markdown",
   "id": "265be1df",
   "metadata": {},
   "source": [
    "$$ \\lim_{n \\rightarrow ∞} \\frac{n^n}{n!} = ∞ $$"
   ]
  },
  {
   "cell_type": "markdown",
   "id": "575bc2f9",
   "metadata": {},
   "source": [
    "Так как предел не равен 0, следовательно ряд расходится "
   ]
  },
  {
   "cell_type": "markdown",
   "id": "220bb5a5",
   "metadata": {},
   "source": [
    "$$ ***************$$"
   ]
  },
  {
   "cell_type": "markdown",
   "id": "e828e1f5",
   "metadata": {},
   "source": [
    "3. $$ \\sum_1 ^ ∞ n · ( 1 - \\frac{1}{n})^{n^2} $$"
   ]
  },
  {
   "cell_type": "markdown",
   "id": "0072562f",
   "metadata": {},
   "source": [
    "$$ \\sum_1 ^ ∞ n · ( 1 - \\frac{1}{n})^{n^2} = 0.276799 $$"
   ]
  },
  {
   "cell_type": "markdown",
   "id": "00ac8cad",
   "metadata": {},
   "source": [
    "Таким образом, предел частичных сумм числового ряда равен конечному числу. Следовательно ряд сходится."
   ]
  },
  {
   "cell_type": "markdown",
   "id": "7a5533de",
   "metadata": {},
   "source": [
    "$$ ****************$$"
   ]
  },
  {
   "cell_type": "markdown",
   "id": "c209f07b",
   "metadata": {},
   "source": [
    "4. $$\\sum_1^∞\\frac{-1^{n+1}}{2n-ln n}$$"
   ]
  },
  {
   "cell_type": "markdown",
   "id": "6335010e",
   "metadata": {},
   "source": [
    "$$ \\lim_{n \\rightarrow ∞}\\frac{\\frac{1}{n+1}}{\\frac{1}{n}} = \\lim_{n \\rightarrow ∞}\\frac{n}{n+1} = 1$$"
   ]
  },
  {
   "cell_type": "markdown",
   "id": "3ec7c019",
   "metadata": {},
   "source": [
    "Так как q = 1, то получаем неопределнность, следовательно ряд расходится"
   ]
  },
  {
   "cell_type": "markdown",
   "id": "f836036d",
   "metadata": {},
   "source": [
    "$$***************$$"
   ]
  },
  {
   "cell_type": "markdown",
   "id": "db9e2290",
   "metadata": {},
   "source": [
    "5. $$ \\sum_1^∞ \\frac{(x-2)^{n+1}}{3^n(n+2)} $$"
   ]
  },
  {
   "cell_type": "markdown",
   "id": "f0f218d9",
   "metadata": {},
   "source": [
    "$$ \\frac{-x^2-2x-18log(\\frac{5-x}{3}) + 8}{2(x-2)} $$"
   ]
  },
  {
   "cell_type": "markdown",
   "id": "4a41fa64",
   "metadata": {},
   "source": [
    "$$ \\frac{0.5(-x^2-2x-18log(0.33(5-x)) + 8)}{2(x-2)}$$"
   ]
  },
  {
   "cell_type": "markdown",
   "id": "920e885f",
   "metadata": {},
   "source": [
    "Ряд сходится, когда $$ |x-2|<3 \\vee x = - 1 $$ "
   ]
  }
 ],
 "metadata": {
  "kernelspec": {
   "display_name": "Python 3 (ipykernel)",
   "language": "python",
   "name": "python3"
  },
  "language_info": {
   "codemirror_mode": {
    "name": "ipython",
    "version": 3
   },
   "file_extension": ".py",
   "mimetype": "text/x-python",
   "name": "python",
   "nbconvert_exporter": "python",
   "pygments_lexer": "ipython3",
   "version": "3.9.12"
  }
 },
 "nbformat": 4,
 "nbformat_minor": 5
}
