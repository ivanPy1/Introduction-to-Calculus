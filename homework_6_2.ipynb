{
 "cells": [
  {
   "cell_type": "markdown",
   "id": "34ed66a9",
   "metadata": {},
   "source": [
    "# Практическое задание"
   ]
  },
  {
   "cell_type": "markdown",
   "id": "f6b9349b",
   "metadata": {},
   "source": [
    "## Урок 6. Производная функции одной переменной. Часть 1"
   ]
  },
  {
   "cell_type": "markdown",
   "id": "f8193152",
   "metadata": {},
   "source": [
    "### 1. Найти производную выражения:"
   ]
  },
  {
   "cell_type": "markdown",
   "id": "411dff93",
   "metadata": {},
   "source": [
    "$$ a)\\quad \\left(\\sin\\left(x\\right)\\,\\cos\\left(x\\right)\\right)'_{x} $$"
   ]
  },
  {
   "cell_type": "markdown",
   "id": "d5b7c9f6",
   "metadata": {},
   "source": [
    "$$ \\left(\\cos\\left(x\\right)\\right)'_{x}\\cdot \\sin\\left(x\\right)+\\left(\\sin\\left(x\\right)\\right)'_{x}\\cdot \\cos\\left(x\\right)$$"
   ]
  },
  {
   "cell_type": "markdown",
   "id": "87306b98",
   "metadata": {},
   "source": [
    "$$-\\sin\\left(x\\right)\\cdot \\sin\\left(x\\right)+\\cos\\left(x\\right)\\cdot \\cos\\left(x\\right) $$"
   ]
  },
  {
   "cell_type": "markdown",
   "id": "7637fc7e",
   "metadata": {},
   "source": [
    "$$ \\cos^{2}\\left(x\\right)-\\sin^{2}\\left(x\\right) $$"
   ]
  },
  {
   "cell_type": "markdown",
   "id": "435871fb",
   "metadata": {},
   "source": [
    "$$ $$"
   ]
  },
  {
   "cell_type": "markdown",
   "id": "74398ed4",
   "metadata": {},
   "source": [
    "$$b) \\quad \\left(\\ln\\left(\\left(2\\,x+1\\right)^{3}\\right)\\right)'_{x}$$"
   ]
  },
  {
   "cell_type": "markdown",
   "id": "6b48e3a4",
   "metadata": {},
   "source": [
    "$$ \\left(3\\,\\ln\\left(2\\,x+1\\right)\\right)'_{x} $$"
   ]
  },
  {
   "cell_type": "markdown",
   "id": "138d0748",
   "metadata": {},
   "source": [
    "$$ 3\\cdot \\left(\\ln\\left(2\\,x+1\\right)\\right)'_{x}$$"
   ]
  },
  {
   "cell_type": "markdown",
   "id": "bba12961",
   "metadata": {},
   "source": [
    "$$ 3\\cdot \\dfrac{1}{2\\,x+1}\\cdot \\left(2\\,x+1\\right)'_{x}$$"
   ]
  },
  {
   "cell_type": "markdown",
   "id": "a654a3c8",
   "metadata": {},
   "source": [
    "$$ \\dfrac{3}{2\\,x+1}\\cdot \\left(2\\cdot \\left(x\\right)'_{x}+\\left(1\\right)'_{x}\\right)$$"
   ]
  },
  {
   "cell_type": "markdown",
   "id": "c5622779",
   "metadata": {},
   "source": [
    "$$ \\dfrac{3}{2\\,x+1}\\cdot \\left(2\\cdot 1+0\\right)$$"
   ]
  },
  {
   "cell_type": "markdown",
   "id": "f19bd1b2",
   "metadata": {},
   "source": [
    "$$ \\dfrac{6}{2\\,x+1}$$"
   ]
  },
  {
   "cell_type": "markdown",
   "id": "5c6f55bc",
   "metadata": {},
   "source": [
    "$$ $$"
   ]
  },
  {
   "cell_type": "markdown",
   "id": "08e7ec3d",
   "metadata": {},
   "source": [
    "$$ c) \\quad \\left(\\sqrt{\\sin^{2}\\left(\\ln\\left(x^{3}\\right)\\right)}\\right)'_{x} $$"
   ]
  },
  {
   "cell_type": "markdown",
   "id": "1c6d133b",
   "metadata": {},
   "source": [
    "$$\\left(\\left|\\sin\\left(3\\,\\ln\\left(x\\right)\\right)\\right|\\right)'_{x} $$"
   ]
  },
  {
   "cell_type": "markdown",
   "id": "e28fae6b",
   "metadata": {},
   "source": [
    "$$\\dfrac{\\sin\\left(3\\,\\ln\\left(x\\right)\\right)}{\\left|\\sin\\left(3\\,\\ln\\left(x\\right)\\right)\\right|}\\cdot \\left(\\sin\\left(3\\,\\ln\\left(x\\right)\\right)\\right)'_{x} $$"
   ]
  },
  {
   "cell_type": "markdown",
   "id": "97cbdfbf",
   "metadata": {},
   "source": [
    "$$ \\dfrac{\\sin\\left(3\\,\\ln\\left(x\\right)\\right)}{\\left|\\sin\\left(3\\,\\ln\\left(x\\right)\\right)\\right|}\\cdot \\cos\\left(3\\,\\ln\\left(x\\right)\\right)\\cdot \\left(3\\,\\ln\\left(x\\right)\\right)'_{x}$$"
   ]
  },
  {
   "cell_type": "markdown",
   "id": "30c05273",
   "metadata": {},
   "source": [
    "$$ \\dfrac{\\cos\\left(3\\,\\ln\\left(x\\right)\\right)\\,\\sin\\left(3\\,\\ln\\left(x\\right)\\right)}{\\left|\\sin\\left(3\\,\\ln\\left(x\\right)\\right)\\right|}\\cdot 3\\cdot \\left(\\ln\\left(x\\right)\\right)'_{x}$$"
   ]
  },
  {
   "cell_type": "markdown",
   "id": "ece6cf50",
   "metadata": {},
   "source": [
    "$$\\dfrac{3\\,\\cos\\left(3\\,\\ln\\left(x\\right)\\right)\\,\\sin\\left(3\\,\\ln\\left(x\\right)\\right)}{\\left|\\sin\\left(3\\,\\ln\\left(x\\right)\\right)\\right|}\\cdot \\left(\\ln\\left(x\\right)\\right)'_{x} $$"
   ]
  },
  {
   "cell_type": "markdown",
   "id": "ece78d9e",
   "metadata": {},
   "source": [
    "$$ \\dfrac{3\\,\\cos\\left(3\\,\\ln\\left(x\\right)\\right)\\,\\sin\\left(3\\,\\ln\\left(x\\right)\\right)}{\\left|\\sin\\left(3\\,\\ln\\left(x\\right)\\right)\\right|}\\cdot \\dfrac{1}{x}$$"
   ]
  },
  {
   "cell_type": "markdown",
   "id": "1d248f01",
   "metadata": {},
   "source": [
    "$$ \\dfrac{3\\,\\cos\\left(3\\,\\ln\\left(x\\right)\\right)\\,\\sin\\left(3\\,\\ln\\left(x\\right)\\right)}{x\\,\\left|\\sin\\left(3\\,\\ln\\left(x\\right)\\right)\\right|}$$"
   ]
  },
  {
   "cell_type": "markdown",
   "id": "7dd3c90e",
   "metadata": {},
   "source": [
    "$$ $$"
   ]
  },
  {
   "cell_type": "markdown",
   "id": "f8d0fa8a",
   "metadata": {},
   "source": [
    "$$d)\\quad\\left(\\frac{x^{4}}{\\ln\\left(x\\right)}\\right)'_{x} $$"
   ]
  },
  {
   "cell_type": "markdown",
   "id": "5aea9a25",
   "metadata": {},
   "source": [
    "$$ \\frac{\\left({x}^{4}\\right)'_{x}\\cdot \\ln\\left(x\\right)-\\left(\\ln\\left(x\\right)\\right)'_{x}\\cdot {x}^{4}}{\\ln^{2}\\left(x\\right)}$$"
   ]
  },
  {
   "cell_type": "markdown",
   "id": "3b11e8e8",
   "metadata": {},
   "source": [
    "$$ \\frac{4\\cdot {x}^{3}\\cdot \\ln\\left(x\\right)-\\dfrac{1}{x}\\cdot {x}^{4}}{\\ln^{2}\\left(x\\right)}$$"
   ]
  },
  {
   "cell_type": "markdown",
   "id": "f2b526e2",
   "metadata": {},
   "source": [
    "$$ \\dfrac{4\\,{x}^{3}\\,\\ln\\left(x\\right)-{x}^{3}}{\\ln^{2}\\left(x\\right)}$$"
   ]
  },
  {
   "cell_type": "markdown",
   "id": "d66b1d68",
   "metadata": {},
   "source": [
    "$$ $$"
   ]
  },
  {
   "cell_type": "markdown",
   "id": "e06cf12b",
   "metadata": {},
   "source": [
    "### 2.\tНайти выражение производной функции и ее значение в точке:"
   ]
  },
  {
   "cell_type": "markdown",
   "id": "7fad5b72",
   "metadata": {},
   "source": [
    "$$ f(x) = {\\cos\\left(x^{2}+3\\,x\\right)}, \\quad x0 ={\\sqrt{\\pi}} $$"
   ]
  },
  {
   "cell_type": "markdown",
   "id": "6c017f32",
   "metadata": {},
   "source": [
    "#### решим задание с помощью scipy.misc"
   ]
  },
  {
   "cell_type": "code",
   "execution_count": 7,
   "id": "93dfc6b3",
   "metadata": {},
   "outputs": [
    {
     "name": "stdout",
     "output_type": "stream",
     "text": [
      "производная функции в точке x0: -0.14000181266354414\n"
     ]
    }
   ],
   "source": [
    "from scipy.misc import derivative\n",
    "from math import cos, pi\n",
    "\n",
    "def f(x):\n",
    "    return cos(x**2 + 3*x)\n",
    "\n",
    "print(f'производная функции в точке x0: {derivative(f, pi)}')"
   ]
  },
  {
   "cell_type": "markdown",
   "id": "1feebf6e",
   "metadata": {},
   "source": [
    "$$ $$"
   ]
  },
  {
   "cell_type": "markdown",
   "id": "c50f4e8e",
   "metadata": {},
   "source": [
    "### 4.\tНайти угол наклона касательной к графику функции в точке:"
   ]
  },
  {
   "cell_type": "markdown",
   "id": "cc2e4289",
   "metadata": {},
   "source": [
    "$$ f(x) ={\\sqrt{3\\,x}\\,\\ln\\left(x\\right)}, \\quad x0 = 1 $$"
   ]
  },
  {
   "cell_type": "markdown",
   "id": "dbe854b1",
   "metadata": {},
   "source": [
    "$$ f(x) ={d\\,f\\cdot \\frac{1}{d\\,x}\\,\\left(x-1\\right)+f\\cdot 1}$$"
   ]
  },
  {
   "cell_type": "markdown",
   "id": "369c20e0",
   "metadata": {},
   "source": [
    "$$ f(1) = 0$$"
   ]
  },
  {
   "cell_type": "markdown",
   "id": "23510853",
   "metadata": {},
   "source": [
    "$${\\frac{d\\,f\\,(x)}{d\\,x}} = {\\sqrt{3}\\,\\left(\\frac{\\ln\\left(x\\right)}{\\sqrt{x}\\cdot 2}+\\frac{1}{\\sqrt{x}}\\right)} $$"
   ]
  },
  {
   "cell_type": "markdown",
   "id": "a9ead81d",
   "metadata": {},
   "source": [
    "$$ {\\frac{d\\,f\\,(1)}{d\\,x}} ={\\sqrt{3}}$$"
   ]
  },
  {
   "cell_type": "markdown",
   "id": "7658abe1",
   "metadata": {},
   "source": [
    "$$ y(x) = {\\sqrt{3}\\,\\left(x-1\\right)}$$"
   ]
  },
  {
   "cell_type": "markdown",
   "id": "c1f52c34",
   "metadata": {},
   "source": [
    "$$ y(x) = {\\sqrt{3}\\,x-\\sqrt{3}}$$"
   ]
  },
  {
   "cell_type": "code",
   "execution_count": 59,
   "id": "af2e16d6",
   "metadata": {},
   "outputs": [
    {
     "data": {
      "image/png": "[encoded data removed]",
      "text/plain": [
       "<Figure size 432x288 with 1 Axes>"
      ]
     },
     "metadata": {
      "needs_background": "light"
     },
     "output_type": "display_data"
    }
   ],
   "source": [
    "import numpy as np\n",
    "from math import sqrt, log\n",
    "import matplotlib.pyplot as plt\n",
    "    \n",
    "x = np.arange(-34, 36)\n",
    "y = sqrt(3)*x - sqrt(3)\n",
    "\n",
    "\n",
    "# y_1 = sqrt(x*3)*log(x)\n",
    "\n",
    "\n",
    "plt.scatter(1, 0, color='red')\n",
    "\n",
    "plt.plot(x, y, 'b')\n",
    "plt.plot(x, y_1)\n",
    "plt.show()\n"
   ]
  },
  {
   "cell_type": "markdown",
   "id": "f06af180",
   "metadata": {},
   "source": [
    "$$ $$"
   ]
  }
 ],
 "metadata": {
  "kernelspec": {
   "display_name": "Python 3 (ipykernel)",
   "language": "python",
   "name": "python3"
  },
  "language_info": {
   "codemirror_mode": {
    "name": "ipython",
    "version": 3
   },
   "file_extension": ".py",
   "mimetype": "text/x-python",
   "name": "python",
   "nbconvert_exporter": "python",
   "pygments_lexer": "ipython3",
   "version": "3.9.12"
  }
 },
 "nbformat": 4,
 "nbformat_minor": 5
}
