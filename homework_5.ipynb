{
 "cells": [
  {
   "cell_type": "markdown",
   "id": "68fc02cc",
   "metadata": {},
   "source": [
    "# Практическое задание"
   ]
  },
  {
   "cell_type": "markdown",
   "id": "53469171",
   "metadata": {},
   "source": [
    "## Урок 5. Предел функции. Часть 2"
   ]
  },
  {
   "cell_type": "markdown",
   "id": "d961bafb",
   "metadata": {},
   "source": [
    "## 1. Найти пределы"
   ]
  },
  {
   "cell_type": "markdown",
   "id": "5feaf202",
   "metadata": {},
   "source": [
    "1. $$ \\lim_{x\\to{\\infty}}{\\ln\\left(x+3\\right)-\\ln\\left(x\\right)} $$"
   ]
  },
  {
   "cell_type": "markdown",
   "id": "fd3cfa23",
   "metadata": {},
   "source": [
    "$$ \\infty-\\infty$$ "
   ]
  },
  {
   "cell_type": "markdown",
   "id": "45389ac2",
   "metadata": {},
   "source": [
    "$$ \\lim_{x\\to{\\infty}}{\\ln\\left(\\infty+3\\right)-\\ln\\left(\\infty\\right)}=\\lim_{x\\to{\\infty}}{\\infty-\\infty} $$ "
   ]
  },
  {
   "cell_type": "markdown",
   "id": "d3ed0e2f",
   "metadata": {},
   "source": [
    "$$ \\lim_{x\\to{\\infty}}{\\ln\\left(x+3\\right)-\\ln\\left(x\\right)} $$"
   ]
  },
  {
   "cell_type": "markdown",
   "id": "18f452c0",
   "metadata": {},
   "source": [
    "$$ \\ln\\left(\\alpha\\right)-\\ln\\left(\\beta\\right)=\\ln\\left(\\frac{\\alpha}{\\beta}\\right) $$"
   ]
  },
  {
   "cell_type": "markdown",
   "id": "53fc5de4",
   "metadata": {},
   "source": [
    "$$ \\lim_{x\\to{\\infty}}{\\ln\\left(\\frac{3}{x}+1\\right)}$$ "
   ]
  },
  {
   "cell_type": "markdown",
   "id": "93cd0e55",
   "metadata": {},
   "source": [
    "$$ x=\\infty$$ "
   ]
  },
  {
   "cell_type": "markdown",
   "id": "8b4a8319",
   "metadata": {},
   "source": [
    "$$ f\\left(x\\right)=\\ln\\left(\\frac{3}{x}+1\\right)$$ "
   ]
  },
  {
   "cell_type": "markdown",
   "id": "2ba74831",
   "metadata": {},
   "source": [
    "$$ \\lim_{x\\to{\\infty}}{\\ln\\left(\\frac{3}{\\infty}+1\\right)}=0$$ "
   ]
  },
  {
   "cell_type": "markdown",
   "id": "8fdabed3",
   "metadata": {},
   "source": [
    "$$*************************************************************$$"
   ]
  },
  {
   "cell_type": "markdown",
   "id": "393c0f06",
   "metadata": {},
   "source": [
    "2. $$\\lim_{x\\to{0}}{\\dfrac{\\ln\\left(2\\,x+1\\right)}{\\arcsin\\left(3\\,x\\right)}}$$"
   ]
  },
  {
   "cell_type": "markdown",
   "id": "2ede51d7",
   "metadata": {},
   "source": [
    "$$\\dfrac{0}{0}$$"
   ]
  },
  {
   "cell_type": "markdown",
   "id": "f52e83b6",
   "metadata": {},
   "source": [
    "$$\\lim_{x\\to{0}}{\\dfrac{\\ln\\left(2\\cdot 0+1\\right)}{\\arcsin\\left(3\\cdot 0\\right)}}==\\lim_{x\\to{0}}{\\dfrac{0}{0}}$$"
   ]
  },
  {
   "cell_type": "markdown",
   "id": "333552b2",
   "metadata": {},
   "source": [
    "$$\\lim_{x\\to{0}}{\\dfrac{\\ln\\left(2\\,x+1\\right)}{\\arcsin\\left(3\\,x\\right)}}$$"
   ]
  },
  {
   "cell_type": "markdown",
   "id": "58a65a69",
   "metadata": {},
   "source": [
    "$${\\ln\\left(\\beta\\right)=\\dfrac{\\alpha}{\\alpha}\\,\\ln\\left(\\beta\\right)=\\alpha\\,\\ln\\left(\\sqrt[{\\alpha}]{\\beta}\\right)}$$"
   ]
  },
  {
   "cell_type": "markdown",
   "id": "4c0e715d",
   "metadata": {},
   "source": [
    "$$\\lim_{x\\to{0}}{\\dfrac{2\\,x\\,\\ln\\left(\\left(2\\,x+1\\right)^{\\frac{1}{2\\,x}}\\right)}{\\arcsin\\left(3\\,x\\right)}}$$"
   ]
  },
  {
   "cell_type": "markdown",
   "id": "226701c9",
   "metadata": {},
   "source": [
    "$$ \\lim_{x\\to{\\infty}}{(1+\\frac{1}{x})^{x}}=e$$"
   ]
  },
  {
   "cell_type": "markdown",
   "id": "2583ffdc",
   "metadata": {},
   "source": [
    "$$\\frac{1}{x}\\to{0}$$"
   ]
  },
  {
   "cell_type": "markdown",
   "id": "d9863812",
   "metadata": {},
   "source": [
    "$$\\lim_{x\\to{0}}{\\dfrac{2\\,\\ln\\left(\\left(1+2\\,x\\right)^{\\frac{1}{2\\,x}}\\right)\\,x}{\\arcsin\\left(3\\,x\\right)}}=\\underset{\\scriptsize\\begin{gathered}2\\,x\\to{0}\\end{gathered}}{=}\\lim_{x\\to{0}}{\\dfrac{2\\,\\ln\\left(e\\right)\\,x}{\\arcsin\\left(3\\,x\\right)}}$$"
   ]
  },
  {
   "cell_type": "markdown",
   "id": "4d47ae8e",
   "metadata": {},
   "source": [
    "$$\\lim_{x\\to{0}}{\\dfrac{2\\,x}{\\arcsin\\left(3\\,x\\right)}}$$"
   ]
  },
  {
   "cell_type": "markdown",
   "id": "dafb5170",
   "metadata": {},
   "source": [
    "$$2\\,\\lim_{x\\to{0}}{\\dfrac{1}{3\\cdot \\dfrac{\\arcsin\\left(3\\,x\\right)}{3\\,x}}}$$"
   ]
  },
  {
   "cell_type": "markdown",
   "id": "5da21dad",
   "metadata": {},
   "source": [
    "$$\\lim_{x\\to{0}}{\\dfrac{\\arcsin\\left(x\\right)}{x}}=1$$"
   ]
  },
  {
   "cell_type": "markdown",
   "id": "58053aa1",
   "metadata": {},
   "source": [
    "$$2\\,\\lim_{x\\to{0}}{\\dfrac{1}{3}}$$"
   ]
  },
  {
   "cell_type": "markdown",
   "id": "61770633",
   "metadata": {},
   "source": [
    "$$\\lim{\\mathrm{C}}=\\mathrm{C}$$"
   ]
  },
  {
   "cell_type": "markdown",
   "id": "824a93fd",
   "metadata": {},
   "source": [
    "$$2\\,\\lim_{x\\to{0}}{\\dfrac{1}{3}}=\\dfrac{2}{3}$$"
   ]
  },
  {
   "cell_type": "markdown",
   "id": "a7798be3",
   "metadata": {},
   "source": [
    "$$*************************************************************$$"
   ]
  },
  {
   "cell_type": "markdown",
   "id": "6a7dbc49",
   "metadata": {},
   "source": [
    "3. $$\\lim_{x\\to{0}}{\\dfrac{7^{x}-1}{3^{x}-1}}$$"
   ]
  },
  {
   "cell_type": "markdown",
   "id": "50d70e6d",
   "metadata": {},
   "source": [
    "$$\\dfrac{0}{0}$$"
   ]
  },
  {
   "cell_type": "markdown",
   "id": "a30b5a8a",
   "metadata": {},
   "source": [
    "$$\\lim_{x\\to{0}}{\\dfrac{7^{0}-1}{3^{0}-1}}=\\lim_{x\\to{0}}{\\dfrac{0}{0}}$$"
   ]
  },
  {
   "cell_type": "markdown",
   "id": "07d3332c",
   "metadata": {},
   "source": [
    "$$\\lim_{x\\to{0}}{\\dfrac{\\dfrac{7^{x}-1}{x}}{\\dfrac{3^{x}-1}{x}}}$$"
   ]
  },
  {
   "cell_type": "markdown",
   "id": "dbc0b8fd",
   "metadata": {},
   "source": [
    "$$\\lim_{x\\to{0}}{\\dfrac{a^{x}-1}{x}}=\\ln\\left(a\\right)$$\n",
    "$$где $$\n",
    "$$ a — константа$$"
   ]
  },
  {
   "cell_type": "markdown",
   "id": "2b75bc50",
   "metadata": {},
   "source": [
    "$$ \\lim_{x\\to{0}}{\\dfrac{\\ln\\left(7\\right)}{\\ln\\left(3\\right)}}$$"
   ]
  },
  {
   "cell_type": "markdown",
   "id": "bc45f863",
   "metadata": {},
   "source": [
    "$$\\lim{\\mathrm{C}}=\\mathrm{C}$$"
   ]
  },
  {
   "cell_type": "markdown",
   "id": "ba5eaa6b",
   "metadata": {},
   "source": [
    "$$\\lim_{x\\to{0}}{\\dfrac{\\ln\\left(7\\right)}{\\ln\\left(3\\right)}}=\\dfrac{\\ln\\left(7\\right)}{\\ln\\left(3\\right)}$$"
   ]
  },
  {
   "cell_type": "markdown",
   "id": "f1a1339c",
   "metadata": {},
   "source": [
    "$$*************************************************************$$"
   ]
  },
  {
   "cell_type": "markdown",
   "id": "6550280d",
   "metadata": {},
   "source": [
    "4. $$ \\lim_{a\\to{0}}{\\dfrac{\\left(a+x\\right)^{3}-x^{3}}{a}}$$"
   ]
  },
  {
   "cell_type": "markdown",
   "id": "304d5b72",
   "metadata": {},
   "source": [
    "$$ \\dfrac{0}{0}$$"
   ]
  },
  {
   "cell_type": "markdown",
   "id": "0f780c97",
   "metadata": {},
   "source": [
    "$$\\lim_{a\\to{0}}{\\dfrac{\\left(0+x\\right)^{3}-x^{3}}{0}}=\\lim_{a\\to{0}}{\\dfrac{0}{0}}$$"
   ]
  },
  {
   "cell_type": "markdown",
   "id": "8a85945d",
   "metadata": {},
   "source": [
    "$$\\dfrac{a\\,\\left(a^{2}+3\\,x\\,a+3\\,x^{2}\\right)}{a}$$"
   ]
  },
  {
   "cell_type": "markdown",
   "id": "b607a0d3",
   "metadata": {},
   "source": [
    "$$\\lim_{a\\to{0}}{\\dfrac{\\left(a^{2}+3\\,x\\,a+3\\,x^{2}\\right)\\,\\cancel{a}}{\\cancel{a}}}=\\lim_{a\\to{0}}{a^{2}+3\\,x\\,a+3\\,x^{2}}$$"
   ]
  },
  {
   "cell_type": "markdown",
   "id": "ff0a5c95",
   "metadata": {},
   "source": [
    "посдатвляем значение а = 0"
   ]
  },
  {
   "cell_type": "markdown",
   "id": "c8304515",
   "metadata": {},
   "source": [
    "$$f\\left(a\\right)=a^{2}+3\\,x\\,a+3\\,x^{2}$$"
   ]
  },
  {
   "cell_type": "markdown",
   "id": "1c9b3963",
   "metadata": {},
   "source": [
    "$$\\lim_{a\\to{0}}{0^{2}+3\\,x\\,0+3\\cdot x^{2}}=3\\,x^{2}$$"
   ]
  },
  {
   "cell_type": "markdown",
   "id": "58f8d061",
   "metadata": {},
   "source": [
    "$$*************************************************************$$"
   ]
  },
  {
   "cell_type": "markdown",
   "id": "71806808",
   "metadata": {},
   "source": [
    "5. $$\\lim_{x\\to{\\infty}}{\\dfrac{x^{3}}{5\\,x^{2}+1}-\\dfrac{x^{2}}{5\\,x-3}}$$"
   ]
  },
  {
   "cell_type": "markdown",
   "id": "978606c4",
   "metadata": {},
   "source": [
    "$$ \\dfrac{\\infty}{\\infty}$$"
   ]
  },
  {
   "cell_type": "markdown",
   "id": "6f80f9a5",
   "metadata": {},
   "source": [
    "$$\\lim_{x\\to{\\infty}}{\\dfrac{\\infty^{3}}{5\\cdot \\infty^{2}+1}-\\dfrac{\\infty^{2}}{5\\,\\infty-3}}=\\lim_{x\\to{\\infty}}{\\dfrac{\\infty}{\\infty}-\\dfrac{\\infty}{\\infty}} $$"
   ]
  },
  {
   "cell_type": "markdown",
   "id": "339644df",
   "metadata": {},
   "source": [
    "$$ \\lim_{x\\to{\\infty}}{\\dfrac{x}{\\dfrac{1}{x^{2}}+5}+\\dfrac{-x}{5-\\dfrac{3}{x}}}$$"
   ]
  },
  {
   "cell_type": "markdown",
   "id": "0eb1a51a",
   "metadata": {},
   "source": [
    "$$ \\frac{1}{{x}^{\\mathrm{n}}}\\to{0}\\,,\\;\\;\\mathrm{n}>0, x\\to{\\infty}$$"
   ]
  },
  {
   "cell_type": "markdown",
   "id": "a6e89a72",
   "metadata": {},
   "source": [
    "$$\\lim_{x\\to{\\infty}}{\\dfrac{x}{{\\cancel{\\dfrac{1}{x^{2}}}^{\\,\\Large{^{0}}}}+5}+\\dfrac{-x}{5-3\\cdot {\\cancel{\\dfrac{1}{x}}^{\\,\\Large{^{0}}}}}}=\\lim_{x\\to{\\infty}}{\\dfrac{x}{5}+\\dfrac{-x}{5}} $$"
   ]
  },
  {
   "cell_type": "markdown",
   "id": "1c55ab91",
   "metadata": {},
   "source": [
    "$$ \\lim_{x\\to{\\infty}}{\\dfrac{x}{5}+\\dfrac{-x}{5}}$$"
   ]
  },
  {
   "cell_type": "markdown",
   "id": "6af91e8e",
   "metadata": {},
   "source": [
    "$$ \\lim_{x\\to{\\infty}}{-\\infty+\\infty}=\\infty$$"
   ]
  },
  {
   "cell_type": "markdown",
   "id": "f4778741",
   "metadata": {},
   "source": [
    "$$*************************************************************$$"
   ]
  },
  {
   "cell_type": "markdown",
   "id": "b9e30905",
   "metadata": {},
   "source": [
    "6. $$ \\lim_{x\\to{0}}{\\dfrac{1-\\cos\\left(4\\,x\\right)}{2\\,x\\,\\operatorname{tg}\\left(2\\,x\\right)}}$$"
   ]
  },
  {
   "cell_type": "markdown",
   "id": "928af0e4",
   "metadata": {},
   "source": [
    "$$\\dfrac{0}{0} $$"
   ]
  },
  {
   "cell_type": "markdown",
   "id": "dff0a9d9",
   "metadata": {},
   "source": [
    "$$ \\lim_{x\\to{0}}{\\dfrac{1-\\cos\\left(4\\cdot 0\\right)}{2\\cdot 0\\cdot \\dfrac{\\sin\\left(2\\cdot 0\\right)}{\\cos\\left(2\\cdot 0\\right)}}}=\\lim_{x\\to{0}}{\\dfrac{0}{0}}$$"
   ]
  },
  {
   "cell_type": "markdown",
   "id": "ac21e3a7",
   "metadata": {},
   "source": [
    "$$ \\operatorname{tg}\\left(\\alpha\\right)=\\dfrac{\\sin\\left(\\alpha\\right)}{\\cos\\left(\\alpha\\right)}$$"
   ]
  },
  {
   "cell_type": "markdown",
   "id": "6d189fac",
   "metadata": {},
   "source": [
    "$$\\dfrac{1}{2}\\,\\lim_{x\\to{0}}{\\dfrac{\\cos\\left(2\\,x\\right)\\,\\left(1-\\cos\\left(4\\,x\\right)\\right)}{x\\,\\sin\\left(2\\,x\\right)}}$$"
   ]
  },
  {
   "cell_type": "markdown",
   "id": "a3f71365",
   "metadata": {},
   "source": [
    "$$ \\dfrac{1}{2}\\,\\lim_{x\\to{0}}{-\\dfrac{\\cos\\left(2\\,x\\right)\\,\\cos\\left(4\\,x\\right)-\\cos\\left(2\\,x\\right)}{x\\,\\sin\\left(2\\,x\\right)}}$$"
   ]
  },
  {
   "cell_type": "markdown",
   "id": "cdd79052",
   "metadata": {},
   "source": [
    "$$ \\dfrac{1}{2}\\,\\lim_{x\\to{0}}{-\\dfrac{\\cos\\left(2\\,x\\right)\\,\\left(\\cos\\left(4\\,x\\right)-1\\right)}{x\\,\\sin\\left(2\\,x\\right)}}$$"
   ]
  },
  {
   "cell_type": "markdown",
   "id": "7ccef6f6",
   "metadata": {},
   "source": [
    "$$ \\lim_{x\\to{0}}{-\\dfrac{\\cos\\left(2\\,x\\right)\\,\\left(\\cos\\left(4\\,x\\right)-1\\right)}{x\\,\\sin\\left(2\\,x\\right)}}==\\lim_{x\\to{0}}{{\\cancel{-\\cos\\left(2\\,x\\right)}^{\\,\\Large{^{-1}}}}}\\cdot\\lim_{x\\to{0}}{\\dfrac{\\cos\\left(4\\,x\\right)-1}{x\\,\\sin\\left(2\\,x\\right)}}$$"
   ]
  },
  {
   "cell_type": "markdown",
   "id": "4252b8fb",
   "metadata": {},
   "source": [
    "$$ -\\dfrac{1}{2}\\,\\lim_{x\\to{0}}{\\dfrac{\\cos\\left(4\\,x\\right)-1}{x\\,\\sin\\left(2\\,x\\right)}}$$"
   ]
  },
  {
   "cell_type": "markdown",
   "id": "f2c317fe",
   "metadata": {},
   "source": [
    "$$-\\dfrac{1}{2}\\,\\lim_{x\\to{0}}{\\dfrac{\\cos\\left(4\\,x\\right)-1}{2\\,x^{2}\\,\\dfrac{\\sin\\left(2\\,x\\right)}{2\\,x}}} $$"
   ]
  },
  {
   "cell_type": "markdown",
   "id": "b8bd4a52",
   "metadata": {},
   "source": [
    "$$ \\lim_{x\\to{0}}{\\dfrac{\\sin\\left(x\\right)}{x}}=1$$"
   ]
  },
  {
   "cell_type": "markdown",
   "id": "c571bfe2",
   "metadata": {},
   "source": [
    "$$-\\dfrac{1}{2}\\,\\lim_{x\\to{0}}{\\dfrac{\\cos\\left(4\\,x\\right)-1}{2\\,x^{2}}} $$"
   ]
  },
  {
   "cell_type": "markdown",
   "id": "8e79f154",
   "metadata": {},
   "source": [
    "$$ \\dfrac{1-\\cos\\left(2\\,x\\right)}{2}=\\sin^{2}\\left(x\\right)$$"
   ]
  },
  {
   "cell_type": "markdown",
   "id": "24f7499b",
   "metadata": {},
   "source": [
    "$$\\dfrac{1}{2}\\,\\lim_{x\\to{0}}{4\\cdot \\left(\\dfrac{\\sin\\left(2\\,x\\right)}{2\\,x}\\right)^{2}} $$"
   ]
  },
  {
   "cell_type": "markdown",
   "id": "57534551",
   "metadata": {},
   "source": [
    "$$ \\lim_{x\\to{0}}{\\dfrac{\\sin\\left(x\\right)}{x}}=1$$"
   ]
  },
  {
   "cell_type": "markdown",
   "id": "7598be0a",
   "metadata": {},
   "source": [
    "$$ \\dfrac{1}{2}\\,\\lim_{x\\to{0}}{4}$$"
   ]
  },
  {
   "cell_type": "markdown",
   "id": "65e5219a",
   "metadata": {},
   "source": [
    "$$ \\lim{\\mathrm{C}}=\\mathrm{C}$$"
   ]
  },
  {
   "cell_type": "markdown",
   "id": "05cf5ba6",
   "metadata": {},
   "source": [
    "$$ \\dfrac{1}{2}\\,\\lim_{x\\to{0}}{4}=2$$"
   ]
  },
  {
   "cell_type": "markdown",
   "id": "5d69694c",
   "metadata": {},
   "source": [
    "$$*************************************************************$$"
   ]
  },
  {
   "cell_type": "markdown",
   "id": "30fb8e46",
   "metadata": {},
   "source": [
    "7. $$ \\lim_{x\\to{\\infty}}{\\sin\\left(\\frac{2}{x}\\right)\\,x}$$"
   ]
  },
  {
   "cell_type": "markdown",
   "id": "00cde6f1",
   "metadata": {},
   "source": [
    "$$ 0\\cdot\\infty$$"
   ]
  },
  {
   "cell_type": "markdown",
   "id": "d378781d",
   "metadata": {},
   "source": [
    "$$\\lim_{x\\to{\\infty}}{\\sin\\left(\\frac{2}{\\infty}\\right)\\,\\infty}=\\lim_{x\\to{\\infty}}{0\\,\\infty\\,1} $$"
   ]
  },
  {
   "cell_type": "markdown",
   "id": "5849a19e",
   "metadata": {},
   "source": [
    "$$ \\lim_{x\\to{\\infty}}{\\frac{\\sin\\left(x\\right)}{x}}=1$$"
   ]
  },
  {
   "cell_type": "markdown",
   "id": "ed1eced3",
   "metadata": {},
   "source": [
    "$$ 2\\,\\lim_{x\\to{\\infty}}{\\dfrac{\\sin\\left(\\frac{2}{x}\\right)\\,x}{2}}\\underset{\\frac{2}{x}\\to{0}}{=}2$$"
   ]
  },
  {
   "cell_type": "markdown",
   "id": "5a45362f",
   "metadata": {},
   "source": [
    "$$*************************************************************$$"
   ]
  },
  {
   "cell_type": "markdown",
   "id": "b5f27f0a",
   "metadata": {},
   "source": [
    "8.$$\\lim_{x\\to{0}}{\\left(\\operatorname{tg}\\left(x\\right)+1\\right)^{\\operatorname{ctg}\\left(x\\right)}} $$"
   ]
  },
  {
   "cell_type": "markdown",
   "id": "86487230",
   "metadata": {},
   "source": [
    "$$ 1^{\\infty}$$"
   ]
  },
  {
   "cell_type": "markdown",
   "id": "d384265d",
   "metadata": {},
   "source": [
    "$$ \\lim_{x\\to{0}}{\\left(\\dfrac{0}{1}+1\\right)^{\\frac{1}{0}}}=\\lim_{x\\to{0}}{1^{\\infty}\\,1}$$"
   ]
  },
  {
   "cell_type": "markdown",
   "id": "32e545c8",
   "metadata": {},
   "source": [
    "$$ \\lim_{x\\to{\\infty}}{(1+\\frac{1}{x})^{x}}=e$$\n",
    "$$ \\frac{1}{x}\\to{0} $$"
   ]
  },
  {
   "cell_type": "markdown",
   "id": "f6165f06",
   "metadata": {},
   "source": [
    "$$ \\lim_{x\\to{0}}{\\left(1+\\operatorname{tg}\\left(x\\right)\\right)^{\\operatorname{ctg}\\left(x\\right)}}\\underset{\\scriptsize\\begin{gathered}\\operatorname{tg}\\left(x\\right)\\to{0}\\end{gathered}}{=}\\,e$$"
   ]
  },
  {
   "cell_type": "markdown",
   "id": "0e983f3a",
   "metadata": {},
   "source": [
    "$$*************************************************************$$"
   ]
  },
  {
   "cell_type": "markdown",
   "id": "aa055b72",
   "metadata": {},
   "source": [
    "10. $$ \\lim_{x\\to{0}}{\\dfrac{\\sqrt{x\\,\\sin\\left(x\\right)+1}-1}{x^{2}}}$$"
   ]
  },
  {
   "cell_type": "markdown",
   "id": "d6d770d7",
   "metadata": {},
   "source": [
    "$$ \\dfrac{0}{0}$$"
   ]
  },
  {
   "cell_type": "markdown",
   "id": "5928600f",
   "metadata": {},
   "source": [
    "$$ \\lim_{x\\to{0}}{\\dfrac{\\sqrt{0\\cdot 0+1}-1}{0^{2}}}=\\lim_{x\\to{0}}{\\dfrac{0}{0}}$$"
   ]
  },
  {
   "cell_type": "markdown",
   "id": "ffaff62a",
   "metadata": {},
   "source": [
    "$$\\sqrt{x\\,\\sin\\left(x\\right)+1}-1 $$\n",
    "$$\\sqrt{x\\,\\sin\\left(x\\right)+1}+1 $$"
   ]
  },
  {
   "cell_type": "markdown",
   "id": "7c3af6eb",
   "metadata": {},
   "source": [
    "$$ \\lim_{x\\to{0}}{\\dfrac{\\left(\\sqrt{x\\,\\sin\\left(x\\right)+1}-1\\right)\\,\\left(\\sqrt{x\\,\\sin\\left(x\\right)+1}+1\\right)}{x^{2}\\,\\left(\\sqrt{x\\,\\sin\\left(x\\right)+1}+1\\right)}}$$"
   ]
  },
  {
   "cell_type": "markdown",
   "id": "0c02eeee",
   "metadata": {},
   "source": [
    "$$\\dfrac{x\\,\\sin\\left(x\\right)}{x^{2}\\,\\left(\\sqrt{x\\,\\sin\\left(x\\right)+1}+1\\right)} $$"
   ]
  },
  {
   "cell_type": "markdown",
   "id": "a67dda32",
   "metadata": {},
   "source": [
    "$$ \\lim_{x\\to{0}}{\\dfrac{\\cancel{x}\\,\\sin\\left(x\\right)}{x\\,\\cancel{x}\\,\\left(\\sqrt{x\\,\\sin\\left(x\\right)+1}+1\\right)}}=\\lim_{x\\to{0}}{\\dfrac{\\sin\\left(x\\right)}{x\\,\\left(\\sqrt{x\\,\\sin\\left(x\\right)+1}+1\\right)}}$$"
   ]
  },
  {
   "cell_type": "markdown",
   "id": "75974d38",
   "metadata": {},
   "source": [
    "$$\\lim_{x\\to{0}}{\\dfrac{\\dfrac{\\sin\\left(x\\right)}{x}}{\\sqrt{x^{2}\\,\\dfrac{\\sin\\left(x\\right)}{x}+1}+1}} $$"
   ]
  },
  {
   "cell_type": "markdown",
   "id": "67358cc1",
   "metadata": {},
   "source": [
    "$$ \\lim_{x\\to{0}}{\\dfrac{\\sin\\left(x\\right)}{x}}=1$$"
   ]
  },
  {
   "cell_type": "markdown",
   "id": "28a77658",
   "metadata": {},
   "source": [
    "$$\\lim_{x\\to{0}}{\\dfrac{1}{\\sqrt{x^{2}+1}+1}} $$"
   ]
  },
  {
   "cell_type": "markdown",
   "id": "6f9a01c4",
   "metadata": {},
   "source": [
    "$$ \\lim_{x\\to{0}}{\\dfrac{1}{\\sqrt{0^{2}+1}+1}}=\\dfrac{1}{2}$$"
   ]
  },
  {
   "cell_type": "markdown",
   "id": "cc04daa7",
   "metadata": {},
   "source": [
    "## 2. Установить характер разрыва функции в точке x0:"
   ]
  },
  {
   "cell_type": "markdown",
   "id": "94d3c578",
   "metadata": {},
   "source": [
    "воспользуемся бибилотекой для символьных вичислений SymPy "
   ]
  },
  {
   "cell_type": "markdown",
   "id": "30050f5f",
   "metadata": {},
   "source": [
    "$$ 1. \\quad \\quad f(x) = (x^2 - 16) / (x + 4), при \\quad x0 = - 4$$ "
   ]
  },
  {
   "cell_type": "code",
   "execution_count": 1,
   "id": "7965ab96",
   "metadata": {},
   "outputs": [],
   "source": [
    "import numpy as np\n",
    "import matplotlib.pyplot as plt\n",
    "import sympy as sym\n",
    "\n",
    "import warnings\n",
    "warnings.filterwarnings(\"ignore\")"
   ]
  },
  {
   "cell_type": "code",
   "execution_count": 2,
   "id": "9f134dbf",
   "metadata": {},
   "outputs": [
    {
     "data": {
      "text/plain": [
       "[<matplotlib.lines.Line2D at 0xa29fa18>]"
      ]
     },
     "execution_count": 2,
     "metadata": {},
     "output_type": "execute_result"
    },
    {
     "data": {
      "image/png": "[encoded data removed]",
      "text/plain": [
       "<Figure size 432x288 with 1 Axes>"
      ]
     },
     "metadata": {
      "needs_background": "light"
     },
     "output_type": "display_data"
    }
   ],
   "source": [
    "x = sym.Symbol('x')\n",
    "f = (x**2-16)/(x+4)\n",
    "\n",
    "x_1 = sym.limit(f, x, -4)\n",
    "x_2 = sym.limit(f, x, 4)\n",
    "\n",
    "x = np.linspace(-10, 2, 100)\n",
    "x[(x>x_1) & (x<x_2)] = np.nan\n",
    "\n",
    "plt.plot(x, x)"
   ]
  },
  {
   "cell_type": "code",
   "execution_count": 3,
   "id": "e49eec05",
   "metadata": {},
   "outputs": [
    {
     "name": "stdout",
     "output_type": "stream",
     "text": [
      "предел функции:-8 для x -> -4 \n",
      "предел функции: 0 для x -> 4\n"
     ]
    }
   ],
   "source": [
    "print(f'предел функции:{x_1} для x -> -4 \\nпредел функции: {x_2} для x -> 4')"
   ]
  },
  {
   "cell_type": "markdown",
   "id": "e99e936b",
   "metadata": {},
   "source": [
    "Характер разрыва функции в точке - разрыв первого рода, так как у функции существуют как конечный (т. е. не равный бесконечности) левый предел, так и конечный правый предел, но функция не определена в точке или левый и правый пределы различны (не равны)"
   ]
  },
  {
   "cell_type": "markdown",
   "id": "b8074c0e",
   "metadata": {},
   "source": [
    "$$ 2.  \\quad \\quad f(x)=sinx/x, при\\quad x0=0$$"
   ]
  },
  {
   "cell_type": "code",
   "execution_count": 4,
   "id": "cb6dd6aa",
   "metadata": {
    "scrolled": true
   },
   "outputs": [
    {
     "data": {
      "text/plain": [
       "[<matplotlib.lines.Line2D at 0xa9b5c58>]"
      ]
     },
     "execution_count": 4,
     "metadata": {},
     "output_type": "execute_result"
    },
    {
     "data": {
      "image/png": "[encoded data removed]",
      "text/plain": [
       "<Figure size 432x288 with 1 Axes>"
      ]
     },
     "metadata": {
      "needs_background": "light"
     },
     "output_type": "display_data"
    }
   ],
   "source": [
    "x = sym.Symbol('x')\n",
    "f = sym.sin(x) / x\n",
    "\n",
    "x_limit = int(sym.limit(f, x, 0))\n",
    "\n",
    "x = np.arange(-9.4, 9.4, 0.1)\n",
    "y = np.sin(x)/x\n",
    "fig, ax = plt.subplots()\n",
    "plt.scatter([0], [x_limit], color=\"red\")\n",
    "ax.plot(x, y)"
   ]
  },
  {
   "cell_type": "code",
   "execution_count": 5,
   "id": "af0cfd26",
   "metadata": {},
   "outputs": [
    {
     "name": "stdout",
     "output_type": "stream",
     "text": [
      "предел функции: 1 для x -> 0\n"
     ]
    }
   ],
   "source": [
    "print(f'предел функции: {x_limit} для x -> 0')"
   ]
  },
  {
   "cell_type": "markdown",
   "id": "b43d93ae",
   "metadata": {},
   "source": [
    "Характер разрыва функции в точке - точка устранимого разрыва"
   ]
  },
  {
   "cell_type": "markdown",
   "id": "3386b158",
   "metadata": {},
   "source": [
    "## 3. Исследовать на непрерывность функцию f(x) в точке x0:\n"
   ]
  },
  {
   "cell_type": "markdown",
   "id": "42673426",
   "metadata": {},
   "source": [
    "1. $$ f(x)= arctg(2 / x-1), при\\quad x0=1$$"
   ]
  },
  {
   "cell_type": "code",
   "execution_count": 6,
   "id": "d01aabe3",
   "metadata": {},
   "outputs": [
    {
     "data": {
      "image/png": "[encoded data removed]",
      "text/plain": [
       "<Figure size 432x288 with 1 Axes>"
      ]
     },
     "metadata": {
      "needs_background": "light"
     },
     "output_type": "display_data"
    }
   ],
   "source": [
    "x = sym.Symbol('x')\n",
    "f = sym.atan(2 / (x-1))\n",
    "\n",
    "fig, ax = plt.subplots()\n",
    "\n",
    "# найдем предел функции \n",
    "\n",
    "x_1_limit = int(sym.limit(f, x, -1))\n",
    "x_2_limit = int(sym.limit(f, x, 1))\n",
    "\n",
    "plt.plot(x_1_limit, x_2_limit, 'b--')\n",
    "\n",
    "x = np.arange(1, 9.4, 0.1)\n",
    "y = np.arctan(2/(x-1))\n",
    "x_1 = x\n",
    "y_1 = y\n",
    "\n",
    "plt.plot(x_1, y_1, 'b')\n",
    "\n",
    "x = np.arange(-9.4, 1, 0.1)\n",
    "y = np.arctan(2/(x-1))\n",
    "x_2 = x\n",
    "y_2 = y\n",
    "\n",
    "plt.plot(x_2, y_2, 'b')\n",
    "\n",
    "x_3 = [1, 1]\n",
    "y_3 = [-1.5, 1.5]\n",
    "\n",
    "plt.plot(x_3, y_3, 'b--')\n",
    "\n",
    "plt.show()\n"
   ]
  },
  {
   "cell_type": "code",
   "execution_count": 7,
   "id": "7b8755ce",
   "metadata": {},
   "outputs": [
    {
     "name": "stdout",
     "output_type": "stream",
     "text": [
      "предел функции: 0 для x -> -1 \n",
      "предел функции: 1 для x -> 1\n"
     ]
    }
   ],
   "source": [
    "print(f'предел функции: {x_1_limit} для x -> -1 \\nпредел функции: {x_2_limit} для x -> 1')"
   ]
  },
  {
   "cell_type": "markdown",
   "id": "38f67ac2",
   "metadata": {},
   "source": [
    "x0 = 1 - точка разрыва функции, одностороняя непрерывность"
   ]
  },
  {
   "cell_type": "markdown",
   "id": "d87c0974",
   "metadata": {},
   "source": [
    " $$ 2.\\quad\\quad  f(x) = {\\dfrac{1}{2^{x-3}-1}}, \\quad при \\quad x0=3$$"
   ]
  },
  {
   "cell_type": "markdown",
   "id": "2e09550e",
   "metadata": {},
   "source": [
    "1. вычислим односторонние пределы"
   ]
  },
  {
   "cell_type": "markdown",
   "id": "fffe8c6f",
   "metadata": {},
   "source": [
    "$${x\\to{3}}$$"
   ]
  },
  {
   "cell_type": "markdown",
   "id": "147be717",
   "metadata": {},
   "source": [
    "$$\\lim_{x\\to{3}}{\\dfrac{1}{2^{x-3}-1}}=\\lim_{x\\to{3}}{\\dfrac{1}{2^{3-3}-1}}=\\infty $$"
   ]
  },
  {
   "cell_type": "markdown",
   "id": "6772400a",
   "metadata": {},
   "source": [
    "$${x\\to{-3}}$$"
   ]
  },
  {
   "cell_type": "markdown",
   "id": "98b40c35",
   "metadata": {},
   "source": [
    "$$ \\lim_{x\\to{-3}}{\\dfrac{1}{2^{x-3}-1}}=\\lim_{x\\to{-3-0}}{\\dfrac{1}{2^{-3-0-3}-1}}=-\\dfrac{2^{6}}{63} $$"
   ]
  },
  {
   "cell_type": "markdown",
   "id": "2d3508ea",
   "metadata": {},
   "source": [
    "$$ \\lim_{x\\to{-3+0}}{\\dfrac{1}{2^{x-3}-1}}=\\lim_{x\\to{-3+0}}{\\dfrac{1}{2^{-3+0-3}-1}}=-\\dfrac{64}{63}$$"
   ]
  },
  {
   "cell_type": "markdown",
   "id": "6908d4f3",
   "metadata": {},
   "source": [
    "$$ предела \\quad в \\quad точке \\quad x\\to{-3} \\quad не \\quad существует $$"
   ]
  },
  {
   "cell_type": "markdown",
   "id": "c21128b2",
   "metadata": {},
   "source": [
    "$$\\nexists\\lim_{x\\to{-3}}{\\dfrac{1}{2^{x-3}-1}} $$"
   ]
  },
  {
   "cell_type": "markdown",
   "id": "da51f98a",
   "metadata": {},
   "source": [
    "Таким образом, не существует предела справа и слева, следовательно  x0=3 - точка разрыва второго рода "
   ]
  },
  {
   "cell_type": "code",
   "execution_count": null,
   "id": "bb6e87c6",
   "metadata": {},
   "outputs": [],
   "source": [
    " "
   ]
  }
 ],
 "metadata": {
  "kernelspec": {
   "display_name": "Python 3 (ipykernel)",
   "language": "python",
   "name": "python3"
  },
  "language_info": {
   "codemirror_mode": {
    "name": "ipython",
    "version": 3
   },
   "file_extension": ".py",
   "mimetype": "text/x-python",
   "name": "python",
   "nbconvert_exporter": "python",
   "pygments_lexer": "ipython3",
   "version": "3.9.12"
  }
 },
 "nbformat": 4,
 "nbformat_minor": 5
}
