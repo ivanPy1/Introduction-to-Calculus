{
 "cells": [
  {
   "cell_type": "markdown",
   "id": "b2dc8209",
   "metadata": {},
   "source": [
    "# Практическое задание"
   ]
  },
  {
   "cell_type": "markdown",
   "id": "f4039d96",
   "metadata": {},
   "source": [
    "### Урок 10. Интеграл. Ряды. Часть 1"
   ]
  },
  {
   "cell_type": "markdown",
   "id": "26709e1c",
   "metadata": {},
   "source": [
    "### Тема 8 “Понятие об интеграле”"
   ]
  },
  {
   "cell_type": "markdown",
   "id": "8daec5e1",
   "metadata": {},
   "source": [
    "$$**************$$"
   ]
  },
  {
   "cell_type": "markdown",
   "id": "d5c94d8a",
   "metadata": {},
   "source": [
    "1. Найти неопределенный интеграл:"
   ]
  },
  {
   "cell_type": "markdown",
   "id": "ace187e0",
   "metadata": {},
   "source": [
    "$$ \\int({2\\,x^{2}-2\\,x-1+\\sin\\left(x\\right)-\\cos\\left(x\\right)+\\ln\\left(x\\right)+e^{x}}){\\;\\mathrm{d}x} $$"
   ]
  },
  {
   "cell_type": "markdown",
   "id": "7e8bd43e",
   "metadata": {},
   "source": [
    "$$ \\int{\\sin\\left(x\\right)}{\\;\\mathrm{d}x}+\\int{\\ln\\left(x\\right)}{\\;\\mathrm{d}x}-\\int{\\cos\\left(x\\right)}{\\;\\mathrm{d}x}+\\int{{e}^{x}}{\\;\\mathrm{d}x}+2\\int{{x}^{2}}{\\;\\mathrm{d}x}-2\\int{x}{\\;\\mathrm{d}x}-\\int{1}{\\;\\mathrm{d}x}= \n",
    "\\int{\\sin\\left(x\\right)}{\\;\\mathrm{d}x} + \n",
    "\\int{\\ln\\left(x\\right)}{\\;\\mathrm{d}x} - \n",
    "\\int{\\cos\\left(x\\right)}{\\;\\mathrm{d}x} + \n",
    "\\int{{e}^{x}}{\\;\\mathrm{d}x} + \n",
    "2 · \\int{{x}^{2}}{\\;\\mathrm{d}x} -\n",
    "2 · \\int{x}{\\;\\mathrm{d}x} - \\int{1}{\\;\\mathrm{d}x} = \n",
    "-\\sin\\left(x\\right)+x\\,\\ln\\left(x\\right)-\\cos\\left(x\\right)+{e}^{x}+\\dfrac{2\\,{x}^{3}}{3}-{x}^{2}-2\\,x+C\n",
    "$$"
   ]
  },
  {
   "cell_type": "markdown",
   "id": "85d79be6",
   "metadata": {},
   "source": [
    "$$ **************** $$"
   ]
  },
  {
   "cell_type": "markdown",
   "id": "bb27d402",
   "metadata": {},
   "source": [
    "2. Найти неопределенный интеграл:"
   ]
  },
  {
   "cell_type": "markdown",
   "id": "bba23b0a",
   "metadata": {},
   "source": [
    "$$ \\int({2\\,x+6\\,x\\,z^{2}-5\\,x^{2}\\,y-3\\,\\ln\\left(z\\right)}){\\;\\mathrm{d}x} $$"
   ]
  },
  {
   "cell_type": "markdown",
   "id": "726bdd5c",
   "metadata": {},
   "source": [
    "$$ -5\\,y\\int{{x}^{2}}{\\;\\mathrm{d}x}+6\\,{z}^{2}\\int{x}{\\;\\mathrm{d}x}+2\\int{x}{\\;\\mathrm{d}x}-3\\,\\ln\\left(z\\right)\\int{1}{\\;\\mathrm{d}x}=\n",
    "-5y·\\int{{x}^{2}}{\\;\\mathrm{d}x} +\n",
    "6z^2 ·\\int{x}{\\;\\mathrm{d}x} +\n",
    "2 · \\int{x}{\\;\\mathrm{d}x} -\n",
    "3 lnz · \\int{1}{\\;\\mathrm{d}x}\n",
    " = -\\dfrac{5\\,y\\,{x}^{3}}{3}+3\\,{z}^{2}\\,{x}^{2}+{x}^{2}-3\\,\\ln\\left(z\\right)\\,x+C $$"
   ]
  },
  {
   "cell_type": "markdown",
   "id": "c49d8a26",
   "metadata": {},
   "source": [
    "$$ *************** $$"
   ]
  },
  {
   "cell_type": "markdown",
   "id": "8f3381ba",
   "metadata": {},
   "source": [
    "3. Вычислить определенный интеграл:"
   ]
  },
  {
   "cell_type": "markdown",
   "id": "5b583742",
   "metadata": {},
   "source": [
    "$$ \\int\\limits_{0}^{\\pi}{3\\,{x}^{2}\\,\\sin\\left(2\\,x\\right)}{\\;\\mathrm{d}x} $$"
   ]
  },
  {
   "cell_type": "markdown",
   "id": "754b71f1",
   "metadata": {},
   "source": [
    "$$ 3\\left(-\\dfrac{{x}^{2}\\,\\cos\\left(2\\,x\\right)}{2}+\\int{x\\,\\cos\\left(2\\,x\\right)}{\\;\\mathrm{d}x}\\right)= $$"
   ]
  },
  {
   "cell_type": "markdown",
   "id": "0a339bd5",
   "metadata": {},
   "source": [
    "$$ 3(-\\dfrac{3\\, {x}^{2}\\,\\cos\\left(2\\,x\\right)}{2}) + \\int{x\\,\\cos\\left(2\\,x\\right)}{\\;\\mathrm{d}x} = =\\dfrac{3\\,x\\,\\sin\\left(2\\,x\\right)}{2}-\\dfrac{3\\, {x}^{2}\\,\\cos\\left(2\\,x\\right)}{2}+\\dfrac{3\\,\\cos\\left(2\\,x\\right)}{4} $$"
   ]
  },
  {
   "cell_type": "markdown",
   "id": "4bd93701",
   "metadata": {},
   "source": [
    "$$\\dfrac{x\\,\\sin\\left(2\\,x\\right)}{2}-\\int{\\dfrac{\\sin\\left(2\\,x\\right)}{2}}{\\;\\mathrm{d}x}=$$"
   ]
  },
  {
   "cell_type": "markdown",
   "id": "dc5ab5f9",
   "metadata": {},
   "source": [
    "$$\\dfrac{x\\,\\sin\\left(2\\,x\\right)}{2} - \\int{\\dfrac{\\sin\\left(2\\,x\\right)}{2}}{\\;\\mathrm{d}x} = \\dfrac{x\\,\\sin\\left(2\\,x\\right)}{2}+\\dfrac{\\cos\\left(2\\,x\\right)}{4} = $$"
   ]
  },
  {
   "cell_type": "markdown",
   "id": "7de5bd40",
   "metadata": {},
   "source": [
    "$$F\\left(x\\right){\\large|}^{\\pi}_{0}=F\\left(\\pi\\right)-F\\left(0\\right)$$"
   ]
  },
  {
   "cell_type": "markdown",
   "id": "96c4b8c4",
   "metadata": {},
   "source": [
    "$$F\\left(x\\right)=\\dfrac{3\\,x\\,\\sin\\left(2\\,x\\right)}{2}-\\dfrac{3\\,{x}^{2}\\,\\cos\\left(2\\,x\\right)}{2}+\\dfrac{3\\,\\cos\\left(2\\,x\\right)}{4}$$"
   ]
  },
  {
   "cell_type": "markdown",
   "id": "ca65d245",
   "metadata": {},
   "source": [
    "$$F\\left(\\pi\\right)=\\dfrac{3}{4}-\\dfrac{3\\cdot {\\pi}^{2}}{2}$$"
   ]
  },
  {
   "cell_type": "markdown",
   "id": "e6de9576",
   "metadata": {},
   "source": [
    "$$F\\left(0\\right)=\\dfrac{3}{4}$$"
   ]
  },
  {
   "cell_type": "markdown",
   "id": "634a40d2",
   "metadata": {},
   "source": [
    "$$-\\dfrac{3\\cdot {\\pi}^{2}}{2}$$"
   ]
  },
  {
   "cell_type": "markdown",
   "id": "0a4cd6e5",
   "metadata": {},
   "source": [
    "$$ *************** $$"
   ]
  },
  {
   "cell_type": "markdown",
   "id": "98798ce4",
   "metadata": {},
   "source": [
    "4.\tНайти неопределенный интеграл:"
   ]
  },
  {
   "cell_type": "markdown",
   "id": "f74bb5b1",
   "metadata": {},
   "source": [
    "$$ \\int\\limits_{\\scriptsize 0}^{\\scriptsize \\pi}{\\frac{1}{\\sqrt{x}+1}}{\\;\\mathrm{d}x} $$"
   ]
  },
  {
   "cell_type": "markdown",
   "id": "d2406c14",
   "metadata": {},
   "source": [
    "$$ \\int{\\dfrac{2\\,u-2}{u}}{\\;\\mathrm{d}u}$$"
   ]
  },
  {
   "cell_type": "markdown",
   "id": "2cb1ae62",
   "metadata": {},
   "source": [
    "$$\\int{2-\\dfrac{2}{u}}{\\;\\mathrm{d}u}$$"
   ]
  },
  {
   "cell_type": "markdown",
   "id": "881f8d48",
   "metadata": {},
   "source": [
    "$$2\\int{1}{\\;\\mathrm{d}u}-2\\int{\\dfrac{1}{u}}{\\;\\mathrm{d}u}=$$"
   ]
  },
  {
   "cell_type": "markdown",
   "id": "5e107ee9",
   "metadata": {},
   "source": [
    "$$2 · \\int{1}{\\;\\mathrm{d}u} - 2 · \\int{\\dfrac{1}{u}}{\\;\\mathrm{d}u} =2\\,u-2\\,\\ln\\left(\\left|u\\right|\\right) $$"
   ]
  },
  {
   "cell_type": "markdown",
   "id": "7f0fd4cb",
   "metadata": {},
   "source": [
    "$$2\\,\\sqrt{x}-2\\,\\ln\\left(\\sqrt{x}+1\\right)+C$$"
   ]
  }
 ],
 "metadata": {
  "kernelspec": {
   "display_name": "Python 3 (ipykernel)",
   "language": "python",
   "name": "python3"
  },
  "language_info": {
   "codemirror_mode": {
    "name": "ipython",
    "version": 3
   },
   "file_extension": ".py",
   "mimetype": "text/x-python",
   "name": "python",
   "nbconvert_exporter": "python",
   "pygments_lexer": "ipython3",
   "version": "3.9.12"
  }
 },
 "nbformat": 4,
 "nbformat_minor": 5
}
