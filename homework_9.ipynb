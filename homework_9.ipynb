{
 "cells": [
  {
   "cell_type": "markdown",
   "id": "3b4af998",
   "metadata": {},
   "source": [
    "# Практическое задание"
   ]
  },
  {
   "cell_type": "markdown",
   "id": "d9eaf451",
   "metadata": {},
   "source": [
    "## Урок 9. Производная функции нескольких переменных. Часть 2"
   ]
  },
  {
   "cell_type": "markdown",
   "id": "01b821dd",
   "metadata": {},
   "source": [
    "$$ 1.\\quad Найти \\quad {\\frac{d\\,z}{d\\,t}},\\quad  если\\quad z = z(x;y),\\quad x = x(t),\\quad y = y(t) $$\n",
    "$$ \\quad \\\\ $$\n",
    "$$ z = x^2 + y^2 + xy, x = a \\; sint \\; t, y = a \\; cos \\;t $$"
   ]
  },
  {
   "cell_type": "markdown",
   "id": "5a40585d",
   "metadata": {},
   "source": [
    "$$ $$"
   ]
  },
  {
   "cell_type": "markdown",
   "id": "d608936a",
   "metadata": {},
   "source": [
    "$$ \\frac{d\\,z}{d\\,t}=\\frac{d\\,z}{d\\,x}\\,·\\frac{d\\,x}{d\\,t}+\\frac{d\\,z}{d\\,y}\\,·\\frac{d\\,y}{d\\,t} $$ "
   ]
  },
  {
   "cell_type": "markdown",
   "id": "680c1981",
   "metadata": {},
   "source": [
    "$$ \\frac{d\\,z}{d\\,x}=(x^{2}+y^{2}+x\\,y\\;)'\\;_{x} = 2x + y $$ "
   ]
  },
  {
   "cell_type": "markdown",
   "id": "dbc8b5d7",
   "metadata": {},
   "source": [
    "$$ \\frac{d\\,z}{d\\,y}=(x^{2}+y^{2}+x\\,y\\;)'\\;_{y} = 2y + x$$ "
   ]
  },
  {
   "cell_type": "markdown",
   "id": "2dc79d84",
   "metadata": {},
   "source": [
    "$$ \\frac{d\\,x}{d\\,t}=(asint)'= acost $$ "
   ]
  },
  {
   "cell_type": "markdown",
   "id": "a92aed29",
   "metadata": {},
   "source": [
    "$$ \\frac{d\\,y}{d\\,t}=(acost)'= -asint $$ "
   ]
  },
  {
   "cell_type": "markdown",
   "id": "558fe1a7",
   "metadata": {},
   "source": [
    "$$ \\frac{d\\,z}{d\\,t}= (2x + y)·(acost) + (2y+x)·(-asint) = a·((2x+y)cost-(2y+x)sint) $$ "
   ]
  },
  {
   "cell_type": "markdown",
   "id": "94e7a8a1",
   "metadata": {},
   "source": [
    "$$ ****************** $$"
   ]
  },
  {
   "cell_type": "markdown",
   "id": "63357e71",
   "metadata": {},
   "source": [
    "$$ 2.\\; Для \\;данных\\; z = f(x; y),\\; x = x\\;(u; v),\\; y = y\\;(u; v)\\; найти\\; \\frac{d\\,z}{d\\,u}, \\; \\frac{d\\,z}{d\\,v}\\; и \\; dz $$"
   ]
  },
  {
   "cell_type": "markdown",
   "id": "84ca0552",
   "metadata": {},
   "source": [
    "$$ 1.\\; \\;z =\\; x^3 \\;+ \\;y^3,\\; где \\;x\\; =\\; uv,\\; y\\; =\\; \\frac{u}{v}\\ $$"
   ]
  },
  {
   "cell_type": "markdown",
   "id": "d0454f88",
   "metadata": {},
   "source": [
    "$$ dz = {3\\,u^{2}\\,\\left(v^{3}+\\frac{1}{v^{3}}\\right)\\,d\\,u+u^{3}\\,\\left(3\\,v^{2}-\\frac{3}{v^{4}}\\right)\\,d\\,v} $$"
   ]
  },
  {
   "cell_type": "markdown",
   "id": "944efc26",
   "metadata": {},
   "source": [
    "$$ **************** $$"
   ]
  },
  {
   "cell_type": "markdown",
   "id": "798c79ed",
   "metadata": {},
   "source": [
    "$$ $$"
   ]
  },
  {
   "cell_type": "markdown",
   "id": "37725358",
   "metadata": {},
   "source": [
    "$$ 3.\\; Найти \\; производные\\;  y'(x)\\; неявных \\;функций,\\; заданных \\;уравнениями: $$"
   ]
  },
  {
   "cell_type": "markdown",
   "id": "72e06525",
   "metadata": {},
   "source": [
    "$$ $$"
   ]
  },
  {
   "cell_type": "markdown",
   "id": "9800f0fa",
   "metadata": {},
   "source": [
    "$$ x\\,e^{2\\,y}-y\\,\\ln x=8 $$"
   ]
  },
  {
   "cell_type": "markdown",
   "id": "50e02ae7",
   "metadata": {},
   "source": [
    "$$ y'\\,(x)=\\frac{y-e^{2}\\,x\\,y}{x\\,\\left(e^{2}\\,x-\\ln\\left(x\\right)\\right)} $$"
   ]
  },
  {
   "cell_type": "markdown",
   "id": "76a85ea7",
   "metadata": {},
   "source": [
    "$$ ***************** $$"
   ]
  },
  {
   "cell_type": "markdown",
   "id": "8da5949c",
   "metadata": {},
   "source": [
    "$$ 4. \\; Составить \\; уравнение \\; касательной \\; прямой \\; и \\; нормали \\; к \\; кривой \\;  y\\;  = y(x),\\;  заданной\\;  уравнением\\;  F(x; y)\\;  = 0\\;  в \\; точке\\; M_{0}(x_{0};\\; y_{0}): $$"
   ]
  },
  {
   "cell_type": "markdown",
   "id": "c5ec75e0",
   "metadata": {},
   "source": [
    "$$ x^3y - y^3 x = 6, M_{0} (2;1) $$"
   ]
  },
  {
   "cell_type": "markdown",
   "id": "e54d36ef",
   "metadata": {},
   "source": [
    "уравнение касательной в общем виде:"
   ]
  },
  {
   "cell_type": "markdown",
   "id": "ad087564",
   "metadata": {},
   "source": [
    "$$ y_{k} = y_{0} + y\\;'(x_{0})(x - x_{0})   $$"
   ]
  },
  {
   "cell_type": "markdown",
   "id": "8cb53c92",
   "metadata": {},
   "source": [
    "находим производную:"
   ]
  },
  {
   "cell_type": "markdown",
   "id": "39545169",
   "metadata": {},
   "source": [
    "$$ \\frac{dF(x,y)}{dx}  = 3·x^2·y-y^3$$"
   ]
  },
  {
   "cell_type": "markdown",
   "id": "e86094c1",
   "metadata": {},
   "source": [
    "$$ \\frac{dF(x,y)}{dy}  = x^3 - 3 · x · y^2$$"
   ]
  },
  {
   "cell_type": "markdown",
   "id": "c6b167b1",
   "metadata": {},
   "source": [
    "тогда:"
   ]
  },
  {
   "cell_type": "markdown",
   "id": "0ca25e1c",
   "metadata": {},
   "source": [
    "$$ \\frac{dy}{dx}  = \\frac{3·x^2·y-y^3}{x^3-3·x·y^2}$$"
   ]
  },
  {
   "cell_type": "markdown",
   "id": "cb4d0891",
   "metadata": {},
   "source": [
    "или"
   ]
  },
  {
   "cell_type": "markdown",
   "id": "51dc6d1b",
   "metadata": {},
   "source": [
    "$$ \\frac{dy}{dx}  = \\frac{-3·x^2·y+y^3}{x^3-3·x·y^2}$$"
   ]
  },
  {
   "cell_type": "markdown",
   "id": "f918621f",
   "metadata": {},
   "source": [
    "следовательно:"
   ]
  },
  {
   "cell_type": "markdown",
   "id": "24c33117",
   "metadata": {},
   "source": [
    "$$ F_{x}\\;'(2;1)  = \\frac{-3·2^2·1+1^3}{2^3-3·2·1^2} = -\\;\\frac{11}{2}$$"
   ]
  },
  {
   "cell_type": "markdown",
   "id": "c36e5275",
   "metadata": {},
   "source": [
    "уравнение касательной:"
   ]
  },
  {
   "cell_type": "markdown",
   "id": "bc5cc552",
   "metadata": {},
   "source": [
    "$$ y_{k} = 1\\;-\\frac{11}{2}·(x-2)   $$"
   ]
  },
  {
   "cell_type": "markdown",
   "id": "943af857",
   "metadata": {},
   "source": [
    "или:"
   ]
  },
  {
   "cell_type": "markdown",
   "id": "56b7e2c1",
   "metadata": {},
   "source": [
    "$$ y_{k} = 12\\;-11·\\frac{x}{2} $$"
   ]
  },
  {
   "cell_type": "markdown",
   "id": "2435fac9",
   "metadata": {},
   "source": [
    "Уравнение нормали в общем виде:"
   ]
  },
  {
   "cell_type": "markdown",
   "id": "a93a9049",
   "metadata": {},
   "source": [
    "$$y_{n} = y_{0} - \\frac{1}{y\\;'(x_{0})}(x-x_{0})    $$"
   ]
  },
  {
   "cell_type": "markdown",
   "id": "7ff600b5",
   "metadata": {},
   "source": [
    "в результате имеем:"
   ]
  },
  {
   "cell_type": "markdown",
   "id": "e6b0fbe5",
   "metadata": {},
   "source": [
    "$$ y_{n} = 1 - \\frac{1}{-11/2}(x-2) $$"
   ]
  },
  {
   "cell_type": "markdown",
   "id": "d42d0d96",
   "metadata": {},
   "source": [
    "или"
   ]
  },
  {
   "cell_type": "markdown",
   "id": "751c287c",
   "metadata": {},
   "source": [
    "$$ y_{n} = 2·\\frac{x}{11}+\\frac{7}{11} $$"
   ]
  },
  {
   "cell_type": "markdown",
   "id": "4f8935ec",
   "metadata": {},
   "source": [
    "$$ **************** $$"
   ]
  },
  {
   "cell_type": "markdown",
   "id": "ccc21346",
   "metadata": {},
   "source": [
    "$$ 5. \\;Для\\; данных\\; функций\\; найти\\; требуемую\\; частную\\; производную\\; или\\; дифференциал $$"
   ]
  },
  {
   "cell_type": "markdown",
   "id": "d79db599",
   "metadata": {},
   "source": [
    "$$ 1. \\quad z \\;= \\;sin\\; x\\; sin\\; y ,\\; d^2z $$"
   ]
  },
  {
   "cell_type": "markdown",
   "id": "7d26f4bc",
   "metadata": {},
   "source": [
    "$$ \\frac{d\\,z}{d\\,x} = \\;cos\\; x · sin \\;y \\;$$ "
   ]
  },
  {
   "cell_type": "markdown",
   "id": "70183ea8",
   "metadata": {},
   "source": [
    "$$ \\frac{d\\,z}{d\\,y} = \\;sin\\; x · cos \\;y \\;$$ "
   ]
  },
  {
   "cell_type": "markdown",
   "id": "f5f409a0",
   "metadata": {},
   "source": [
    "$$ \\frac{d^{2}\\,z}{d\\,\\; x^{2}} = (cos \\; x\\; ·\\; sin\\; y )'_{x} = -sin\\;x\\;·\\;sin\\;y $$"
   ]
  },
  {
   "cell_type": "markdown",
   "id": "1a5152cf",
   "metadata": {},
   "source": [
    "$$ \\frac{d^{2}\\,z}{(d\\,x\\,d\\,y)} = (cos \\; x\\; ·\\; sin\\; y )'_{y} = cos\\; \\;x · \\;cos \\;y $$"
   ]
  },
  {
   "cell_type": "markdown",
   "id": "68862af5",
   "metadata": {},
   "source": [
    "$$ \\frac{d^{2}\\,z}{d\\,y^{2}}  = (sin \\; x\\; ·\\; cos\\; y )'_{y} = -sin\\; \\;x · \\;sin \\;y $$"
   ]
  },
  {
   "cell_type": "markdown",
   "id": "a28cb080",
   "metadata": {},
   "source": [
    "общий дифференциал: "
   ]
  },
  {
   "cell_type": "markdown",
   "id": "da0b67f3",
   "metadata": {},
   "source": [
    "$$ d^2z = -sin\\;x ·sin\\;y · dx^2 + cos\\;x ·cos\\;y·dxdy-sin\\;x·sin\\;y·dy^2 $$"
   ]
  },
  {
   "cell_type": "markdown",
   "id": "5e6e6573",
   "metadata": {},
   "source": [
    "$$ ******************* $$"
   ]
  },
  {
   "cell_type": "markdown",
   "id": "843e9dc9",
   "metadata": {},
   "source": [
    "$$2.\\; z = xy\\; +\\; sin(x + y),\\; \\frac{d^{2}\\,z}{d\\,x^{2}} $$"
   ]
  },
  {
   "cell_type": "markdown",
   "id": "1bd53f47",
   "metadata": {},
   "source": [
    "1. найдем частные производные"
   ]
  },
  {
   "cell_type": "markdown",
   "id": "0dfa1d55",
   "metadata": {},
   "source": [
    "$$ \\frac{d\\,z}{d\\,x} = y + \\;cos\\; (x + \\;y)$$ "
   ]
  },
  {
   "cell_type": "markdown",
   "id": "8ee06924",
   "metadata": {},
   "source": [
    "$$ \\frac{d\\,z}{d\\,y} = x + \\;cos\\; (x + \\;y)$$ "
   ]
  },
  {
   "cell_type": "markdown",
   "id": "deeaeb95",
   "metadata": {},
   "source": [
    "2. находим вторую частную производную $$\\frac{d^{2}\\,z}{d\\,x^{2}}  $$"
   ]
  },
  {
   "cell_type": "markdown",
   "id": "63707931",
   "metadata": {},
   "source": [
    "$$ \\frac{d^{2}\\,z}{d\\,x^{2}}  = (y + \\;cos\\; (x + \\;y))\\;'\\;_{x} = -sin(x+y)$$ "
   ]
  }
 ],
 "metadata": {
  "kernelspec": {
   "display_name": "Python 3 (ipykernel)",
   "language": "python",
   "name": "python3"
  },
  "language_info": {
   "codemirror_mode": {
    "name": "ipython",
    "version": 3
   },
   "file_extension": ".py",
   "mimetype": "text/x-python",
   "name": "python",
   "nbconvert_exporter": "python",
   "pygments_lexer": "ipython3",
   "version": "3.9.12"
  }
 },
 "nbformat": 4,
 "nbformat_minor": 5
}
