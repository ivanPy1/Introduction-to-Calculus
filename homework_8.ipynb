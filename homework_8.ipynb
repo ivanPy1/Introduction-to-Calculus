{
 "cells": [
  {
   "cell_type": "markdown",
   "id": "eacb53ac",
   "metadata": {},
   "source": [
    "# Практическое задание"
   ]
  },
  {
   "cell_type": "markdown",
   "id": "edfefb64",
   "metadata": {},
   "source": [
    "## Урок 8. Производная функции нескольких переменных. Часть 1"
   ]
  },
  {
   "cell_type": "markdown",
   "id": "5a8d2ab2",
   "metadata": {},
   "source": [
    "### 1. Найти область определения функции."
   ]
  },
  {
   "cell_type": "markdown",
   "id": "3ab6b61f",
   "metadata": {},
   "source": [
    "$$z = {\\sqrt{1-x^{3}}+\\ln\\left(y^{2}-1\\right)} $$"
   ]
  },
  {
   "cell_type": "markdown",
   "id": "d4659098",
   "metadata": {},
   "source": [
    "1) из отрицательного числа нельзя извлечь квадратный корень"
   ]
  },
  {
   "cell_type": "markdown",
   "id": "6ca13a40",
   "metadata": {},
   "source": [
    "2) натуральный логарифм нуля и отрицательного числа не определен"
   ]
  },
  {
   "cell_type": "markdown",
   "id": "41cd8ce5",
   "metadata": {},
   "source": [
    "Таким образом, область определения функции:\n",
    "\n",
    "$$ {(x , y)\\quad ∈\\quad R^2:\\quad (y > 1\\quad и \\quad x ≤ 1)} \\quadили\\quad (y < - 1\\quad и\\quad x ≤ 1)$$ "
   ]
  },
  {
   "cell_type": "markdown",
   "id": "1ad14dbf",
   "metadata": {},
   "source": [
    "### 2. Найти производные 1-го порядка функции."
   ]
  },
  {
   "cell_type": "markdown",
   "id": "cf796a93",
   "metadata": {},
   "source": [
    "$$z = {\\left(1+\\frac{\\ln\\left(x\\right)}{\\ln\\left(y\\right)}\\right)^{3}}$$"
   ]
  },
  {
   "cell_type": "markdown",
   "id": "5a87d3ef",
   "metadata": {},
   "source": [
    "$$ \\left(\\dfrac{\\ln^{3}\\left(x\\right)}{\\ln^{3}\\left(y\\right)}+1\\right)'_{y} $$"
   ]
  },
  {
   "cell_type": "markdown",
   "id": "594b4bf3",
   "metadata": {},
   "source": [
    "$$ \\ln^{3}\\left(x\\right)\\cdot \\left(\\dfrac{1}{\\ln^{3}\\left(y\\right)}\\right)'_{y}+\\left(1\\right)'_{y}$$"
   ]
  },
  {
   "cell_type": "markdown",
   "id": "308f9792",
   "metadata": {},
   "source": [
    "$$ \\ln^{3}\\left(x\\right)\\cdot \\left(-\\frac{\\left(\\ln^{3}\\left(y\\right)\\right)'_{y}}{\\ln^{6}\\left(y\\right)}\\right)+0$$"
   ]
  },
  {
   "cell_type": "markdown",
   "id": "82f8ea6e",
   "metadata": {},
   "source": [
    "$$ -\\ln^{3}\\left(x\\right)\\cdot \\frac{\\left(\\ln^{3}\\left(y\\right)\\right)'_{y}}{\\ln^{6}\\left(y\\right)}$$"
   ]
  },
  {
   "cell_type": "markdown",
   "id": "5c51584e",
   "metadata": {},
   "source": [
    "$$ -\\ln^{3}\\left(x\\right)\\cdot \\frac{3\\cdot \\ln^{2}\\left(y\\right)\\cdot \\left(\\ln\\left(y\\right)\\right)'_{y}}{\\ln^{6}\\left(y\\right)}$$"
   ]
  },
  {
   "cell_type": "markdown",
   "id": "db339289",
   "metadata": {},
   "source": [
    "$$-\\ln^{3}\\left(x\\right)\\cdot \\frac{3\\,\\ln^{2}\\left(y\\right)\\cdot \\dfrac{1}{y}}{\\ln^{6}\\left(y\\right)} $$"
   ]
  },
  {
   "cell_type": "markdown",
   "id": "7462b318",
   "metadata": {},
   "source": [
    "$$ z' y = -\\dfrac{3\\,\\ln^{3}\\left(x\\right)}{y\\,\\ln^{4}\\left(y\\right)}$$"
   ]
  },
  {
   "cell_type": "markdown",
   "id": "6d8d62d4",
   "metadata": {},
   "source": [
    "$$ ******************* $$"
   ]
  },
  {
   "cell_type": "markdown",
   "id": "267708f2",
   "metadata": {},
   "source": [
    "$$ \\left(\\dfrac{\\ln^{3}\\left(x\\right)}{\\ln^{3}\\left(y\\right)}+1\\right)'_{x}$$"
   ]
  },
  {
   "cell_type": "markdown",
   "id": "ac75ea3b",
   "metadata": {},
   "source": [
    "$$ \\left(\\dfrac{\\ln^{3}\\left(x\\right)}{\\ln^{3}\\left(y\\right)}+1\\right)'_{x}$$"
   ]
  },
  {
   "cell_type": "markdown",
   "id": "5108ed7f",
   "metadata": {},
   "source": [
    "$$ \\dfrac{1}{\\ln^{3}\\left(y\\right)}\\cdot \\left(\\ln^{3}\\left(x\\right)\\right)'_{x}+\\left(1\\right)'_{x}$$"
   ]
  },
  {
   "cell_type": "markdown",
   "id": "ebef8710",
   "metadata": {},
   "source": [
    "$$ \\dfrac{1}{\\ln^{3}\\left(y\\right)}\\cdot 3\\cdot \\ln^{2}\\left(x\\right)\\cdot \\left(\\ln\\left(x\\right)\\right)'_{x}+0$$"
   ]
  },
  {
   "cell_type": "markdown",
   "id": "fb1e5f3e",
   "metadata": {},
   "source": [
    "$$ \\dfrac{3\\,\\ln^{2}\\left(x\\right)}{\\ln^{3}\\left(y\\right)}\\cdot \\left(\\ln\\left(x\\right)\\right)'_{x}$$"
   ]
  },
  {
   "cell_type": "markdown",
   "id": "ee3c3fdb",
   "metadata": {},
   "source": [
    "$$\\dfrac{3\\,\\ln^{2}\\left(x\\right)}{\\ln^{3}\\left(y\\right)}\\cdot \\dfrac{1}{x} $$"
   ]
  },
  {
   "cell_type": "markdown",
   "id": "03b3c975",
   "metadata": {},
   "source": [
    "$$ z' x = \\dfrac{3\\,\\ln^{2}\\left(x\\right)}{\\ln^{3}\\left(y\\right)\\,x}$$"
   ]
  },
  {
   "cell_type": "markdown",
   "id": "e77074a3",
   "metadata": {},
   "source": [
    "### 3.Найти полный дифференциал функции в точке (1;1)."
   ]
  },
  {
   "cell_type": "markdown",
   "id": "e7739f9f",
   "metadata": {},
   "source": [
    "$$z = {\\sqrt{2\\,x\\,y+\\cos\\left(\\frac{x}{y}\\right)}} $$"
   ]
  },
  {
   "cell_type": "markdown",
   "id": "8ce19f36",
   "metadata": {},
   "source": [
    "1. найдем частные производные"
   ]
  },
  {
   "cell_type": "markdown",
   "id": "0ad87539",
   "metadata": {},
   "source": [
    "аргумент y постоянный"
   ]
  },
  {
   "cell_type": "markdown",
   "id": "2bbcba42",
   "metadata": {},
   "source": [
    "$$\\frac{∂\\,z}{∂\\,x}=\\frac{y-\\frac{\\sin\\left(\\frac{x}{y}\\right)}{2\\,y}}{\\sqrt{2\\,x\\,y+\\cos\\left(\\frac{x}{y}\\right)}} $$"
   ]
  },
  {
   "cell_type": "markdown",
   "id": "f403d57b",
   "metadata": {},
   "source": [
    "аргумент x постоянный"
   ]
  },
  {
   "cell_type": "markdown",
   "id": "742306c3",
   "metadata": {},
   "source": [
    "$$ \\frac{∂\\,z}{∂\\,y}=\\frac{x+\\frac{x\\,\\sin\\left(\\frac{x}{y}\\right)}{2\\,y^{2}}}{\\sqrt{2\\,x\\,y+\\cos\\left(\\frac{x}{y}\\right)}} $$"
   ]
  },
  {
   "cell_type": "markdown",
   "id": "076e606f",
   "metadata": {},
   "source": [
    "2. находим полный дифференциал функции"
   ]
  },
  {
   "cell_type": "markdown",
   "id": "4e6b240c",
   "metadata": {},
   "source": [
    "$$∂\\,z=\\frac{∂\\,z}{∂\\,x}\\cdot ∂\\,x+\\frac{∂\\,z}{∂\\,y}\\cdot ∂\\,y $$"
   ]
  },
  {
   "cell_type": "markdown",
   "id": "b5ebba97",
   "metadata": {},
   "source": [
    "$$ ∂\\,z=(\\frac{y-\\frac{\\sin\\left(\\frac{x}{y}\\right)}{2\\,y}}{\\sqrt{2\\,x\\,y+\\cos\\left(\\frac{x}{y}\\right)}})\\cdot ∂\\,x + (\\frac{x+\\frac{x\\,\\sin\\left(\\frac{x}{y}\\right)}{2\\,y^{2}}}{\\sqrt{2\\,x\\,y+\\cos\\left(\\frac{x}{y}\\right)}})\\cdot ∂\\,y$$"
   ]
  },
  {
   "cell_type": "markdown",
   "id": "7bfcbec7",
   "metadata": {},
   "source": [
    "3. найдем частные производные в точке А(1;1)"
   ]
  },
  {
   "cell_type": "markdown",
   "id": "4fc20603",
   "metadata": {},
   "source": [
    "$$\\frac{∂\\,z}{∂\\,x (1;1)}=\\frac{1-\\frac{\\sin\\left(\\frac{1}{1}\\right)}{2\\cdot 1}}{\\sqrt{2\\cdot 1\\cdot 1+\\cos\\left(\\frac{1}{1}\\right)}} $$"
   ]
  },
  {
   "cell_type": "markdown",
   "id": "d094149c",
   "metadata": {},
   "source": [
    "$$\\frac{∂\\,z}{∂\\,x (1;1)}=\\frac{1-\\frac{\\sin\\left(1\\right)}{2}}{\\sqrt{\\cos\\left(1\\right)+2}} $$"
   ]
  },
  {
   "cell_type": "markdown",
   "id": "35cf4001",
   "metadata": {},
   "source": [
    "$$ $$"
   ]
  },
  {
   "cell_type": "markdown",
   "id": "919522ac",
   "metadata": {},
   "source": [
    "$$ \\frac{∂\\,z}{∂\\,y (1;1)}=\\frac{1+\\frac{1\\,\\sin\\left(\\frac{1}{1}\\right)}{2\\cdot 1^{2}}}{\\sqrt{2\\cdot 1\\cdot 1+\\cos\\left(\\frac{1}{1}\\right)}}$$"
   ]
  },
  {
   "cell_type": "markdown",
   "id": "138ae288",
   "metadata": {},
   "source": [
    "$$ $$"
   ]
  },
  {
   "cell_type": "markdown",
   "id": "e6528a31",
   "metadata": {},
   "source": [
    "$$ \\frac{∂\\,z}{∂\\,y (1;1)}=\\frac{\\frac{\\sin\\left(1\\right)}{2}+1}{\\sqrt{\\cos\\left(1\\right)+2}}=0$$"
   ]
  },
  {
   "cell_type": "markdown",
   "id": "93c26d19",
   "metadata": {},
   "source": [
    "### 4. Исследовать на экстремум функцию"
   ]
  },
  {
   "cell_type": "markdown",
   "id": "0e1fbce6",
   "metadata": {},
   "source": [
    "$$z = {x^{2}+x\\,y+y^{2}-6\\,x-9\\,y}$$"
   ]
  },
  {
   "cell_type": "markdown",
   "id": "b56cc480",
   "metadata": {},
   "source": [
    "1. найдем частные производные"
   ]
  },
  {
   "cell_type": "markdown",
   "id": "8c1a2848",
   "metadata": {},
   "source": [
    "$$\\frac{∂\\,z}{∂\\,x}=2x + y - 6 $$"
   ]
  },
  {
   "cell_type": "markdown",
   "id": "89e5ce3c",
   "metadata": {},
   "source": [
    "$$ \\frac{∂\\,z}{∂\\,x}= x + 2y - 9 $$"
   ]
  },
  {
   "cell_type": "markdown",
   "id": "4e27536d",
   "metadata": {},
   "source": [
    "2. решим систему уравнений"
   ]
  },
  {
   "cell_type": "markdown",
   "id": "e25945be",
   "metadata": {},
   "source": [
    "$$2x + y - 6 = 0$$\n",
    "$$x + 2y - 9 = 0 $$"
   ]
  },
  {
   "cell_type": "markdown",
   "id": "0e39ae85",
   "metadata": {},
   "source": [
    "первое уравнение:"
   ]
  },
  {
   "cell_type": "markdown",
   "id": "11aecee1",
   "metadata": {},
   "source": [
    "$$ x = 9 - 2y$$"
   ]
  },
  {
   "cell_type": "markdown",
   "id": "89621573",
   "metadata": {},
   "source": [
    "$$ 12-3y = 0$$"
   ]
  },
  {
   "cell_type": "markdown",
   "id": "31aff80f",
   "metadata": {},
   "source": [
    "$$ y = 4 $$"
   ]
  },
  {
   "cell_type": "markdown",
   "id": "41a84b0f",
   "metadata": {},
   "source": [
    "подставляем в выражение для x"
   ]
  },
  {
   "cell_type": "markdown",
   "id": "1e126323",
   "metadata": {},
   "source": [
    "$$x = 1 $$"
   ]
  },
  {
   "cell_type": "markdown",
   "id": "585914fa",
   "metadata": {},
   "source": [
    "Количество критических точек равно 1.\n",
    "$$ $$\n",
    "M1(1;4)"
   ]
  },
  {
   "cell_type": "markdown",
   "id": "878a912b",
   "metadata": {},
   "source": [
    "найдем частные производные второго порядка"
   ]
  },
  {
   "cell_type": "markdown",
   "id": "609dfc08",
   "metadata": {},
   "source": [
    "$$\\frac{∂^{2}\\,z}{∂\\,x\\cdot ∂\\,y}=1 $$"
   ]
  },
  {
   "cell_type": "markdown",
   "id": "34a5077b",
   "metadata": {},
   "source": [
    "$$\\frac{∂^{2}\\,z}{∂\\,x^2}=2 $$"
   ]
  },
  {
   "cell_type": "markdown",
   "id": "1a6ce01e",
   "metadata": {},
   "source": [
    "$$\\frac{∂^{2}\\,z}{∂\\,y^2}=2 $$"
   ]
  },
  {
   "cell_type": "markdown",
   "id": "2005d245",
   "metadata": {},
   "source": [
    "вычислим значение частных производных в критических точках M(x0;y0) - M1(1;4)"
   ]
  },
  {
   "cell_type": "markdown",
   "id": "89bb70d2",
   "metadata": {},
   "source": [
    "$$ A = \\frac{∂^{2}\\,z}{∂\\,x^2(1;4)} = 2$$"
   ]
  },
  {
   "cell_type": "markdown",
   "id": "c4622162",
   "metadata": {},
   "source": [
    "$$ C = \\frac{∂^{2}\\,z}{∂\\,y^2(1;4)} = 2$$"
   ]
  },
  {
   "cell_type": "markdown",
   "id": "3a21a9b3",
   "metadata": {},
   "source": [
    "$$ B = \\frac{∂^{2}\\,z}{∂\\,x\\cdot ∂\\,y(1;4)}=1  $$"
   ]
  },
  {
   "cell_type": "markdown",
   "id": "6375180e",
   "metadata": {},
   "source": [
    "AC - B2 = 3 > 0 и A > 0 , то в точке M1(1;4) имеется минимум z(1;4) = -21"
   ]
  },
  {
   "cell_type": "markdown",
   "id": "0b1d8292",
   "metadata": {},
   "source": [
    "Таким образом, в точке M1(1;4) имеется минимум z(1;4) = -21;"
   ]
  }
 ],
 "metadata": {
  "kernelspec": {
   "display_name": "Python 3 (ipykernel)",
   "language": "python",
   "name": "python3"
  },
  "language_info": {
   "codemirror_mode": {
    "name": "ipython",
    "version": 3
   },
   "file_extension": ".py",
   "mimetype": "text/x-python",
   "name": "python",
   "nbconvert_exporter": "python",
   "pygments_lexer": "ipython3",
   "version": "3.9.12"
  }
 },
 "nbformat": 4,
 "nbformat_minor": 5
}
