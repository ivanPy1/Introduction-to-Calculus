{
 "cells": [
  {
   "cell_type": "markdown",
   "id": "93f705cb",
   "metadata": {},
   "source": [
    "# Практическое задание"
   ]
  },
  {
   "cell_type": "markdown",
   "id": "ab61ccbe",
   "metadata": {},
   "source": [
    "## Урок 6. Производная функции одной переменной. Часть 1"
   ]
  },
  {
   "cell_type": "markdown",
   "id": "daabfd69",
   "metadata": {},
   "source": [
    "### 1. Найти производные указанных функций:"
   ]
  },
  {
   "cell_type": "markdown",
   "id": "06cf3e03",
   "metadata": {},
   "source": [
    "$$1. \\quad y = \\left(x^{3}\\,\\log_{2}\\left(x\\right)\\right)'_{x} $$"
   ]
  },
  {
   "cell_type": "markdown",
   "id": "30c4e0e5",
   "metadata": {},
   "source": [
    "$$ \\left(\\dfrac{{x}^{3}\\,\\ln\\left(x\\right)}{\\ln\\left(2\\right)}\\right)'_{x}$$"
   ]
  },
  {
   "cell_type": "markdown",
   "id": "706d1898",
   "metadata": {},
   "source": [
    "$$ \\dfrac{1}{\\ln\\left(2\\right)}\\cdot \\left({x}^{3}\\,\\ln\\left(x\\right)\\right)'_{x}$$"
   ]
  },
  {
   "cell_type": "markdown",
   "id": "49a22792",
   "metadata": {},
   "source": [
    "$$ \\dfrac{1}{\\ln\\left(2\\right)}\\cdot \\left({x}^{3}\\,\\ln\\left(x\\right)\\right)'_{x}$$"
   ]
  },
  {
   "cell_type": "markdown",
   "id": "3a18b4e3",
   "metadata": {},
   "source": [
    "$$\\dfrac{1}{\\ln\\left(2\\right)}\\cdot \\left(\\left({x}^{3}\\right)'_{x}\\cdot \\ln\\left(x\\right)+\\left(\\ln\\left(x\\right)\\right)'_{x}\\cdot {x}^{3}\\right) $$"
   ]
  },
  {
   "cell_type": "markdown",
   "id": "2b1d7428",
   "metadata": {},
   "source": [
    "$$\\dfrac{1}{\\ln\\left(2\\right)}\\cdot \\left(\\left({x}^{3}\\right)'_{x}\\cdot \\ln\\left(x\\right)+\\left(\\ln\\left(x\\right)\\right)'_{x}\\cdot {x}^{3}\\right) $$"
   ]
  },
  {
   "cell_type": "markdown",
   "id": "ecae52f5",
   "metadata": {},
   "source": [
    "$$\\dfrac{1}{\\ln\\left(2\\right)}\\cdot \\left(3\\cdot {x}^{2}\\cdot \\ln\\left(x\\right)+\\dfrac{1}{x}\\cdot {x}^{3}\\right) $$"
   ]
  },
  {
   "cell_type": "markdown",
   "id": "470187b8",
   "metadata": {},
   "source": [
    "$$ \\dfrac{3\\,{x}^{2}\\,\\ln\\left(x\\right)+{x}^{2}}{\\ln\\left(2\\right)} $$"
   ]
  },
  {
   "cell_type": "markdown",
   "id": "516a41f2",
   "metadata": {},
   "source": [
    "$$ $$"
   ]
  },
  {
   "cell_type": "markdown",
   "id": "c708a870",
   "metadata": {},
   "source": [
    "$$2. \\quad  y = \\left(-10\\,\\operatorname{arctg}\\left(x\\right)+7\\,e^{x}\\right)'_{x}$$"
   ]
  },
  {
   "cell_type": "markdown",
   "id": "8f0748ed",
   "metadata": {},
   "source": [
    "$$\\left(7\\,{e}^{x}-10\\,\\operatorname{arctg}\\left(x\\right)\\right)'_{x} $$"
   ]
  },
  {
   "cell_type": "markdown",
   "id": "c47a5d9b",
   "metadata": {},
   "source": [
    "$$-10\\cdot \\left(\\operatorname{arctg}\\left(x\\right)\\right)'_{x}+7\\cdot \\left({e}^{x}\\right)'_{x} $$"
   ]
  },
  {
   "cell_type": "markdown",
   "id": "eb307df4",
   "metadata": {},
   "source": [
    "$$ -10\\cdot \\left(\\operatorname{arctg}\\left(x\\right)\\right)'_{x}+7\\cdot \\left({e}^{x}\\right)'_{x}$$"
   ]
  },
  {
   "cell_type": "markdown",
   "id": "9cd5203b",
   "metadata": {},
   "source": [
    "$$ -10\\cdot \\dfrac{1}{{x}^{2}+1}+7\\cdot {e}^{x}$$"
   ]
  },
  {
   "cell_type": "markdown",
   "id": "d4ae9806",
   "metadata": {},
   "source": [
    "$$7\\,{e}^{x}-\\dfrac{10}{{x}^{2}+1} $$"
   ]
  },
  {
   "cell_type": "markdown",
   "id": "00470ea9",
   "metadata": {},
   "source": [
    "$$ $$"
   ]
  },
  {
   "cell_type": "markdown",
   "id": "bccfb719",
   "metadata": {},
   "source": [
    "$$3. \\quad y = \\left(\\frac{1}{\\sqrt[{3}]{x^{2}}}-\\left(\\frac{2}{x^{3}}+\\sqrt{7}\\,x\\right)\\right)'_{x}$$"
   ]
  },
  {
   "cell_type": "markdown",
   "id": "ec46b2e6",
   "metadata": {},
   "source": [
    "$$\\left(-\\sqrt{7}\\,x+\\dfrac{1}{\\sqrt[{3}]{{x}^{2}}}-\\dfrac{2}{{x}^{3}}\\right)'_{x} $$"
   ]
  },
  {
   "cell_type": "markdown",
   "id": "9a295614",
   "metadata": {},
   "source": [
    "$$ -\\sqrt{7}\\cdot \\left(x\\right)'_{x}+\\left(\\dfrac{1}{\\sqrt[{3}]{{x}^{2}}}\\right)'_{x}-2\\cdot \\left(\\dfrac{1}{{x}^{3}}\\right)'_{x}$$"
   ]
  },
  {
   "cell_type": "markdown",
   "id": "f11a0ec2",
   "metadata": {},
   "source": [
    "$$-\\sqrt{7}\\cdot 1-\\dfrac{2}{3}\\cdot \\dfrac{1}{{x}^{\\frac{5}{3}}}-2\\cdot \\left(-3\\right)\\cdot \\dfrac{1}{{x}^{4}} $$"
   ]
  },
  {
   "cell_type": "markdown",
   "id": "3159bc42",
   "metadata": {},
   "source": [
    "$$ -\\dfrac{2}{3\\,{x}^{\\frac{5}{3}}}+\\dfrac{6}{{x}^{4}}-\\sqrt{7}$$"
   ]
  },
  {
   "cell_type": "markdown",
   "id": "66076f7c",
   "metadata": {},
   "source": [
    "$$ $$"
   ]
  },
  {
   "cell_type": "markdown",
   "id": "758f6187",
   "metadata": {},
   "source": [
    "$$4. \\quad  y = \\left(\\cos\\left(\\frac{1-\\sqrt{x}}{1+\\sqrt{x}}\\right)\\right)'_{x}$$"
   ]
  },
  {
   "cell_type": "markdown",
   "id": "192ba085",
   "metadata": {},
   "source": [
    "$$\\left(\\cos\\left(\\frac{1-\\sqrt{x}}{\\sqrt{x}+1}\\right)\\right)'_{x} $$"
   ]
  },
  {
   "cell_type": "markdown",
   "id": "aa945caa",
   "metadata": {},
   "source": [
    "$$-\\sin\\left(\\frac{1-\\sqrt{x}}{\\sqrt{x}+1}\\right)\\cdot \\left(\\dfrac{1-\\sqrt{x}}{\\sqrt{x}+1}\\right)'_{x} $$"
   ]
  },
  {
   "cell_type": "markdown",
   "id": "33b65deb",
   "metadata": {},
   "source": [
    "$$ -\\sin\\left(\\frac{1-\\sqrt{x}}{\\sqrt{x}+1}\\right)\\cdot \\frac{\\left(1-\\sqrt{x}\\right)'_{x}\\cdot \\left(\\sqrt{x}+1\\right)-\\left(\\sqrt{x}+1\\right)'_{x}\\cdot \\left(1-\\sqrt{x}\\right)}{\\left({\\sqrt{x}+1}\\right)^{2}}$$"
   ]
  },
  {
   "cell_type": "markdown",
   "id": "b9e9e607",
   "metadata": {},
   "source": [
    "$$-\\sin\\left(\\frac{1-\\sqrt{x}}{\\sqrt{x}+1}\\right)\\cdot \\frac{\\left(-\\left(\\sqrt{x}\\right)'_{x}+\\left(1\\right)'_{x}\\right)\\cdot \\left(\\sqrt{x}+1\\right)-\\left(\\left(\\sqrt{x}\\right)'_{x}+\\left(1\\right)'_{x}\\right)\\cdot \\left(1-\\sqrt{x}\\right)}{\\left({\\sqrt{x}+1}\\right)^{2}} $$"
   ]
  },
  {
   "cell_type": "markdown",
   "id": "57375266",
   "metadata": {},
   "source": [
    "$$ -\\sin\\left(\\frac{1-\\sqrt{x}}{\\sqrt{x}+1}\\right)\\cdot \\frac{\\left(-\\dfrac{1}{2}\\cdot \\dfrac{1}{\\sqrt{x}}+0\\right)\\cdot \\left(\\sqrt{x}+1\\right)-\\left(\\dfrac{1}{2}\\cdot \\dfrac{1}{\\sqrt{x}}+0\\right)\\cdot \\left(1-\\sqrt{x}\\right)}{\\left({\\sqrt{x}+1}\\right)^{2}}$$"
   ]
  },
  {
   "cell_type": "markdown",
   "id": "a56a5ee1",
   "metadata": {},
   "source": [
    "$$ -\\dfrac{\\sin\\left(\\frac{1-\\sqrt{x}}{\\sqrt{x}+1}\\right)\\,\\left(\\dfrac{-\\sqrt{x}-1}{2\\,\\sqrt{x}}-\\dfrac{1-\\sqrt{x}}{2\\,\\sqrt{x}}\\right)}{\\left({\\sqrt{x}+1}\\right)^{2}}$$"
   ]
  },
  {
   "cell_type": "markdown",
   "id": "e9c30810",
   "metadata": {},
   "source": [
    "$$ $$"
   ]
  },
  {
   "cell_type": "markdown",
   "id": "7c3aa4c1",
   "metadata": {},
   "source": [
    "$$5. \\quad y =\\left(e^{\\operatorname{sh}^{2}\\left(5\\,x\\right)}\\right)'_{x}$$"
   ]
  },
  {
   "cell_type": "markdown",
   "id": "861b45b6",
   "metadata": {},
   "source": [
    "$$ {e}^{\\operatorname{sh}^{2}\\left(5\\,x\\right)}\\cdot \\left(\\operatorname{sh}^{2}\\left(5\\,x\\right)\\right)'_{x}$$"
   ]
  },
  {
   "cell_type": "markdown",
   "id": "d2f2a611",
   "metadata": {},
   "source": [
    "$${e}^{\\operatorname{sh}^{2}\\left(5\\,x\\right)}\\cdot 2\\cdot \\operatorname{sh}\\left(5\\,x\\right)\\cdot \\left(\\operatorname{sh}\\left(5\\,x\\right)\\right)'_{x}$$"
   ]
  },
  {
   "cell_type": "markdown",
   "id": "acbb445f",
   "metadata": {},
   "source": [
    "$$ 2\\,{e}^{\\operatorname{sh}^{2}\\left(5\\,x\\right)}\\,\\operatorname{sh}\\left(5\\,x\\right)\\cdot \\left(\\operatorname{sh}\\left(5\\,x\\right)\\right)'_{x}$$"
   ]
  },
  {
   "cell_type": "markdown",
   "id": "42bce8b0",
   "metadata": {},
   "source": [
    "$$ 2\\,{e}^{\\operatorname{sh}^{2}\\left(5\\,x\\right)}\\,\\operatorname{sh}\\left(5\\,x\\right)\\cdot \\operatorname{ch}\\left(5\\,x\\right)\\cdot \\left(5\\,x\\right)'_{x}$$"
   ]
  },
  {
   "cell_type": "markdown",
   "id": "b56fc305",
   "metadata": {},
   "source": [
    "$$ 2\\,{e}^{\\operatorname{sh}^{2}\\left(5\\,x\\right)}\\,\\operatorname{ch}\\left(5\\,x\\right)\\,\\operatorname{sh}\\left(5\\,x\\right)\\cdot \\left(5\\,x\\right)'_{x}$$"
   ]
  },
  {
   "cell_type": "markdown",
   "id": "36dbed17",
   "metadata": {},
   "source": [
    "$$2\\,{e}^{\\operatorname{sh}^{2}\\left(5\\,x\\right)}\\,\\operatorname{ch}\\left(5\\,x\\right)\\,\\operatorname{sh}\\left(5\\,x\\right)\\cdot 5\\cdot \\left(x\\right)'_{x} $$"
   ]
  },
  {
   "cell_type": "markdown",
   "id": "07a2f3d7",
   "metadata": {},
   "source": [
    "$$10\\,{e}^{\\operatorname{sh}^{2}\\left(5\\,x\\right)}\\,\\operatorname{ch}\\left(5\\,x\\right)\\,\\operatorname{sh}\\left(5\\,x\\right)\\cdot \\left(x\\right)'_{x} $$"
   ]
  },
  {
   "cell_type": "markdown",
   "id": "a3a6504a",
   "metadata": {},
   "source": [
    "$$ 10\\,{e}^{\\operatorname{sh}^{2}\\left(5\\,x\\right)}\\,\\operatorname{ch}\\left(5\\,x\\right)\\,\\operatorname{sh}\\left(5\\,x\\right)\\cdot 1$$"
   ]
  },
  {
   "cell_type": "markdown",
   "id": "4542b4c3",
   "metadata": {},
   "source": [
    "$$ 10\\,{e}^{\\operatorname{sh}^{2}\\left(5\\,x\\right)}\\,\\operatorname{ch}\\left(5\\,x\\right)\\,\\operatorname{sh}\\left(5\\,x\\right)$$"
   ]
  },
  {
   "cell_type": "markdown",
   "id": "4c2df708",
   "metadata": {},
   "source": [
    "$$ $$"
   ]
  },
  {
   "cell_type": "markdown",
   "id": "d5fce3c7",
   "metadata": {},
   "source": [
    "$$6. \\quad y = \\left(\\ln\\left(\\frac{\\left(x+1\\right)\\,\\left(x+3\\right)^{3}}{\\left(x+2\\right)^{3}\\,\\left(x+4\\right)}\\right)\\right)'_{x}  $$"
   ]
  },
  {
   "cell_type": "markdown",
   "id": "90b53a99",
   "metadata": {},
   "source": [
    "$$ \\dfrac{\\left({x+2}\\right)^{3}\\,\\left(x+4\\right)}{\\left(x+1\\right)\\,\\left({x+3}\\right)^{3}}\\cdot \\left(\\dfrac{\\left(x+1\\right)\\,\\left({x+3}\\right)^{3}}{\\left({x+2}\\right)^{3}\\,\\left(x+4\\right)}\\right)'_{x}$$"
   ]
  },
  {
   "cell_type": "markdown",
   "id": "82669ac9",
   "metadata": {},
   "source": [
    "$$ \\dfrac{\\left({x+2}\\right)^{3}\\,\\left(x+4\\right)}{\\left(x+1\\right)\\,\\left({x+3}\\right)^{3}}\\cdot \\frac{\\left(\\left(x+1\\right)\\,\\left({x+3}\\right)^{3}\\right)'_{x}\\cdot \\left({x+2}\\right)^{3}\\,\\left(x+4\\right)-\\left(\\left({x+2}\\right)^{3}\\,\\left(x+4\\right)\\right)'_{x}\\cdot \\left(x+1\\right)\\,\\left({x+3}\\right)^{3}}{\\left({x+2}\\right)^{6}\\,\\left({x+4}\\right)^{2}}$$"
   ]
  },
  {
   "cell_type": "markdown",
   "id": "d17ff732",
   "metadata": {},
   "source": [
    "$$ \\dfrac{\\left({x+2}\\right)^{3}\\,\\left(x+4\\right)}{\\left(x+1\\right)\\,\\left({x+3}\\right)^{3}}\\cdot \\frac{\\left(\\left(x+1\\right)'_{x}\\cdot \\left({x+3}\\right)^{3}+\\left(\\left({x+3}\\right)^{3}\\right)'_{x}\\cdot \\left(x+1\\right)\\right)\\cdot \\left({x+2}\\right)^{3}\\,\\left(x+4\\right)-\\left(\\left(\\left({x+2}\\right)^{3}\\right)'_{x}\\cdot \\left(x+4\\right)+\\left(x+4\\right)'_{x}\\cdot \\left({x+2}\\right)^{3}\\right)\\cdot \\left(x+1\\right)\\,\\left({x+3}\\right)^{3}}{\\left({x+2}\\right)^{6}\\,\\left({x+4}\\right)^{2}}$$"
   ]
  },
  {
   "cell_type": "markdown",
   "id": "d2654881",
   "metadata": {},
   "source": [
    "$$ \\dfrac{\\left({x+2}\\right)^{3}\\,\\left(x+4\\right)}{\\left(x+1\\right)\\,\\left({x+3}\\right)^{3}}\\cdot \\frac{\\left(\\left(x+1\\right)'_{x}\\cdot \\left({x+3}\\right)^{3}+\\left(\\left({x+3}\\right)^{3}\\right)'_{x}\\cdot \\left(x+1\\right)\\right)\\cdot \\left({x+2}\\right)^{3}\\,\\left(x+4\\right)-\\left(\\left(\\left({x+2}\\right)^{3}\\right)'_{x}\\cdot \\left(x+4\\right)+\\left(x+4\\right)'_{x}\\cdot \\left({x+2}\\right)^{3}\\right)\\cdot \\left(x+1\\right)\\,\\left({x+3}\\right)^{3}}{\\left({x+2}\\right)^{6}\\,\\left({x+4}\\right)^{2}}$$"
   ]
  },
  {
   "cell_type": "markdown",
   "id": "ea74f20a",
   "metadata": {},
   "source": [
    "$$ \\dfrac{\\left({x+2}\\right)^{3}\\,\\left(x+4\\right)}{\\left(x+1\\right)\\,\\left({x+3}\\right)^{3}}\\cdot \\frac{\\left(\\left(\\left(x\\right)'_{x}+\\left(1\\right)'_{x}\\right)\\cdot \\left({x+3}\\right)^{3}+3\\cdot \\left({x+3}\\right)^{2}\\cdot \\left(x+3\\right)'_{x}\\cdot \\left(x+1\\right)\\right)\\cdot \\left({x+2}\\right)^{3}\\,\\left(x+4\\right)-\\left(3\\cdot \\left({x+2}\\right)^{2}\\cdot \\left(x+2\\right)'_{x}\\cdot \\left(x+4\\right)+\\left(\\left(x\\right)'_{x}+\\left(4\\right)'_{x}\\right)\\cdot \\left({x+2}\\right)^{3}\\right)\\cdot \\left(x+1\\right)\\,\\left({x+3}\\right)^{3}}{\\left({x+2}\\right)^{6}\\,\\left({x+4}\\right)^{2}}$$"
   ]
  },
  {
   "cell_type": "markdown",
   "id": "3c2d9cef",
   "metadata": {},
   "source": [
    "$$ \\dfrac{\\left({x+2}\\right)^{3}\\,\\left(x+4\\right)}{\\left(x+1\\right)\\,\\left({x+3}\\right)^{3}}\\cdot \\frac{\\left(\\left(\\left(x\\right)'_{x}+\\left(1\\right)'_{x}\\right)\\cdot \\left({x+3}\\right)^{3}+3\\,\\left(x+1\\right)\\,\\left({x+3}\\right)^{2}\\cdot \\left(x+3\\right)'_{x}\\right)\\cdot \\left({x+2}\\right)^{3}\\,\\left(x+4\\right)-\\left(3\\,\\left({x+2}\\right)^{2}\\,\\left(x+4\\right)\\cdot \\left(x+2\\right)'_{x}+\\left(\\left(x\\right)'_{x}+\\left(4\\right)'_{x}\\right)\\cdot \\left({x+2}\\right)^{3}\\right)\\cdot \\left(x+1\\right)\\,\\left({x+3}\\right)^{3}}{\\left({x+2}\\right)^{6}\\,\\left({x+4}\\right)^{2}}$$"
   ]
  },
  {
   "cell_type": "markdown",
   "id": "8c76135f",
   "metadata": {},
   "source": [
    "$$ \\dfrac{\\left({x+2}\\right)^{3}\\,\\left(x+4\\right)}{\\left(x+1\\right)\\,\\left({x+3}\\right)^{3}}\\cdot \\frac{\\left(\\left(1+0\\right)\\cdot \\left({x+3}\\right)^{3}+3\\,\\left(x+1\\right)\\,\\left({x+3}\\right)^{2}\\cdot \\left(\\left(x\\right)'_{x}+\\left(3\\right)'_{x}\\right)\\right)\\cdot \\left({x+2}\\right)^{3}\\,\\left(x+4\\right)-\\left(3\\,\\left({x+2}\\right)^{2}\\,\\left(x+4\\right)\\cdot \\left(\\left(x\\right)'_{x}+\\left(2\\right)'_{x}\\right)+\\left(1+0\\right)\\cdot \\left({x+2}\\right)^{3}\\right)\\cdot \\left(x+1\\right)\\,\\left({x+3}\\right)^{3}}{\\left({x+2}\\right)^{6}\\,\\left({x+4}\\right)^{2}}$$"
   ]
  },
  {
   "cell_type": "markdown",
   "id": "592614ac",
   "metadata": {},
   "source": [
    "$$ \\dfrac{\\left({x+2}\\right)^{3}\\,\\left(x+4\\right)}{\\left(x+1\\right)\\,\\left({x+3}\\right)^{3}}\\cdot \\frac{\\left(\\left(1\\right)\\cdot \\left({x+3}\\right)^{3}+3\\,\\left(x+1\\right)\\,\\left({x+3}\\right)^{2}\\cdot \\left(\\left(x\\right)'_{x}+\\left(3\\right)'_{x}\\right)\\right)\\cdot \\left({x+2}\\right)^{3}\\,\\left(x+4\\right)-\\left(3\\,\\left({x+2}\\right)^{2}\\,\\left(x+4\\right)\\cdot \\left(\\left(x\\right)'_{x}+\\left(2\\right)'_{x}\\right)+\\left(1\\right)\\cdot \\left({x+2}\\right)^{3}\\right)\\cdot \\left(x+1\\right)\\,\\left({x+3}\\right)^{3}}{\\left({x+2}\\right)^{6}\\,\\left({x+4}\\right)^{2}}$$"
   ]
  },
  {
   "cell_type": "markdown",
   "id": "c34306c3",
   "metadata": {},
   "source": [
    "$$ \\dfrac{\\left({x+2}\\right)^{3}\\,\\left(x+4\\right)}{\\left(x+1\\right)\\,\\left({x+3}\\right)^{3}}\\cdot \\frac{\\left(\\left({x+3}\\right)^{3}+3\\,\\left(x+1\\right)\\,\\left({x+3}\\right)^{2}\\cdot \\left(1+0\\right)\\right)\\cdot \\left({x+2}\\right)^{3}\\,\\left(x+4\\right)-\\left(3\\,\\left({x+2}\\right)^{2}\\,\\left(x+4\\right)\\cdot \\left(1+0\\right)+\\left({x+2}\\right)^{3}\\right)\\cdot \\left(x+1\\right)\\,\\left({x+3}\\right)^{3}}{\\left({x+2}\\right)^{6}\\,\\left({x+4}\\right)^{2}}$$"
   ]
  },
  {
   "cell_type": "markdown",
   "id": "75b29526",
   "metadata": {},
   "source": [
    "$$\\dfrac{\\left({x+2}\\right)^{3}\\,\\left(x+4\\right)\\,\\left(\\left({x+3}\\right)^{3}+3\\,\\left(x+1\\right)\\,\\left({x+3}\\right)^{2}\\right)-\\left(x+1\\right)\\,\\left({x+3}\\right)^{3}\\,\\left(\\left({x+2}\\right)^{3}+3\\,\\left({x+2}\\right)^{2}\\,\\left(x+4\\right)\\right)}{\\left(x+1\\right)\\,\\left({x+2}\\right)^{3}\\,\\left({x+3}\\right)^{3}\\,\\left(x+4\\right)} $$"
   ]
  },
  {
   "cell_type": "markdown",
   "id": "64cb171a",
   "metadata": {},
   "source": [
    "$$ $$"
   ]
  },
  {
   "cell_type": "markdown",
   "id": "3596aa30",
   "metadata": {},
   "source": [
    "$$7. \\quad y = \\left(\\frac{\\sin^{2}\\left(x\\right)}{\\operatorname{ctg}\\left(x\\right)+1}+\\frac{\\cos^{2}\\left(x\\right)}{\\operatorname{tg}\\left(x\\right)+1}\\right)'_{x}$$"
   ]
  },
  {
   "cell_type": "markdown",
   "id": "365812e7",
   "metadata": {},
   "source": [
    "$$ \\left(\\dfrac{\\cos^{2}\\left(x\\right)}{\\operatorname{tg}\\left(x\\right)+1}\\right)'_{x}+\\left(\\dfrac{\\sin^{2}\\left(x\\right)}{\\operatorname{ctg}\\left(x\\right)+1}\\right)'_{x}$$"
   ]
  },
  {
   "cell_type": "markdown",
   "id": "a8f8986f",
   "metadata": {},
   "source": [
    "$$ \\frac{\\left(\\cos^{2}\\left(x\\right)\\right)'_{x}\\cdot \\left(\\operatorname{tg}\\left(x\\right)+1\\right)-\\left(\\operatorname{tg}\\left(x\\right)+1\\right)'_{x}\\cdot \\cos^{2}\\left(x\\right)}{\\left({\\operatorname{tg}\\left(x\\right)+1}\\right)^{2}}+\\frac{\\left(\\sin^{2}\\left(x\\right)\\right)'_{x}\\cdot \\left(\\operatorname{ctg}\\left(x\\right)+1\\right)-\\left(\\operatorname{ctg}\\left(x\\right)+1\\right)'_{x}\\cdot \\sin^{2}\\left(x\\right)}{\\left({\\operatorname{ctg}\\left(x\\right)+1}\\right)^{2}}$$"
   ]
  },
  {
   "cell_type": "markdown",
   "id": "ade1750c",
   "metadata": {},
   "source": [
    "$$ \\frac{2\\cdot \\cos\\left(x\\right)\\cdot \\left(\\cos\\left(x\\right)\\right)'_{x}\\cdot \\left(\\operatorname{tg}\\left(x\\right)+1\\right)-\\left(\\left(\\operatorname{tg}\\left(x\\right)\\right)'_{x}+\\left(1\\right)'_{x}\\right)\\cdot \\cos^{2}\\left(x\\right)}{\\left({\\operatorname{tg}\\left(x\\right)+1}\\right)^{2}}+\\frac{2\\cdot \\sin\\left(x\\right)\\cdot \\left(\\sin\\left(x\\right)\\right)'_{x}\\cdot \\left(\\operatorname{ctg}\\left(x\\right)+1\\right)-\\left(\\left(\\operatorname{ctg}\\left(x\\right)\\right)'_{x}+\\left(1\\right)'_{x}\\right)\\cdot \\sin^{2}\\left(x\\right)}{\\left({\\operatorname{ctg}\\left(x\\right)+1}\\right)^{2}}$$"
   ]
  },
  {
   "cell_type": "markdown",
   "id": "fdb4dad7",
   "metadata": {},
   "source": [
    "$$ \\frac{2\\,\\cos\\left(x\\right)\\,\\left(\\operatorname{tg}\\left(x\\right)+1\\right)\\cdot \\left(-\\sin\\left(x\\right)\\right)-\\left(\\dfrac{1}{\\cos^{2}\\left(x\\right)}+0\\right)\\cdot \\cos^{2}\\left(x\\right)}{\\left({\\operatorname{tg}\\left(x\\right)+1}\\right)^{2}}+\\frac{2\\,\\left(\\operatorname{ctg}\\left(x\\right)+1\\right)\\,\\sin\\left(x\\right)\\cdot \\cos\\left(x\\right)-\\left(-\\dfrac{1}{\\sin^{2}\\left(x\\right)}+0\\right)\\cdot \\sin^{2}\\left(x\\right)}{\\left({\\operatorname{ctg}\\left(x\\right)+1}\\right)^{2}}$$"
   ]
  },
  {
   "cell_type": "markdown",
   "id": "a67ee203",
   "metadata": {},
   "source": [
    "$$ \\dfrac{-2\\,\\cos\\left(x\\right)\\,\\sin\\left(x\\right)\\,\\left(\\operatorname{tg}\\left(x\\right)+1\\right)-1}{\\left({\\operatorname{tg}\\left(x\\right)+1}\\right)^{2}}+\\dfrac{2\\,\\cos\\left(x\\right)\\,\\left(\\operatorname{ctg}\\left(x\\right)+1\\right)\\,\\sin\\left(x\\right)+1}{\\left({\\operatorname{ctg}\\left(x\\right)+1}\\right)^{2}}$$"
   ]
  },
  {
   "cell_type": "markdown",
   "id": "e0338bbe",
   "metadata": {},
   "source": [
    "$$ $$"
   ]
  },
  {
   "cell_type": "markdown",
   "id": "c7672655",
   "metadata": {},
   "source": [
    "### 2. Найти производную данной функции в точке:"
   ]
  },
  {
   "cell_type": "markdown",
   "id": "b5413ba7",
   "metadata": {},
   "source": [
    "$$ 1 . \\quad y = \\left(\\frac{\\ln\\left(x\\right)}{x}\\right)'_{x}, \\quad x0 = e$$"
   ]
  },
  {
   "cell_type": "code",
   "execution_count": 1,
   "id": "7d7ec314",
   "metadata": {},
   "outputs": [],
   "source": [
    "# решим задание с помощью scipy.misc"
   ]
  },
  {
   "cell_type": "code",
   "execution_count": 29,
   "id": "f1f09e07",
   "metadata": {},
   "outputs": [
    {
     "name": "stdout",
     "output_type": "stream",
     "text": [
      "производная функции в точке x0 = e: 0.0190760043188831\n"
     ]
    }
   ],
   "source": [
    "from scipy.misc import derivative\n",
    "from math import e \n",
    "\n",
    "def f(x):\n",
    "    return log(x) / x\n",
    "\n",
    "print(f'производная функции в точке x0 = e: {derivative(f, e)}')"
   ]
  },
  {
   "cell_type": "markdown",
   "id": "c50a5272",
   "metadata": {},
   "source": [
    "$$2. \\quad y =\\left(\\frac{\\sqrt{x}}{\\sqrt{x}+1}\\right)'_{x}, \\quad x0 = 9 $$"
   ]
  },
  {
   "cell_type": "code",
   "execution_count": 30,
   "id": "b9f8a15d",
   "metadata": {},
   "outputs": [
    {
     "name": "stdout",
     "output_type": "stream",
     "text": [
      "производная функции в точке x0 = e: 0.0104754008058496\n"
     ]
    }
   ],
   "source": [
    "def f(x):\n",
    "    return sqrt(x)/(sqrt(x) + 1)\n",
    "\n",
    "x_0 = 9\n",
    "\n",
    "print(f'производная функции в точке x0 = e: {derivative(f, x_0)}')"
   ]
  },
  {
   "cell_type": "markdown",
   "id": "b2960d3d",
   "metadata": {},
   "source": [
    "### 3. Используя логарифмическую производную, найти производные функций:"
   ]
  },
  {
   "cell_type": "markdown",
   "id": "fb0c574b",
   "metadata": {},
   "source": [
    "$$1. \\quad y = \\left(x^{\\ln\\left(x\\right)}\\right)'_{x}$$"
   ]
  },
  {
   "cell_type": "markdown",
   "id": "653c06d5",
   "metadata": {},
   "source": [
    "$$ \\left({e}^{\\ln^{2}\\left(x\\right)}\\right)'_{x}$$"
   ]
  },
  {
   "cell_type": "markdown",
   "id": "ecfaebcd",
   "metadata": {},
   "source": [
    "$${e}^{\\ln^{2}\\left(x\\right)}\\cdot \\left(\\ln^{2}\\left(x\\right)\\right)'_{x} $$"
   ]
  },
  {
   "cell_type": "markdown",
   "id": "b52d9d0e",
   "metadata": {},
   "source": [
    "$$ {e}^{\\ln^{2}\\left(x\\right)}\\cdot 2\\cdot \\ln\\left(x\\right)\\cdot \\left(\\ln\\left(x\\right)\\right)'_{x}$$"
   ]
  },
  {
   "cell_type": "markdown",
   "id": "c26f8313",
   "metadata": {},
   "source": [
    "$$ 2\\,{e}^{\\ln^{2}\\left(x\\right)}\\,\\ln\\left(x\\right)\\cdot \\left(\\ln\\left(x\\right)\\right)'_{x}$$"
   ]
  },
  {
   "cell_type": "markdown",
   "id": "0fe64ab9",
   "metadata": {},
   "source": [
    "$$ 2\\,{e}^{\\ln^{2}\\left(x\\right)}\\,\\ln\\left(x\\right)\\cdot \\dfrac{1}{x}$$"
   ]
  },
  {
   "cell_type": "markdown",
   "id": "2194195b",
   "metadata": {},
   "source": [
    "$$ 2\\,{x}^{\\ln\\left(x\\right)-1}\\,\\ln\\left(x\\right)$$"
   ]
  },
  {
   "cell_type": "markdown",
   "id": "b7e3478d",
   "metadata": {},
   "source": [
    "$$ $$"
   ]
  },
  {
   "cell_type": "markdown",
   "id": "9c5f911a",
   "metadata": {},
   "source": [
    "$$2. \\quad y = \\left(\\frac{\\left(x^{3}-2\\right)\\,\\sqrt[{3}]{x-1}}{\\left(x+5\\right)^{4}}\\right)'_{x} $$"
   ]
  },
  {
   "cell_type": "markdown",
   "id": "0122d22c",
   "metadata": {},
   "source": [
    "$$ \\frac{\\left(\\sqrt[{3}]{x-1}\\,\\left({x}^{3}-2\\right)\\right)'_{x}\\cdot \\left({x+5}\\right)^{4}-\\left(\\left({x+5}\\right)^{4}\\right)'_{x}\\cdot \\sqrt[{3}]{x-1}\\,\\left({x}^{3}-2\\right)}{\\left({x+5}\\right)^{8}}$$"
   ]
  },
  {
   "cell_type": "markdown",
   "id": "9e244c0d",
   "metadata": {},
   "source": [
    "$$ \\frac{\\left(\\left(\\sqrt[{3}]{x-1}\\right)'_{x}\\cdot \\left({x}^{3}-2\\right)+\\left({x}^{3}-2\\right)'_{x}\\cdot \\sqrt[{3}]{x-1}\\right)\\cdot \\left({x+5}\\right)^{4}-4\\cdot \\left({x+5}\\right)^{3}\\cdot \\left(x+5\\right)'_{x}\\cdot \\sqrt[{3}]{x-1}\\,\\left({x}^{3}-2\\right)}{\\left({x+5}\\right)^{8}}$$"
   ]
  },
  {
   "cell_type": "markdown",
   "id": "3470c6e5",
   "metadata": {},
   "source": [
    "$$ \\frac{\\left(\\dfrac{1}{3}\\cdot \\dfrac{1}{\\sqrt[{3}]{\\left({x-1}\\right)^{2}}}\\cdot \\left(x-1\\right)'_{x}\\cdot \\left({x}^{3}-2\\right)+\\left(\\left({x}^{3}\\right)'_{x}-\\left(2\\right)'_{x}\\right)\\cdot \\sqrt[{3}]{x-1}\\right)\\cdot \\left({x+5}\\right)^{4}-4\\,\\sqrt[{3}]{x-1}\\,\\left({x+5}\\right)^{3}\\,\\left({x}^{3}-2\\right)\\cdot \\left(\\left(x\\right)'_{x}+\\left(5\\right)'_{x}\\right)}{\\left({x+5}\\right)^{8}}$$"
   ]
  },
  {
   "cell_type": "markdown",
   "id": "9ace8338",
   "metadata": {},
   "source": [
    "$$ \\frac{\\left(\\dfrac{{x}^{3}-2}{3\\,\\sqrt[{3}]{\\left({x-1}\\right)^{2}}}\\cdot \\left(\\left(x\\right)'_{x}-\\left(1\\right)'_{x}\\right)+\\left(3\\cdot {x}^{2}-0\\right)\\cdot \\sqrt[{3}]{x-1}\\right)\\cdot \\left({x+5}\\right)^{4}-4\\,\\sqrt[{3}]{x-1}\\,\\left({x+5}\\right)^{3}\\,\\left({x}^{3}-2\\right)\\cdot \\left(1+0\\right)}{\\left({x+5}\\right)^{8}}$$"
   ]
  },
  {
   "cell_type": "markdown",
   "id": "e4665e99",
   "metadata": {},
   "source": [
    "$$ \\frac{\\left(\\dfrac{{x}^{3}-2}{3\\,\\sqrt[{3}]{\\left({x-1}\\right)^{2}}}\\cdot \\left(1-0\\right)+3\\,\\sqrt[{3}]{x-1}\\,{x}^{2}\\right)\\cdot \\left({x+5}\\right)^{4}-4\\,\\sqrt[{3}]{x-1}\\,\\left({x+5}\\right)^{3}\\,\\left({x}^{3}-2\\right)}{\\left({x+5}\\right)^{8}}$$"
   ]
  },
  {
   "cell_type": "markdown",
   "id": "9c8ca639",
   "metadata": {},
   "source": [
    "$$ \\dfrac{\\left({x+5}\\right)^{4}\\,\\left(\\dfrac{{x}^{3}-2}{3\\,\\sqrt[{3}]{\\left({x-1}\\right)^{2}}}+3\\,\\sqrt[{3}]{x-1}\\,{x}^{2}\\right)-4\\,\\sqrt[{3}]{x-1}\\,\\left({x+5}\\right)^{3}\\,\\left({x}^{3}-2\\right)}{\\left({x+5}\\right)^{8}}$$"
   ]
  },
  {
   "cell_type": "markdown",
   "id": "7d381f0f",
   "metadata": {},
   "source": [
    "$$ $$"
   ]
  },
  {
   "cell_type": "markdown",
   "id": "0f2819ed",
   "metadata": {},
   "source": [
    "$$3. \\quad y =  \\left(\\operatorname{tg}^{\\cos\\left(x\\right)}\\left(x\\right)\\right)'_{x}$$"
   ]
  },
  {
   "cell_type": "markdown",
   "id": "c7573d96",
   "metadata": {},
   "source": [
    "$$ \\left({e}^{\\cos\\left(x\\right)\\,\\ln\\left(\\operatorname{tg}\\left(x\\right)\\right)}\\right)'_{x}$$"
   ]
  },
  {
   "cell_type": "markdown",
   "id": "39be9cbb",
   "metadata": {},
   "source": [
    "$$ {e}^{\\cos\\left(x\\right)\\,\\ln\\left(\\operatorname{tg}\\left(x\\right)\\right)}\\cdot \\left(\\cos\\left(x\\right)\\,\\ln\\left(\\operatorname{tg}\\left(x\\right)\\right)\\right)'_{x}$$"
   ]
  },
  {
   "cell_type": "markdown",
   "id": "aac51d4d",
   "metadata": {},
   "source": [
    "$$ {e}^{\\cos\\left(x\\right)\\,\\ln\\left(\\operatorname{tg}\\left(x\\right)\\right)}\\cdot \\left(\\left(\\cos\\left(x\\right)\\right)'_{x}\\cdot \\ln\\left(\\operatorname{tg}\\left(x\\right)\\right)+\\left(\\ln\\left(\\operatorname{tg}\\left(x\\right)\\right)\\right)'_{x}\\cdot \\cos\\left(x\\right)\\right)$$"
   ]
  },
  {
   "cell_type": "markdown",
   "id": "bdba7d18",
   "metadata": {},
   "source": [
    "$${e}^{\\cos\\left(x\\right)\\,\\ln\\left(\\operatorname{tg}\\left(x\\right)\\right)}\\cdot \\left(-\\sin\\left(x\\right)\\cdot \\ln\\left(\\operatorname{tg}\\left(x\\right)\\right)+\\dfrac{1}{\\operatorname{tg}\\left(x\\right)}\\cdot \\left(\\operatorname{tg}\\left(x\\right)\\right)'_{x}\\cdot \\cos\\left(x\\right)\\right) $$"
   ]
  },
  {
   "cell_type": "markdown",
   "id": "a72d4ace",
   "metadata": {},
   "source": [
    "$${e}^{\\cos\\left(x\\right)\\,\\ln\\left(\\operatorname{tg}\\left(x\\right)\\right)}\\cdot \\left(-\\sin\\left(x\\right)\\,\\ln\\left(\\operatorname{tg}\\left(x\\right)\\right)+\\dfrac{\\cos\\left(x\\right)}{\\operatorname{tg}\\left(x\\right)}\\cdot \\dfrac{1}{\\cos^{2}\\left(x\\right)}\\right) $$"
   ]
  },
  {
   "cell_type": "markdown",
   "id": "1313f5f5",
   "metadata": {},
   "source": [
    "$$ \\operatorname{tg}^{\\cos\\left(x\\right)}\\left(x\\right)\\,\\left(\\dfrac{1}{\\cos\\left(x\\right)\\,\\operatorname{tg}\\left(x\\right)}-\\sin\\left(x\\right)\\,\\ln\\left(\\operatorname{tg}\\left(x\\right)\\right)\\right)$$"
   ]
  },
  {
   "cell_type": "markdown",
   "id": "0579180d",
   "metadata": {},
   "source": [
    "$$ $$"
   ]
  },
  {
   "cell_type": "code",
   "execution_count": null,
   "id": "219a3cf9",
   "metadata": {},
   "outputs": [],
   "source": []
  }
 ],
 "metadata": {
  "kernelspec": {
   "display_name": "Python 3 (ipykernel)",
   "language": "python",
   "name": "python3"
  },
  "language_info": {
   "codemirror_mode": {
    "name": "ipython",
    "version": 3
   },
   "file_extension": ".py",
   "mimetype": "text/x-python",
   "name": "python",
   "nbconvert_exporter": "python",
   "pygments_lexer": "ipython3",
   "version": "3.9.12"
  }
 },
 "nbformat": 4,
 "nbformat_minor": 5
}
