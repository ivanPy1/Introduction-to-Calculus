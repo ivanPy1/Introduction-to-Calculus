{
 "cells": [
  {
   "cell_type": "markdown",
   "id": "1a0ae273",
   "metadata": {},
   "source": [
    "# Практическое задание"
   ]
  },
  {
   "cell_type": "markdown",
   "id": "433ec454",
   "metadata": {},
   "source": [
    "### Урок 10. Интеграл. Ряды. Часть 1"
   ]
  },
  {
   "cell_type": "markdown",
   "id": "06c094ec",
   "metadata": {},
   "source": [
    "$$ \\int{\\dfrac{{x}^{4}+{x}^{2}-6\\,x}{{x}^{3}}}{\\;\\mathrm{d}x} $$"
   ]
  },
  {
   "cell_type": "markdown",
   "id": "c9b7ad8a",
   "metadata": {},
   "source": [
    "$$ \\int{x+\\dfrac{1}{x}-\\dfrac{6}{{x}^{2}}}{\\;\\mathrm{d}x} $$"
   ]
  },
  {
   "cell_type": "markdown",
   "id": "26c765c4",
   "metadata": {},
   "source": [
    "$$ \\int{x}{\\;\\mathrm{d}x}+\\int{\\dfrac{1}{x}}{\\;\\mathrm{d}x}-6\\int{\\dfrac{1}{{x}^{2}}}{\\;\\mathrm{d}x}= \\int{x}{\\;\\mathrm{d}x} + \\int{\\dfrac{1}{x}}{\\;\\mathrm{d}x} - 6 · \\int{\\dfrac{1}{{x}^{2}}}{\\;\\mathrm{d}x} = \\ln\\left(\\left|x\\right|\\right)+\\dfrac{{x}^{3}+12}{2\\,x} +C$$"
   ]
  },
  {
   "cell_type": "markdown",
   "id": "f39611c2",
   "metadata": {},
   "source": [
    "$$ ***************** $$"
   ]
  },
  {
   "cell_type": "markdown",
   "id": "ef7f6da4",
   "metadata": {},
   "source": [
    "$$ \\int{\\cos\\left(2\\,x\\right)}{\\;\\mathrm{d}x} $$"
   ]
  },
  {
   "cell_type": "markdown",
   "id": "8d2ce4c8",
   "metadata": {},
   "source": [
    "$$\\int{\\dfrac{\\cos\\left(u\\right)}{2}}{\\;\\mathrm{d}u}$$"
   ]
  },
  {
   "cell_type": "markdown",
   "id": "b7ae707a",
   "metadata": {},
   "source": [
    "$$\\dfrac{1}{2}\\cdot\\sin\\left(u\\right)=\\dfrac{\\sin\\left(u\\right)}{2}$$"
   ]
  },
  {
   "cell_type": "markdown",
   "id": "a7ec0f68",
   "metadata": {},
   "source": [
    "$$ \\dfrac{\\sin\\left(2\\,x\\right)}{2}+C $$"
   ]
  },
  {
   "cell_type": "markdown",
   "id": "d91ee28e",
   "metadata": {},
   "source": [
    "$$*****************$$"
   ]
  },
  {
   "cell_type": "markdown",
   "id": "66be8b0e",
   "metadata": {},
   "source": [
    "$$\\int{\\dfrac{5\\,x-1}{\\sqrt{4-{x}^{2}}}}{\\;\\mathrm{d}x}$$"
   ]
  },
  {
   "cell_type": "markdown",
   "id": "e18b977c",
   "metadata": {},
   "source": [
    "$$ \\int{\\dfrac{5\\,x}{\\sqrt{4-{x}^{2}}}-\\dfrac{1}{\\sqrt{4-{x}^{2}}}}{\\;\\mathrm{d}x} $$"
   ]
  },
  {
   "cell_type": "markdown",
   "id": "98bec89f",
   "metadata": {},
   "source": [
    "$$5\\int{\\dfrac{x}{\\sqrt{4-{x}^{2}}}}{\\;\\mathrm{d}x}-\\int{\\dfrac{1}{\\sqrt{4-{x}^{2}}}}{\\;\\mathrm{d}x}= 5 · \\int{\\dfrac{x}{\\sqrt{4-{x}^{2}}}}{\\;\\mathrm{d}x} -  \\int{\\dfrac{1}{\\sqrt{4-{x}^{2}}}}{\\;\\mathrm{d}x} = -5\\,\\sqrt{4-{x}^{2}}-\\arcsin\\left(\\frac{x}{2}\\right) +C$$"
   ]
  },
  {
   "cell_type": "markdown",
   "id": "6e115092",
   "metadata": {},
   "source": [
    "$$*****************$$"
   ]
  },
  {
   "cell_type": "markdown",
   "id": "9ef6e7c0",
   "metadata": {},
   "source": [
    "$$\\int{{x}^{2}\\,\\cos\\left(x\\right)}{\\;\\mathrm{d}x}$$"
   ]
  },
  {
   "cell_type": "markdown",
   "id": "adf84970",
   "metadata": {},
   "source": [
    "$${x}^{2}\\,\\sin\\left(x\\right)-\\int{2\\,x\\,\\sin\\left(x\\right)}{\\;\\mathrm{d}x}= x^2 - sin(x) - \\int{2\\,x\\,\\sin\\left(x\\right)}{\\;\\mathrm{d}x} ={x}^{2}\\,\\sin\\left(x\\right)-2\\,\\sin\\left(x\\right)+2\\,x\\,\\cos\\left(x\\right) +C$$"
   ]
  },
  {
   "cell_type": "markdown",
   "id": "f62aa9ce",
   "metadata": {},
   "source": [
    "$$*******************$$"
   ]
  },
  {
   "cell_type": "markdown",
   "id": "e3ff2fd2",
   "metadata": {},
   "source": [
    "$$\\int{a\\,c\\,r\\,\\operatorname{tg}\\left(x\\right)}{\\;\\mathrm{d}x}$$"
   ]
  },
  {
   "cell_type": "markdown",
   "id": "31a0eea0",
   "metadata": {},
   "source": [
    "$$a\\,c\\,r\\int{\\dfrac{\\sin\\left(x\\right)}{\\cos\\left(x\\right)}}{\\;\\mathrm{d}x}$$"
   ]
  },
  {
   "cell_type": "markdown",
   "id": "297c7921",
   "metadata": {},
   "source": [
    "$$a\\,c\\,r\\int{-\\dfrac{1}{u}}{\\;\\mathrm{d}u}$$"
   ]
  },
  {
   "cell_type": "markdown",
   "id": "4e391781",
   "metadata": {},
   "source": [
    "$$ -a\\,c\\,r\\cdot\\ln\\left(\\left|u\\right|\\right)=-a\\,c\\,r\\,\\ln\\left(\\left|u\\right|\\right)$$"
   ]
  },
  {
   "cell_type": "markdown",
   "id": "c33c0357",
   "metadata": {},
   "source": [
    "$$ -a\\,c\\,r\\,\\ln\\left(\\left|\\cos\\left(x\\right)\\right|\\right)+C$$"
   ]
  },
  {
   "cell_type": "markdown",
   "id": "2637dc56",
   "metadata": {},
   "source": [
    "$$ ******************** $$"
   ]
  },
  {
   "cell_type": "markdown",
   "id": "95bdde25",
   "metadata": {},
   "source": [
    "$$\\int{\\sqrt[{3}]{x}\\,·\\sqrt[{3}]{1+3\\,·\\sqrt[{3}]{x^{2}}}}{\\;\\mathrm{d}x}$$"
   ]
  },
  {
   "cell_type": "markdown",
   "id": "e789c959",
   "metadata": {},
   "source": [
    "$$\\int{\\dfrac{\\left(u-1\\right)\\,\\sqrt[{3}]{u}}{6}}{\\;\\mathrm{d}u}$$"
   ]
  },
  {
   "cell_type": "markdown",
   "id": "7cb75b77",
   "metadata": {},
   "source": [
    "$$\\dfrac{1}{6}\\int{{u}^{\\frac{4}{3}}-\\sqrt[{3}]{u}}{\\;\\mathrm{d}u}$$"
   ]
  },
  {
   "cell_type": "markdown",
   "id": "7bd41c4e",
   "metadata": {},
   "source": [
    "$$\\dfrac{1}{6}\\left(\\int{{u}^{\\frac{4}{3}}}{\\;\\mathrm{d}u}-\\int{\\sqrt[{3}]{u}}{\\;\\mathrm{d}u}\\right)= {\\frac{1}{6}}(\\int{{u}^{\\frac{4}{3}}}{\\;\\mathrm{d}u} - \\int{\\sqrt[{3}]{u}}{\\;\\mathrm{d}u}) =\\dfrac{{u}^{\\frac{7}{3}}}{14}-\\dfrac{{u}^{\\frac{4}{3}}}{8}  = \\dfrac{9\\,\\sqrt[{3}]{3\\,\\sqrt[{3}]{{x}^{2}}+1}\\,{x}^{\\frac{4}{3}}}{14}+\\dfrac{3\\,\\sqrt[{3}]{3\\,\\sqrt[{3}]{{x}^{2}}+1}\\,\\sqrt[{3}]{{x}^{2}}}{56}-\\dfrac{3\\,\\sqrt[{3}]{3\\,\\sqrt[{3}]{{x}^{2}}+1}}{56}+C$$ "
   ]
  },
  {
   "cell_type": "markdown",
   "id": "60a8828b",
   "metadata": {},
   "source": [
    "$$ ***************** $$"
   ]
  },
  {
   "cell_type": "markdown",
   "id": "1fdf343c",
   "metadata": {},
   "source": [
    "$$\\int{\\cos\\left(5\\,x\\right)\\,\\cos\\left(3\\,x\\right)}{\\;\\mathrm{d}x}$$"
   ]
  },
  {
   "cell_type": "markdown",
   "id": "ef81c786",
   "metadata": {},
   "source": [
    "$$ \\int{\\dfrac{\\cos\\left(8\\,x\\right)+\\cos\\left(2\\,x\\right)}{2}}{\\;\\mathrm{d}x}$$"
   ]
  },
  {
   "cell_type": "markdown",
   "id": "a447d984",
   "metadata": {},
   "source": [
    "$$\\dfrac{1}{2}\\int{\\cos\\left(8\\,x\\right)}{\\;\\mathrm{d}x}+\\dfrac{1}{2}\\int{\\cos\\left(2\\,x\\right)}{\\;\\mathrm{d}x}= \\frac{1}{2}·\\int{\\cos\\left(8\\,x\\right)}{\\;\\mathrm{d}x} + \\frac{1}{2}· \\int{\\cos\\left(2\\,x\\right)}{\\;\\mathrm{d}x} = \\dfrac{\\sin\\left(8\\,x\\right)}{16}+\\dfrac{\\sin\\left(2\\,x\\right)}{4}+C$$"
   ]
  },
  {
   "cell_type": "markdown",
   "id": "5b4ae7c6",
   "metadata": {},
   "source": [
    "$$*****************$$"
   ]
  },
  {
   "cell_type": "markdown",
   "id": "2301986f",
   "metadata": {},
   "source": [
    "$$\\int\\limits_{\\scriptsize 0}^{\\scriptsize \\pi}{2\\,x+\\sin\\left(2\\,x\\right)}{\\;\\mathrm{d}x}$$"
   ]
  },
  {
   "cell_type": "markdown",
   "id": "e4db01bc",
   "metadata": {},
   "source": [
    "$$\\int{\\sin\\left(2\\,x\\right)}{\\;\\mathrm{d}x}+2\\int{x}{\\;\\mathrm{d}x}= \\int{\\sin\\left(2\\,x\\right)}{\\;\\mathrm{d}x} + 2 ·\\int{x}{\\;\\mathrm{d}x} ={x}^{2}-\\dfrac{\\cos\\left(2\\,x\\right)}{2}$$"
   ]
  },
  {
   "cell_type": "markdown",
   "id": "efee02e7",
   "metadata": {},
   "source": [
    "$$F\\left(x\\right)={x}^{2}-\\dfrac{\\cos\\left(2\\,x\\right)}{2}$$"
   ]
  },
  {
   "cell_type": "markdown",
   "id": "517c8920",
   "metadata": {},
   "source": [
    "$$F\\left(\\pi\\right)={\\pi}^{2}-\\dfrac{1}{2}$$"
   ]
  },
  {
   "cell_type": "markdown",
   "id": "3ecf5d7c",
   "metadata": {},
   "source": [
    "$$F\\left(0\\right)=-\\dfrac{1}{2}$$"
   ]
  },
  {
   "cell_type": "markdown",
   "id": "22c7f083",
   "metadata": {},
   "source": [
    "$${\\pi}^{2}$$"
   ]
  },
  {
   "cell_type": "markdown",
   "id": "28c2901a",
   "metadata": {},
   "source": [
    "$$****************$$"
   ]
  },
  {
   "cell_type": "markdown",
   "id": "698fc1b5",
   "metadata": {},
   "source": [
    "$$\\int\\limits_{\\scriptsize 0}^{\\scriptsize 1}{\\ln\\left(x\\right)}{\\;\\mathrm{d}x}$$"
   ]
  },
  {
   "cell_type": "markdown",
   "id": "27764305",
   "metadata": {},
   "source": [
    "$$ x\\,\\ln\\left(x\\right)-\\int{1}{\\;\\mathrm{d}x}= xln(x) - \\int{1}{\\;\\mathrm{d}x} = x\\,\\ln\\left(x\\right)-x$$"
   ]
  },
  {
   "cell_type": "markdown",
   "id": "7378213a",
   "metadata": {},
   "source": [
    "$$F\\left(x\\right)=x\\,\\ln\\left(x\\right)-x$$"
   ]
  },
  {
   "cell_type": "markdown",
   "id": "71763f64",
   "metadata": {},
   "source": [
    "$$\\lim_{\\delta\\to 0}F\\left(0+\\delta\\right)=0$$"
   ]
  },
  {
   "cell_type": "markdown",
   "id": "44f2630d",
   "metadata": {},
   "source": [
    "$$F\\left(1\\right)=-1$$"
   ]
  },
  {
   "cell_type": "markdown",
   "id": "3cb56420",
   "metadata": {},
   "source": [
    "$$-1$$"
   ]
  }
 ],
 "metadata": {
  "kernelspec": {
   "display_name": "Python 3 (ipykernel)",
   "language": "python",
   "name": "python3"
  },
  "language_info": {
   "codemirror_mode": {
    "name": "ipython",
    "version": 3
   },
   "file_extension": ".py",
   "mimetype": "text/x-python",
   "name": "python",
   "nbconvert_exporter": "python",
   "pygments_lexer": "ipython3",
   "version": "3.9.12"
  }
 },
 "nbformat": 4,
 "nbformat_minor": 5
}
